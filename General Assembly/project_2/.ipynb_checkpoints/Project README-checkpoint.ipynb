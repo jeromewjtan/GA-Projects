{
 "cells": [
  {
   "cell_type": "markdown",
   "metadata": {},
   "source": [
    "# ![](https://ga-dash.s3.amazonaws.com/production/assets/logo-9f88ae6c9c3871690e33280fcf557f33.png) Project 2: Ames Housing Data and Kaggle Challenge\n"
   ]
  },
  {
   "cell_type": "markdown",
   "metadata": {},
   "source": [
    "## Problem Statement"
   ]
  },
  {
   "cell_type": "markdown",
   "metadata": {},
   "source": [
    "To determine which features affect sales price of houses in Ames, Iowa in order to predict future sales price of houses."
   ]
  },
  {
   "cell_type": "markdown",
   "metadata": {},
   "source": [
    "## Executive Summary"
   ]
  },
  {
   "cell_type": "markdown",
   "metadata": {},
   "source": [
    "Housing prices are dependent upon the features of a house, which may increase or decrease it's sale price. This project explores the relationship between these features and attempts to create a regression model that is able to accurately predict the prices of future house sales."
   ]
  },
  {
   "cell_type": "markdown",
   "metadata": {},
   "source": [
    "## Conclusion"
   ]
  },
  {
   "cell_type": "markdown",
   "metadata": {},
   "source": [
    "After efforts to find which features would be strong predictors of a house's sales price through methods such as Reverse Feature Elimination(RFE), Variance Inflation Factor(VIF) and t-test, our final list of features consists of:\n",
    "\n",
    "1. Lot Frontage\n",
    "2. Lot Area\n",
    "3. Overall Qual\n",
    "4. Overall Cond\n",
    "5. Year Built\n",
    "6. Mas Vnr Area\n",
    "7. Exter Qual\n",
    "8. Bsmt Qual\n",
    "9. Bsmt Cond\n",
    "10. Bsmt Exposure\n",
    "11. Total Bsmt Sf\n",
    "12. Gr Liv Area\n",
    "13. Bedroom Abvgr\n",
    "14. Kitchen Abvgr\n",
    "15. Kitchen Qual\n",
    "16. Totrms Abvgrd\n",
    "17. Functional\n",
    "18. Fireplace Qu\n",
    "19. Garage Area\n",
    "20. Garage Qual\n",
    "22. Neighborhood\n",
    "23. Bldg Type\n",
    "24. Garage Type\n",
    "25. Misc Feature\n",
    "26. Ms Subclass"
   ]
  }
 ],
 "metadata": {
  "kernelspec": {
   "display_name": "Python 3",
   "language": "python",
   "name": "python3"
  },
  "language_info": {
   "codemirror_mode": {
    "name": "ipython",
    "version": 3
   },
   "file_extension": ".py",
   "mimetype": "text/x-python",
   "name": "python",
   "nbconvert_exporter": "python",
   "pygments_lexer": "ipython3",
   "version": "3.7.1"
  }
 },
 "nbformat": 4,
 "nbformat_minor": 2
}

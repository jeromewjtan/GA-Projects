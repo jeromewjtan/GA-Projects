{
 "cells": [
  {
   "cell_type": "markdown",
   "metadata": {},
   "source": [
    "# Project 3: Reddit API"
   ]
  },
  {
   "cell_type": "markdown",
   "metadata": {},
   "source": [
    "## Problem Statement"
   ]
  },
  {
   "cell_type": "markdown",
   "metadata": {},
   "source": [
    "To use data scrapped from reddit and create a model that is able to alert us of troll posts(that should be on r/Jokes) instead of r/askscience."
   ]
  },
  {
   "cell_type": "markdown",
   "metadata": {},
   "source": [
    "## Importing libraries"
   ]
  },
  {
   "cell_type": "code",
   "execution_count": 1,
   "metadata": {},
   "outputs": [],
   "source": [
    "import pandas as pd\n",
    "import numpy as np\n",
    "import matplotlib.pyplot as plt\n",
    "import seaborn as sns\n",
    "from sklearn.model_selection import train_test_split, GridSearchCV\n",
    "from sklearn.pipeline import Pipeline\n",
    "from sklearn.feature_extraction.text import TfidfVectorizer, CountVectorizer\n",
    "from sklearn.linear_model import LogisticRegression\n",
    "from sklearn.metrics import accuracy_score\n",
    "from nltk.tokenize import RegexpTokenizer\n",
    "from nltk.stem import WordNetLemmatizer\n",
    "from nltk.corpus import stopwords\n",
    "from PIL import Image\n",
    "from wordcloud import ImageColorGenerator, WordCloud\n",
    "from sklearn.naive_bayes import MultinomialNB\n",
    "from sklearn.metrics import confusion_matrix\n",
    "from sklearn.metrics import roc_auc_score\n",
    "\n",
    "\n",
    "\n",
    "%matplotlib inline"
   ]
  },
  {
   "cell_type": "markdown",
   "metadata": {},
   "source": [
    "## Data Cleaning"
   ]
  },
  {
   "cell_type": "code",
   "execution_count": 2,
   "metadata": {},
   "outputs": [],
   "source": [
    "# importing our dataset csv\n",
    "\n",
    "reddit_df = pd.read_csv('./reddit.csv')"
   ]
  },
  {
   "cell_type": "code",
   "execution_count": 3,
   "metadata": {},
   "outputs": [
    {
     "data": {
      "text/html": [
       "<div>\n",
       "<style scoped>\n",
       "    .dataframe tbody tr th:only-of-type {\n",
       "        vertical-align: middle;\n",
       "    }\n",
       "\n",
       "    .dataframe tbody tr th {\n",
       "        vertical-align: top;\n",
       "    }\n",
       "\n",
       "    .dataframe thead th {\n",
       "        text-align: right;\n",
       "    }\n",
       "</style>\n",
       "<table border=\"1\" class=\"dataframe\">\n",
       "  <thead>\n",
       "    <tr style=\"text-align: right;\">\n",
       "      <th></th>\n",
       "      <th>Unnamed: 0</th>\n",
       "      <th>title</th>\n",
       "      <th>selftext</th>\n",
       "      <th>subreddit</th>\n",
       "    </tr>\n",
       "  </thead>\n",
       "  <tbody>\n",
       "    <tr>\n",
       "      <th>0</th>\n",
       "      <td>0</td>\n",
       "      <td>r/jokes has a discord and you need to join!</td>\n",
       "      <td>Over 10k members!  Come see reposts in real ti...</td>\n",
       "      <td>Jokes</td>\n",
       "    </tr>\n",
       "    <tr>\n",
       "      <th>1</th>\n",
       "      <td>1</td>\n",
       "      <td>When I was a kid, Santa gave me a lump of coal...</td>\n",
       "      <td>Somehow the bastard found out and killed my dad.</td>\n",
       "      <td>Jokes</td>\n",
       "    </tr>\n",
       "    <tr>\n",
       "      <th>2</th>\n",
       "      <td>2</td>\n",
       "      <td>A son walks in on his parents having sex NSFW</td>\n",
       "      <td>The parents see the boy and he runs off to his...</td>\n",
       "      <td>Jokes</td>\n",
       "    </tr>\n",
       "    <tr>\n",
       "      <th>3</th>\n",
       "      <td>3</td>\n",
       "      <td>[NSFW] A doctor is giving a tour of a local ho...</td>\n",
       "      <td>One day a public health official goes to visit...</td>\n",
       "      <td>Jokes</td>\n",
       "    </tr>\n",
       "    <tr>\n",
       "      <th>4</th>\n",
       "      <td>4</td>\n",
       "      <td>Genie: You have 3 wishes.</td>\n",
       "      <td>Me: I've seen this before. Whatever I wish for...</td>\n",
       "      <td>Jokes</td>\n",
       "    </tr>\n",
       "  </tbody>\n",
       "</table>\n",
       "</div>"
      ],
      "text/plain": [
       "   Unnamed: 0                                              title  \\\n",
       "0           0        r/jokes has a discord and you need to join!   \n",
       "1           1  When I was a kid, Santa gave me a lump of coal...   \n",
       "2           2      A son walks in on his parents having sex NSFW   \n",
       "3           3  [NSFW] A doctor is giving a tour of a local ho...   \n",
       "4           4                          Genie: You have 3 wishes.   \n",
       "\n",
       "                                            selftext subreddit  \n",
       "0  Over 10k members!  Come see reposts in real ti...     Jokes  \n",
       "1   Somehow the bastard found out and killed my dad.     Jokes  \n",
       "2  The parents see the boy and he runs off to his...     Jokes  \n",
       "3  One day a public health official goes to visit...     Jokes  \n",
       "4  Me: I've seen this before. Whatever I wish for...     Jokes  "
      ]
     },
     "execution_count": 3,
     "metadata": {},
     "output_type": "execute_result"
    }
   ],
   "source": [
    "reddit_df.head()"
   ]
  },
  {
   "cell_type": "code",
   "execution_count": 4,
   "metadata": {},
   "outputs": [],
   "source": [
    "# Deleting column 'Unnamed: 0'.\n",
    "\n",
    "reddit_df.drop('Unnamed: 0', axis=1, inplace=True)"
   ]
  },
  {
   "cell_type": "code",
   "execution_count": 5,
   "metadata": {},
   "outputs": [
    {
     "data": {
      "text/html": [
       "<div>\n",
       "<style scoped>\n",
       "    .dataframe tbody tr th:only-of-type {\n",
       "        vertical-align: middle;\n",
       "    }\n",
       "\n",
       "    .dataframe tbody tr th {\n",
       "        vertical-align: top;\n",
       "    }\n",
       "\n",
       "    .dataframe thead th {\n",
       "        text-align: right;\n",
       "    }\n",
       "</style>\n",
       "<table border=\"1\" class=\"dataframe\">\n",
       "  <thead>\n",
       "    <tr style=\"text-align: right;\">\n",
       "      <th></th>\n",
       "      <th>title</th>\n",
       "      <th>selftext</th>\n",
       "      <th>subreddit</th>\n",
       "    </tr>\n",
       "  </thead>\n",
       "  <tbody>\n",
       "    <tr>\n",
       "      <th>0</th>\n",
       "      <td>r/jokes has a discord and you need to join!</td>\n",
       "      <td>Over 10k members!  Come see reposts in real ti...</td>\n",
       "      <td>Jokes</td>\n",
       "    </tr>\n",
       "    <tr>\n",
       "      <th>1</th>\n",
       "      <td>When I was a kid, Santa gave me a lump of coal...</td>\n",
       "      <td>Somehow the bastard found out and killed my dad.</td>\n",
       "      <td>Jokes</td>\n",
       "    </tr>\n",
       "    <tr>\n",
       "      <th>2</th>\n",
       "      <td>A son walks in on his parents having sex NSFW</td>\n",
       "      <td>The parents see the boy and he runs off to his...</td>\n",
       "      <td>Jokes</td>\n",
       "    </tr>\n",
       "    <tr>\n",
       "      <th>3</th>\n",
       "      <td>[NSFW] A doctor is giving a tour of a local ho...</td>\n",
       "      <td>One day a public health official goes to visit...</td>\n",
       "      <td>Jokes</td>\n",
       "    </tr>\n",
       "    <tr>\n",
       "      <th>4</th>\n",
       "      <td>Genie: You have 3 wishes.</td>\n",
       "      <td>Me: I've seen this before. Whatever I wish for...</td>\n",
       "      <td>Jokes</td>\n",
       "    </tr>\n",
       "  </tbody>\n",
       "</table>\n",
       "</div>"
      ],
      "text/plain": [
       "                                               title  \\\n",
       "0        r/jokes has a discord and you need to join!   \n",
       "1  When I was a kid, Santa gave me a lump of coal...   \n",
       "2      A son walks in on his parents having sex NSFW   \n",
       "3  [NSFW] A doctor is giving a tour of a local ho...   \n",
       "4                          Genie: You have 3 wishes.   \n",
       "\n",
       "                                            selftext subreddit  \n",
       "0  Over 10k members!  Come see reposts in real ti...     Jokes  \n",
       "1   Somehow the bastard found out and killed my dad.     Jokes  \n",
       "2  The parents see the boy and he runs off to his...     Jokes  \n",
       "3  One day a public health official goes to visit...     Jokes  \n",
       "4  Me: I've seen this before. Whatever I wish for...     Jokes  "
      ]
     },
     "execution_count": 5,
     "metadata": {},
     "output_type": "execute_result"
    }
   ],
   "source": [
    "reddit_df.head()"
   ]
  },
  {
   "cell_type": "code",
   "execution_count": 6,
   "metadata": {},
   "outputs": [
    {
     "name": "stdout",
     "output_type": "stream",
     "text": [
      "<class 'pandas.core.frame.DataFrame'>\n",
      "RangeIndex: 1984 entries, 0 to 1983\n",
      "Data columns (total 3 columns):\n",
      "title        1984 non-null object\n",
      "selftext     1668 non-null object\n",
      "subreddit    1984 non-null object\n",
      "dtypes: object(3)\n",
      "memory usage: 46.6+ KB\n"
     ]
    }
   ],
   "source": [
    "# Checking for null values\n",
    "reddit_df.info()"
   ]
  },
  {
   "cell_type": "code",
   "execution_count": 7,
   "metadata": {},
   "outputs": [],
   "source": [
    "# Replacing null values with empty string\n",
    "reddit_df.fillna('', inplace=True)"
   ]
  },
  {
   "cell_type": "code",
   "execution_count": 8,
   "metadata": {},
   "outputs": [
    {
     "name": "stdout",
     "output_type": "stream",
     "text": [
      "<class 'pandas.core.frame.DataFrame'>\n",
      "RangeIndex: 1984 entries, 0 to 1983\n",
      "Data columns (total 3 columns):\n",
      "title        1984 non-null object\n",
      "selftext     1984 non-null object\n",
      "subreddit    1984 non-null object\n",
      "dtypes: object(3)\n",
      "memory usage: 46.6+ KB\n"
     ]
    }
   ],
   "source": [
    "reddit_df.info()"
   ]
  },
  {
   "cell_type": "code",
   "execution_count": 9,
   "metadata": {},
   "outputs": [],
   "source": [
    "# changing our subreddit column to binary so that we can use it for our classification models.\n",
    "# Since we want to be alerted of posts that do not belong to r/askscience, we will indicate askscience as 0.\n",
    "# Therefore, 1 for jokes, 0 for askscience.\n",
    "reddit_df['subreddit'] = reddit_df['subreddit'].map({'Jokes':1,'askscience':0})"
   ]
  },
  {
   "cell_type": "code",
   "execution_count": 10,
   "metadata": {},
   "outputs": [
    {
     "data": {
      "text/plain": [
       "0    1000\n",
       "1     984\n",
       "Name: subreddit, dtype: int64"
      ]
     },
     "execution_count": 10,
     "metadata": {},
     "output_type": "execute_result"
    }
   ],
   "source": [
    "# checking to see the distribution of our data. With roughly 1000 posts from each subreddit, they seem farely\n",
    "# balanced.\n",
    "reddit_df['subreddit'].value_counts()"
   ]
  },
  {
   "cell_type": "code",
   "execution_count": 11,
   "metadata": {},
   "outputs": [
    {
     "data": {
      "text/plain": [
       "Knock knock                                                                    5\n",
       "I went to the doctors recently                                                 3\n",
       "I said to my doctor I might have ADHD.                                         2\n",
       "Whats a similarity between Dale Earnhardt and Pink Floyd?                      2\n",
       "[NSFW] Why don't any of Logan Paul's asian fans ask for high fives anymore?    2\n",
       "                                                                              ..\n",
       "What do you call a Mexican man with a rubber toe?                              1\n",
       "Would death by nuclear explosion be painful? How painful?                      1\n",
       "How do asexual organisms get the genetic variation necessary for evolution?    1\n",
       "There is a dirty chicken......                                                 1\n",
       "Is it possible for asteroids to contain incredibly huge gemstone cores?        1\n",
       "Name: title, Length: 1876, dtype: int64"
      ]
     },
     "execution_count": 11,
     "metadata": {},
     "output_type": "execute_result"
    }
   ],
   "source": [
    "# checking to see if there are any duplicated posts based on the same title.\n",
    "reddit_df['title'].value_counts()"
   ]
  },
  {
   "cell_type": "code",
   "execution_count": 12,
   "metadata": {},
   "outputs": [
    {
     "data": {
      "text/plain": [
       "0    r/jokes has a discord and you need to join! Ov...\n",
       "1    When I was a kid, Santa gave me a lump of coal...\n",
       "2    A son walks in on his parents having sex NSFW ...\n",
       "3    [NSFW] A doctor is giving a tour of a local ho...\n",
       "4    Genie: You have 3 wishes. Me: I've seen this b...\n",
       "Name: text, dtype: object"
      ]
     },
     "execution_count": 12,
     "metadata": {},
     "output_type": "execute_result"
    }
   ],
   "source": [
    "# combining the title and selftext column to a single column and then checking if there are still duplicates.\n",
    "# Reason for this is because for example knock knock jokes might have the same title, but the joke which is in \n",
    "# selftext might be different, therefore we should also take into acocunt the selftext to determine if the post\n",
    "# is truly a duplicate.\n",
    "\n",
    "reddit_df['text'] = reddit_df['title'] + ' ' + reddit_df['selftext']\n",
    "\n",
    "reddit_df['text'].head()"
   ]
  },
  {
   "cell_type": "code",
   "execution_count": 13,
   "metadata": {
    "scrolled": true
   },
   "outputs": [
    {
     "data": {
      "text/plain": [
       "Genie: You have 3 wishes. Me: I've seen this before. Whatever I wish for will come back and bite me in some way.\\n\\nGenie: I promise that won't happen. I'm so sure it won't I'll give you infinite wishes if it does.\\n\\nMe: Okay. I wish for a boomerang with teeth.\\n\\nGenie: You son of a...                                                                                                                                                                                                                                                                                                                                                                                                                                                                                                                                                                                                                                                                                                                                                                                                                                                                                                                                                                                                                                                                                                                                                                                                                                                                                                                                                                                                                                                                                                                                                                                                                                                                                                                                                                                                                                                                                                                                                            True\n",
       "3 Cowboys NSFW Three cowboys sat around a campfire, all exchanging tall tales about how tough they all were. \\n\\nThe first cowboy says “I’m the toughest of the bunch. I was out in the tall grass, looking for a good spot to take a piss. All the sudden this snake appears. And you can see in its eyes, it’s out for blood. I look him in the eye and I know that it’s me or him. When he lunged, I grabbed him with my bare hands and strangled him to death. And you see these snakeskin boots? I took them as a trophy from my kill.”\\n\\nThe second cowboy responds: “That’s nothing. One day I was riding around on my horse, than out of nowhere comes out a big, mean bear. The son of a bitch knocks me off my horse, and proceeds to kill my noble steed. I reach for my gun, but he charges and knocks it out of my hand. He’s got me pinned, snarling at me just waiting to kill, when I manage to break free, get my knife from my boot, and I stab him in the throat. And you see this bearskin cloak? I skinned him myself and keep this as a reminder.” \\n\\nThe two cowboys look to the third, and one of them says “well what about you? You think you’re tougher than us?”\\n\\nThe third cowboy says nothing, and just continues to sit there, stirring the fire with his dick.                                                                                                                                                                                                                                                                                                                                                                                                                                                                                                                                                                                                                                                                                                                                                                                                                                                                                                                                                          True\n",
       "Ask Anything Wednesday - Economics, Political Science, Linguistics, Anthropology Welcome to our weekly feature, Ask Anything Wednesday - this week we are focusing on **Economics, Political Science, Linguistics, Anthropology**\\n\\nDo you have a question within these topics you weren't sure was worth submitting? Is something a bit too speculative for a typical /r/AskScience post? No question is too big or small for AAW. In this thread you can ask any science-related question! Things like: \"What would happen if...\", \"How will the future...\", \"If all the rules for 'X' were different...\", \"Why does my...\". \\n\\n**Asking Questions:**\\n\\nPlease post your question as a top-level response to this, and our team of panellists will be here to answer and discuss your questions.\\n\\nThe other topic areas will appear in future Ask Anything Wednesdays, so if you have other questions not covered by this weeks theme please either hold on to it until those topics come around, or go and post over in our sister subreddit /r/AskScienceDiscussion , where every day is Ask Anything Wednesday! Off-theme questions in this post will be removed to try and keep the thread a manageable size for both our readers and panellists.\\n\\n**Answering Questions:**\\n\\nPlease only answer a posted question if you are an expert in the field. [The full guidelines for posting responses in AskScience can be found here](http://www.reddit.com/r/askscience/wiki/index#wiki_answering_askscience). In short, this is a moderated subreddit, and responses which do not meet our quality guidelines will be removed. Remember, peer reviewed sources are always appreciated, and anecdotes are absolutely not appropriate. In general if your answer begins with 'I think', or 'I've heard', then it's not suitable for /r/AskScience.\\n\\nIf you would like to become a member of the AskScience panel, [please refer to the information provided here](https://www.reddit.com/r/askscience/comments/3exo6p/askscience_panel_of_scientists_xiii/).\\n\\nPast AskAnythingWednesday posts [can be found here](http://www.reddit.com/r/askscience/search?q=flair%3A%27meta%27&amp;restrict_sr=on&amp;sort=new&amp;t=all).\\n\\nAsk away!     True\n",
       "The aircraft carrier captain saw a light \"Tell the signalman to warn that boat to turn to port to avoid a collision.\"  \\n\\nBut the light flashes back \"*YOU* turn to port to avoid a collision.\"  \\n\\nThe captain, incensed, sends the message \"This is a 200 kiloton aircraft carrier with 50 war planes, atomic bombs and cruise missiles! *YOU* turn to the left to avoid a collision!\"  \\n\\nThe light flashes back \"This is a lighthouse. Your call.\"                                                                                                                                                                                                                                                                                                                                                                                                                                                                                                                                                                                                                                                                                                                                                                                                                                                                                                                                                                                                                                                                                                                                                                                                                                                                                                                                                                                                                                                                                                                                                                                                                                                                                                                                                                                                   True\n",
       "What do 9/11 victims like on their pizza? Nothing they like it plane                                                                                                                                                                                                                                                                                                                                                                                                                                                                                                                                                                                                                                                                                                                                                                                                                                                                                                                                                                                                                                                                                                                                                                                                                                                                                                                                                                                                                                                                                                                                                                                                                                                                                                                                                                                                                                                                                                                                                                                                                                                                                                                                                                                        True\n",
       "                                                                                                                                                                                                                                                                                                                                                                                                                                                                                                                                                                                                                                                                                                                                                                                                                                                                                                                                                                                                                                                                                                                                                                                                                                                                                                                                                                                                                                                                                                                                                                                                                                                                                                                                                                                                                                                                                                                                                                                                                                                                                                                                                                                                                                                           ...  \n",
       "Is it empty space or the matter within it that is expanding? Given that since the \"big bang\" the Universe has been expanding, what exactly is it that is expanding? Is it just that matter is remaining the same but the interstitial vacuum is expanding and moving matter further apart or is it the very structure of the atom expanding along with it so that *everything* is bigger now than it was in the past?\\n\\nIf it is the latter, does that mean if we could (theoretically) transport a dinosaur from the past to the present it would in fact be tiny?                                                                                                                                                                                                                                                                                                                                                                                                                                                                                                                                                                                                                                                                                                                                                                                                                                                                                                                                                                                                                                                                                                                                                                                                                                                                                                                                                                                                                                                                                                                                                                                                                                                                                       False\n",
       "Why is the average height of humans increasing over time? Napoleon, who was known for his short stature, was average height in his day. During the American Revolution, the average male height was 5'6. \\n\\nDoes this mean that taller people are \"fitter\" to survive?                                                                                                                                                                                                                                                                                                                                                                                                                                                                                                                                                                                                                                                                                                                                                                                                                                                                                                                                                                                                                                                                                                                                                                                                                                                                                                                                                                                                                                                                                                                                                                                                                                                                                                                                                                                                                                                                                                                                                                                    False\n",
       "Can someone explain to me if there will be new habitable areas as global warming and climate change progress? I’m basically wondering if those areas, such as most of Russia will become habitable. These areas are so cold now, but with the warmth they may become much warmer and possibly habitable, in my mind. Thus leading for new possible areas for crops to grow. Can someone explain why this IS or IS NOT the case.  \\n\\n*I USE RUSSIA AS AN EXTREME EXAMPLE* it could be as little as Canada becoming warmer and Canadians having the ability to grow corn to an extant as someone in Iowa or Illinois.                                                                                                                                                                                                                                                                                                                                                                                                                                                                                                                                                                                                                                                                                                                                                                                                                                                                                                                                                                                                                                                                                                                                                                                                                                                                                                                                                                                                                                                                                                                                                                                                                                       False\n",
       "Why is it called the 'special' theory of relativity? I realize it only applies to special cases, but what determines those cases? I have found some contradictory answers. Some say it's because gravity can be neglected, and some say it's because it only describes events that unfold in inertial frames of reference.                                                                                                                                                                                                                                                                                                                                                                                                                                                                                                                                                                                                                                                                                                                                                                                                                                                                                                                                                                                                                                                                                                                                                                                                                                                                                                                                                                                                                                                                                                                                                                                                                                                                                                                                                                                                                                                                                                                                 False\n",
       "Is it possible to have 2 halves of your gene from the same parent? During a high heated pre-drinks discussion someone mentioned that it's actually possible to have 2 halves of your gene from the same parent. Thus, she looked extremely similar to her mum and nothing like her dad.\\n\\n&amp;#x200B;\\n\\nI've been told all my life that we get 1 half from each of our parents. So I wanna ask reddit scientists. Is this actually possible?\\n\\n&amp;#x200B;\\n\\np.s. the friend is in safe hands and is not being bullied.                                                                                                                                                                                                                                                                                                                                                                                                                                                                                                                                                                                                                                                                                                                                                                                                                                                                                                                                                                                                                                                                                                                                                                                                                                                                                                                                                                                                                                                                                                                                                                                                                                                                                                                              False\n",
       "Name: text, Length: 1881, dtype: bool"
      ]
     },
     "execution_count": 13,
     "metadata": {},
     "output_type": "execute_result"
    }
   ],
   "source": [
    "reddit_df['text'].value_counts() > 1"
   ]
  },
  {
   "cell_type": "code",
   "execution_count": 14,
   "metadata": {
    "scrolled": true
   },
   "outputs": [
    {
     "data": {
      "text/plain": [
       "What Aleph number describes the cardinality of the set of Aleph numbers? That is, are the number of Aleph numbers countably or uncountable infinite? Thanks :-)                                                                                                                                                                                                                                                                                                                                                                                                                                                                                                                                                                                                                                                                                                                                                                                                                                                                                                                 1\n",
       "If data has weight, although negligible for all intents and purposes, does that mean my phone gets heavier when I receive a text? Following that, is this a way of transferring mass, albeit minuscule, remotely? Or even creating mass?                                                                                                                                                                                                                                                                                                                                                                                                                                                                                                                                                                                                                                                                                                                                                                                                                                        1\n",
       "How do we produce microprocessors with billions of transistors? How are transistors mass produced on a computer chip? If they were assembled individually it might take months to make a single chip so I assume there must be a method to do it in mass?                                                                                                                                                                                                                                                                                                                                                                                                                                                                                                                                                                                                                                                                                                                                                                                                                       1\n",
       "As a scarecrow, people say I’m outstanding in my field. But hay, it’s in my jeans.                                                                                                                                                                                                                                                                                                                                                                                                                                                                                                                                                                                                                                                                                                                                                                                                                                                                                                                                                                                              1\n",
       "Why exactly does the smoke ring on smoked meats turn red? On smoked meats, the outer ring turns red when it's been smoked. And I was wondering why? The wood isn't red. The other parts of the meat doesn't turn red.                                                                                                                                                                                                                                                                                                                                                                                                                                                                                                                                                                                                                                                                                                                                                                                                                                                           1\n",
       "                                                                                                                                                                                                                                                                                                                                                                                                                                                                                                                                                                                                                                                                                                                                                                                                                                                                                                                                                                                                                                                                               ..\n",
       "My neighbor's little son asked me where you find giant snails? I tried to blind him with science.\\n\\n“Well, they’re originally from Kenya, and their Latin name is the Achatina Fulica …”\\n\\nTurns out the answer was ‘On giant’s fingers’.                                                                                                                                                                                                                                                                                                                                                                                                                                                                                                                                                                                                                                                                                                                                                                                                                                     1\n",
       "[NSFW]The legend of the King sperm So one day, all the sperm in a guy’s nuts were having a meeting. \\n\\n“We always wait for our moment to shine, our shot to glory land, to do our mission, but we get stopped by the latex barrier! We never get to fulfill our duty!”\\n\\nThousands of sperm moaned and complained. \\n\\n“But today, we have our secret weapon, our King sperm is going to lead the charge. His special horn on his head will break us free of that latex monster and bring us to Valhalla! My fellow soldiers, be ready and follow the charge of the king sperm! ”\\n\\nThousands of sperm roar in delight. \\n\\nThe sperm wait and days go by until finally...\\n\\n“The time has come! Fellow soldiers, follow me!” yells the King sperm as he charges head first. All the sperm follow and everyone shoots forward. \\n\\nAs the King sperm, charging first, shoots out of the man’s penis, he uses his pointy horn to break the condom and succeeds! \\n\\nEcstatic with glee, he screams:\\n“We are through! We are finally going to find — **OH SHIT!**”\\n\\n...    1\n",
       "How are the daily value of vitiamins and minerals determined? It seems like one would have to eat an inordinate amount to get the recommended DV% of vitiamins in minerals.  Obviously some are easy to get like vitiman C and calcium.  But others like folate, magnesium, zinc, phosphates, vitiman K, etc, are so difficult to eat enough to get the 100% recommended doses.  How were those numbers determined?                                                                                                                                                                                                                                                                                                                                                                                                                                                                                                                                                                                                                                                             1\n",
       "Do any microbiologists know of any Bacillus species closely related to the Cereus group that are halotolerant?                                                                                                                                                                                                                                                                                                                                                                                                                                                                                                                                                                                                                                                                                                                                                                                                                                                                                                                                                                  1\n",
       "Genie: You have 3 wishes. Me: I've seen this before. Whatever I wish for will come back and bite me in some way.\\n\\nGenie: I promise that won't happen. I'm so sure it won't I'll give you infinite wishes if it does.\\n\\nMe: Okay. I wish for a boomerang with teeth.\\n\\nGenie: You son of a...                                                                                                                                                                                                                                                                                                                                                                                                                                                                                                                                                                                                                                                                                                                                                                                1\n",
       "Name: text, Length: 1881, dtype: int64"
      ]
     },
     "execution_count": 14,
     "metadata": {},
     "output_type": "execute_result"
    }
   ],
   "source": [
    "# Seeing that there are still duplicates after taking into account the selftext, we should then proceed to remove\n",
    "# these duplicates as they might influence/ impact our model.\n",
    "\n",
    "reddit_df.drop_duplicates(subset='text', keep='last', inplace=True)\n",
    "\n",
    "reddit_df['text'].value_counts()"
   ]
  },
  {
   "cell_type": "code",
   "execution_count": 15,
   "metadata": {},
   "outputs": [
    {
     "data": {
      "text/plain": [
       "0    998\n",
       "1    883\n",
       "Name: subreddit, dtype: int64"
      ]
     },
     "execution_count": 15,
     "metadata": {},
     "output_type": "execute_result"
    }
   ],
   "source": [
    "# checking to see if our distribution of data is still fairly balanced\n",
    "reddit_df['subreddit'].value_counts()"
   ]
  },
  {
   "cell_type": "code",
   "execution_count": 16,
   "metadata": {},
   "outputs": [],
   "source": [
    "# Looking at the texts above, it seems there are quite a lot of formatting characters such as '\\n'. Let us remove\n",
    "# them.\n",
    "reddit_df['title'].replace(r'\\n',' ', regex=True, inplace=True)\n",
    "reddit_df['selftext'].replace(r'\\n',' ', regex=True, inplace=True)\n",
    "reddit_df['text'].replace(r'\\n',' ', regex=True, inplace=True)"
   ]
  },
  {
   "cell_type": "markdown",
   "metadata": {},
   "source": [
    "## Exploratory Data Analysis"
   ]
  },
  {
   "cell_type": "markdown",
   "metadata": {},
   "source": [
    "Now that we have cleaned up duplicate threads from our data, we are going to explore our data a little further and see what insights we can get from it. As this project is dealing with unstructured data, the EDA is a little bit different.\n",
    "\n",
    "Some of the EDA we could look into:\n",
    "1. Word count of title.\n",
    "2. Word count of selftext.\n",
    "3. Most frequent words."
   ]
  },
  {
   "cell_type": "code",
   "execution_count": 17,
   "metadata": {},
   "outputs": [],
   "source": [
    "# Creating a function to tokenize and lemmatize our data .\n",
    "def text_breakdown(text):\n",
    "\n",
    "    # Instantiate tokenizer\n",
    "    tokenizer = RegexpTokenizer(r'\\w+')\n",
    "    \n",
    "    # Tokenize text.\n",
    "    tokens_before_stop = tokenizer.tokenize(text.lower())\n",
    "    \n",
    "    # Removing stopwords from tokenized text\n",
    "    tokens = [w for w in tokens_before_stop if not w in stopwords.words('english')]\n",
    "    \n",
    "    # Instantiate lemmatizer\n",
    "    lemmatizer = WordNetLemmatizer()\n",
    "    \n",
    "    # Lemmatize words\n",
    "    lemmatized_tokens = [lemmatizer.lemmatize(i) for i in tokens]\n",
    "    \n",
    "    # Converting the list into a string\n",
    "    str1 = ''\n",
    "    for word in lemmatized_tokens:\n",
    "        str1 = str1 + ' ' + word\n",
    "    \n",
    "    return str1"
   ]
  },
  {
   "cell_type": "code",
   "execution_count": 18,
   "metadata": {},
   "outputs": [
    {
     "data": {
      "text/plain": [
       "101     asshole call person put punchline joke title\n",
       "102                        call ape fetish kink kong\n",
       "103                          body temple mostly ruin\n",
       "104              call mexican man rubber toe roberto\n",
       "105                          cloud like wear rainbow\n",
       "Name: lemmatized_text, dtype: object"
      ]
     },
     "execution_count": 18,
     "metadata": {},
     "output_type": "execute_result"
    }
   ],
   "source": [
    "# Creating a column where we tokenize and lemmatize our text column\n",
    "reddit_df['lemmatized_text'] = reddit_df['text'].map(text_breakdown)\n",
    "\n",
    "reddit_df['lemmatized_text'][:5]"
   ]
  },
  {
   "cell_type": "markdown",
   "metadata": {},
   "source": [
    "### Train / Test Split"
   ]
  },
  {
   "cell_type": "markdown",
   "metadata": {},
   "source": [
    "The reason for splitting the data at this point of the project is because I want to only be exploring the training data, which we would be training the model with. The test/validation data is for us to validate if decisions made regarding to the model was good, therefore we don't want to be exploring the test/validation data, but instead use it to validate our decisions made with the training data."
   ]
  },
  {
   "cell_type": "code",
   "execution_count": 19,
   "metadata": {},
   "outputs": [],
   "source": [
    "X = reddit_df.lemmatized_text\n",
    "y = reddit_df.subreddit"
   ]
  },
  {
   "cell_type": "code",
   "execution_count": 20,
   "metadata": {},
   "outputs": [],
   "source": [
    "# Splitting our data into train and test set with stratify so that we get an equal balance of each class\n",
    "# for each set of data.\n",
    "X_train, X_test, y_train, y_test = train_test_split(X, y, stratify=y, random_state=42)"
   ]
  },
  {
   "cell_type": "markdown",
   "metadata": {},
   "source": [
    "### Visualization"
   ]
  },
  {
   "cell_type": "code",
   "execution_count": 21,
   "metadata": {},
   "outputs": [],
   "source": [
    "# Getting the index of the training data so we can apply to the main data set and do some visualizations with \n",
    "# the training data\n",
    "training_data_index = X_train.index.values\n",
    "\n",
    "reddit_df_train = reddit_df.loc[training_data_index,:]"
   ]
  },
  {
   "cell_type": "code",
   "execution_count": 22,
   "metadata": {},
   "outputs": [
    {
     "data": {
      "text/html": [
       "<div>\n",
       "<style scoped>\n",
       "    .dataframe tbody tr th:only-of-type {\n",
       "        vertical-align: middle;\n",
       "    }\n",
       "\n",
       "    .dataframe tbody tr th {\n",
       "        vertical-align: top;\n",
       "    }\n",
       "\n",
       "    .dataframe thead th {\n",
       "        text-align: right;\n",
       "    }\n",
       "</style>\n",
       "<table border=\"1\" class=\"dataframe\">\n",
       "  <thead>\n",
       "    <tr style=\"text-align: right;\">\n",
       "      <th></th>\n",
       "      <th>title</th>\n",
       "      <th>selftext</th>\n",
       "      <th>subreddit</th>\n",
       "      <th>text</th>\n",
       "      <th>lemmatized_text</th>\n",
       "    </tr>\n",
       "  </thead>\n",
       "  <tbody>\n",
       "    <tr>\n",
       "      <th>1972</th>\n",
       "      <td>Are there any 2 species alive today that share...</td>\n",
       "      <td></td>\n",
       "      <td>0</td>\n",
       "      <td>Are there any 2 species alive today that share...</td>\n",
       "      <td>2 specie alive today share common ancestor sp...</td>\n",
       "    </tr>\n",
       "    <tr>\n",
       "      <th>1105</th>\n",
       "      <td>Why does choked flow happen and why it is rela...</td>\n",
       "      <td>I'm diving into the venturi effect (example: r...</td>\n",
       "      <td>0</td>\n",
       "      <td>Why does choked flow happen and why it is rela...</td>\n",
       "      <td>choked flow happen related speed sound diving...</td>\n",
       "    </tr>\n",
       "    <tr>\n",
       "      <th>1250</th>\n",
       "      <td>How come when you cook an egg, it gets harder,...</td>\n",
       "      <td></td>\n",
       "      <td>0</td>\n",
       "      <td>How come when you cook an egg, it gets harder,...</td>\n",
       "      <td>come cook egg get harder cook vegetable get s...</td>\n",
       "    </tr>\n",
       "    <tr>\n",
       "      <th>1945</th>\n",
       "      <td>What causes this coast line shape?</td>\n",
       "      <td>All down the eastern coast of Australia (and p...</td>\n",
       "      <td>0</td>\n",
       "      <td>What causes this coast line shape? All down th...</td>\n",
       "      <td>cause coast line shape eastern coast australi...</td>\n",
       "    </tr>\n",
       "    <tr>\n",
       "      <th>347</th>\n",
       "      <td>Helium walks into a bar</td>\n",
       "      <td>He sits and order a drink while wondering why ...</td>\n",
       "      <td>1</td>\n",
       "      <td>Helium walks into a bar He sits and order a dr...</td>\n",
       "      <td>helium walk bar sits order drink wondering pa...</td>\n",
       "    </tr>\n",
       "  </tbody>\n",
       "</table>\n",
       "</div>"
      ],
      "text/plain": [
       "                                                  title  \\\n",
       "1972  Are there any 2 species alive today that share...   \n",
       "1105  Why does choked flow happen and why it is rela...   \n",
       "1250  How come when you cook an egg, it gets harder,...   \n",
       "1945                 What causes this coast line shape?   \n",
       "347                             Helium walks into a bar   \n",
       "\n",
       "                                               selftext  subreddit  \\\n",
       "1972                                                             0   \n",
       "1105  I'm diving into the venturi effect (example: r...          0   \n",
       "1250                                                             0   \n",
       "1945  All down the eastern coast of Australia (and p...          0   \n",
       "347   He sits and order a drink while wondering why ...          1   \n",
       "\n",
       "                                                   text  \\\n",
       "1972  Are there any 2 species alive today that share...   \n",
       "1105  Why does choked flow happen and why it is rela...   \n",
       "1250  How come when you cook an egg, it gets harder,...   \n",
       "1945  What causes this coast line shape? All down th...   \n",
       "347   Helium walks into a bar He sits and order a dr...   \n",
       "\n",
       "                                        lemmatized_text  \n",
       "1972   2 specie alive today share common ancestor sp...  \n",
       "1105   choked flow happen related speed sound diving...  \n",
       "1250   come cook egg get harder cook vegetable get s...  \n",
       "1945   cause coast line shape eastern coast australi...  \n",
       "347    helium walk bar sits order drink wondering pa...  "
      ]
     },
     "execution_count": 22,
     "metadata": {},
     "output_type": "execute_result"
    }
   ],
   "source": [
    "reddit_df_train.head()"
   ]
  },
  {
   "cell_type": "code",
   "execution_count": 23,
   "metadata": {},
   "outputs": [],
   "source": [
    "cvec = CountVectorizer(max_features=100, stop_words='english')\n",
    "\n",
    "lemmatized_text_cvec = cvec.fit_transform(reddit_df_train['lemmatized_text'])\n",
    "top_words = cvec.get_feature_names()"
   ]
  },
  {
   "cell_type": "code",
   "execution_count": 24,
   "metadata": {},
   "outputs": [
    {
     "data": {
      "text/plain": [
       "Text(0, 0.5, 'Frequency Count')"
      ]
     },
     "execution_count": 24,
     "metadata": {},
     "output_type": "execute_result"
    },
    {
     "data": {
      "image/png": "[encoded data removed]",
      "text/plain": [
       "<Figure size 936x360 with 1 Axes>"
      ]
     },
     "metadata": {
      "needs_background": "light"
     },
     "output_type": "display_data"
    }
   ],
   "source": [
    "# Top 20 words in r/Jokes\n",
    "jokes_top_words = reddit_df[reddit_df['subreddit']==1]['lemmatized_text'].str.split(expand=True).stack().value_counts()[:20]\n",
    "\n",
    "plt.figure(figsize=(13,5))\n",
    "jokes_top_words.plot(kind='bar')\n",
    "plt.title('Top 20 Words in r/Jokes', size=15)\n",
    "plt.xlabel('Word', size=12)\n",
    "plt.ylabel('Frequency Count')"
   ]
  },
  {
   "cell_type": "code",
   "execution_count": 25,
   "metadata": {},
   "outputs": [
    {
     "data": {
      "text/plain": [
       "Text(0, 0.5, 'Frequency Count')"
      ]
     },
     "execution_count": 25,
     "metadata": {},
     "output_type": "execute_result"
    },
    {
     "data": {
      "image/png": "[encoded data removed]",
      "text/plain": [
       "<Figure size 936x576 with 1 Axes>"
      ]
     },
     "metadata": {
      "needs_background": "light"
     },
     "output_type": "display_data"
    }
   ],
   "source": [
    "# Top 20 words in r/askscience\n",
    "askscience_top_words = reddit_df[reddit_df['subreddit']==0]['lemmatized_text'].str.split(expand=True).stack().value_counts()[:20]\n",
    "\n",
    "plt.figure(figsize=(13,8))\n",
    "askscience_top_words.plot(kind='bar')\n",
    "plt.title('Top 20 Words in r/askscience', size=15)\n",
    "plt.xlabel('Word', size=12)\n",
    "plt.ylabel('Frequency Count')"
   ]
  },
  {
   "cell_type": "code",
   "execution_count": 26,
   "metadata": {
    "scrolled": true
   },
   "outputs": [],
   "source": [
    "top_words_string = ''\n",
    "for word in top_words:\n",
    "    top_words_string = top_words_string+ ' ' +word"
   ]
  },
  {
   "cell_type": "code",
   "execution_count": 27,
   "metadata": {},
   "outputs": [
    {
     "data": {
      "text/plain": [
       "' able actually air amp animal answer ask asked asks away bar better black blood body boy brain cause cell change com come day different earth effect energy exactly example field friend going good got guy hand head help high hole http human increase know level life light like little long look make man mass matter mean need new number old people place point possible pressure question really reply right said say science second sound space specie star start state sure tell temperature thing think time tree turn understand universe use used walk want water way wife woman work www year'"
      ]
     },
     "execution_count": 27,
     "metadata": {},
     "output_type": "execute_result"
    }
   ],
   "source": [
    "# As can be seen, lemmatizing has not been very helpful as there are still 3 instances of ask -> ask, asked and\n",
    "# asks, but at least it is still better than stemming the word as stemming might sometimes cause the word to\n",
    "# become incomprehensible.\n",
    "top_words_string"
   ]
  },
  {
   "cell_type": "code",
   "execution_count": 28,
   "metadata": {},
   "outputs": [],
   "source": [
    "# Importing image to create a mask for word cloud\n",
    "char_mask_reddit = np.array(Image.open(\"./reddit-logo2.jpg\"))\n",
    "image_colors_reddit = ImageColorGenerator(char_mask_reddit)"
   ]
  },
  {
   "cell_type": "code",
   "execution_count": 29,
   "metadata": {},
   "outputs": [
    {
     "data": {
      "text/plain": [
       "<matplotlib.image.AxesImage at 0x1a21688b00>"
      ]
     },
     "execution_count": 29,
     "metadata": {},
     "output_type": "execute_result"
    },
    {
     "data": {
      "image/png": "[encoded data removed]",
      "text/plain": [
       "<Figure size 720x720 with 1 Axes>"
      ]
     },
     "metadata": {
      "needs_background": "light"
     },
     "output_type": "display_data"
    }
   ],
   "source": [
    "# Plotting word cloud featuring the most common words in our dataset. Question is, how are we able to determine\n",
    "# which are the keywords for their respective subreddit?\n",
    "plt.subplots(figsize=(10,10)) # setting figure size\n",
    "plt.axis('off') # turning off axis\n",
    "plt.grid(b=None) # turning off grid\n",
    "\n",
    "wc_reddit = WordCloud(background_color=\"white\", \n",
    "               max_words=100, \n",
    "               mask=char_mask_reddit, \n",
    "               random_state=1).generate(top_words_string)\n",
    "\n",
    "plt.imshow(wc_reddit.recolor(color_func=image_colors_reddit))"
   ]
  },
  {
   "cell_type": "code",
   "execution_count": 30,
   "metadata": {},
   "outputs": [
    {
     "data": {
      "text/plain": [
       "<wordcloud.wordcloud.WordCloud at 0x1a21688ba8>"
      ]
     },
     "execution_count": 30,
     "metadata": {},
     "output_type": "execute_result"
    }
   ],
   "source": [
    "# Saving world cloud\n",
    "wc_reddit.to_file('./reddit-word.png')"
   ]
  },
  {
   "cell_type": "code",
   "execution_count": 31,
   "metadata": {},
   "outputs": [],
   "source": [
    "# Creating our columns for the word count of the titles. Will be replacing formatting characters such as '\\n' with\n",
    "# empty space before we count the length.\n",
    "\n",
    "reddit_title = reddit_df_train['title'].replace('\\n',' ')\n",
    "reddit_df_train['title_length'] = reddit_title.map(lambda x: len(str(x).split(' ')))"
   ]
  },
  {
   "cell_type": "code",
   "execution_count": 32,
   "metadata": {},
   "outputs": [
    {
     "data": {
      "text/html": [
       "<div>\n",
       "<style scoped>\n",
       "    .dataframe tbody tr th:only-of-type {\n",
       "        vertical-align: middle;\n",
       "    }\n",
       "\n",
       "    .dataframe tbody tr th {\n",
       "        vertical-align: top;\n",
       "    }\n",
       "\n",
       "    .dataframe thead th {\n",
       "        text-align: right;\n",
       "    }\n",
       "</style>\n",
       "<table border=\"1\" class=\"dataframe\">\n",
       "  <thead>\n",
       "    <tr style=\"text-align: right;\">\n",
       "      <th></th>\n",
       "      <th>title</th>\n",
       "      <th>selftext</th>\n",
       "      <th>subreddit</th>\n",
       "      <th>text</th>\n",
       "      <th>lemmatized_text</th>\n",
       "      <th>title_length</th>\n",
       "    </tr>\n",
       "  </thead>\n",
       "  <tbody>\n",
       "    <tr>\n",
       "      <th>1972</th>\n",
       "      <td>Are there any 2 species alive today that share...</td>\n",
       "      <td></td>\n",
       "      <td>0</td>\n",
       "      <td>Are there any 2 species alive today that share...</td>\n",
       "      <td>2 specie alive today share common ancestor sp...</td>\n",
       "      <td>18</td>\n",
       "    </tr>\n",
       "    <tr>\n",
       "      <th>1105</th>\n",
       "      <td>Why does choked flow happen and why it is rela...</td>\n",
       "      <td>I'm diving into the venturi effect (example: r...</td>\n",
       "      <td>0</td>\n",
       "      <td>Why does choked flow happen and why it is rela...</td>\n",
       "      <td>choked flow happen related speed sound diving...</td>\n",
       "      <td>16</td>\n",
       "    </tr>\n",
       "    <tr>\n",
       "      <th>1250</th>\n",
       "      <td>How come when you cook an egg, it gets harder,...</td>\n",
       "      <td></td>\n",
       "      <td>0</td>\n",
       "      <td>How come when you cook an egg, it gets harder,...</td>\n",
       "      <td>come cook egg get harder cook vegetable get s...</td>\n",
       "      <td>18</td>\n",
       "    </tr>\n",
       "    <tr>\n",
       "      <th>1945</th>\n",
       "      <td>What causes this coast line shape?</td>\n",
       "      <td>All down the eastern coast of Australia (and p...</td>\n",
       "      <td>0</td>\n",
       "      <td>What causes this coast line shape? All down th...</td>\n",
       "      <td>cause coast line shape eastern coast australi...</td>\n",
       "      <td>6</td>\n",
       "    </tr>\n",
       "    <tr>\n",
       "      <th>347</th>\n",
       "      <td>Helium walks into a bar</td>\n",
       "      <td>He sits and order a drink while wondering why ...</td>\n",
       "      <td>1</td>\n",
       "      <td>Helium walks into a bar He sits and order a dr...</td>\n",
       "      <td>helium walk bar sits order drink wondering pa...</td>\n",
       "      <td>5</td>\n",
       "    </tr>\n",
       "  </tbody>\n",
       "</table>\n",
       "</div>"
      ],
      "text/plain": [
       "                                                  title  \\\n",
       "1972  Are there any 2 species alive today that share...   \n",
       "1105  Why does choked flow happen and why it is rela...   \n",
       "1250  How come when you cook an egg, it gets harder,...   \n",
       "1945                 What causes this coast line shape?   \n",
       "347                             Helium walks into a bar   \n",
       "\n",
       "                                               selftext  subreddit  \\\n",
       "1972                                                             0   \n",
       "1105  I'm diving into the venturi effect (example: r...          0   \n",
       "1250                                                             0   \n",
       "1945  All down the eastern coast of Australia (and p...          0   \n",
       "347   He sits and order a drink while wondering why ...          1   \n",
       "\n",
       "                                                   text  \\\n",
       "1972  Are there any 2 species alive today that share...   \n",
       "1105  Why does choked flow happen and why it is rela...   \n",
       "1250  How come when you cook an egg, it gets harder,...   \n",
       "1945  What causes this coast line shape? All down th...   \n",
       "347   Helium walks into a bar He sits and order a dr...   \n",
       "\n",
       "                                        lemmatized_text  title_length  \n",
       "1972   2 specie alive today share common ancestor sp...            18  \n",
       "1105   choked flow happen related speed sound diving...            16  \n",
       "1250   come cook egg get harder cook vegetable get s...            18  \n",
       "1945   cause coast line shape eastern coast australi...             6  \n",
       "347    helium walk bar sits order drink wondering pa...             5  "
      ]
     },
     "execution_count": 32,
     "metadata": {},
     "output_type": "execute_result"
    }
   ],
   "source": [
    "reddit_df_train.head()"
   ]
  },
  {
   "cell_type": "code",
   "execution_count": 33,
   "metadata": {},
   "outputs": [],
   "source": [
    "# As we did for the title column, now to create a column for the word count of the selftext column.\n",
    "\n",
    "reddit_selftext = reddit_df_train['selftext'].replace('\\n',' ')\n",
    "reddit_df_train['selftext_length'] = reddit_selftext.map(lambda x: len(str(x).split(' ')))"
   ]
  },
  {
   "cell_type": "code",
   "execution_count": 34,
   "metadata": {},
   "outputs": [
    {
     "data": {
      "text/html": [
       "<div>\n",
       "<style scoped>\n",
       "    .dataframe tbody tr th:only-of-type {\n",
       "        vertical-align: middle;\n",
       "    }\n",
       "\n",
       "    .dataframe tbody tr th {\n",
       "        vertical-align: top;\n",
       "    }\n",
       "\n",
       "    .dataframe thead th {\n",
       "        text-align: right;\n",
       "    }\n",
       "</style>\n",
       "<table border=\"1\" class=\"dataframe\">\n",
       "  <thead>\n",
       "    <tr style=\"text-align: right;\">\n",
       "      <th></th>\n",
       "      <th>title</th>\n",
       "      <th>selftext</th>\n",
       "      <th>subreddit</th>\n",
       "      <th>text</th>\n",
       "      <th>lemmatized_text</th>\n",
       "      <th>title_length</th>\n",
       "      <th>selftext_length</th>\n",
       "    </tr>\n",
       "  </thead>\n",
       "  <tbody>\n",
       "    <tr>\n",
       "      <th>1972</th>\n",
       "      <td>Are there any 2 species alive today that share...</td>\n",
       "      <td></td>\n",
       "      <td>0</td>\n",
       "      <td>Are there any 2 species alive today that share...</td>\n",
       "      <td>2 specie alive today share common ancestor sp...</td>\n",
       "      <td>18</td>\n",
       "      <td>1</td>\n",
       "    </tr>\n",
       "    <tr>\n",
       "      <th>1105</th>\n",
       "      <td>Why does choked flow happen and why it is rela...</td>\n",
       "      <td>I'm diving into the venturi effect (example: r...</td>\n",
       "      <td>0</td>\n",
       "      <td>Why does choked flow happen and why it is rela...</td>\n",
       "      <td>choked flow happen related speed sound diving...</td>\n",
       "      <td>16</td>\n",
       "      <td>42</td>\n",
       "    </tr>\n",
       "    <tr>\n",
       "      <th>1250</th>\n",
       "      <td>How come when you cook an egg, it gets harder,...</td>\n",
       "      <td></td>\n",
       "      <td>0</td>\n",
       "      <td>How come when you cook an egg, it gets harder,...</td>\n",
       "      <td>come cook egg get harder cook vegetable get s...</td>\n",
       "      <td>18</td>\n",
       "      <td>1</td>\n",
       "    </tr>\n",
       "    <tr>\n",
       "      <th>1945</th>\n",
       "      <td>What causes this coast line shape?</td>\n",
       "      <td>All down the eastern coast of Australia (and p...</td>\n",
       "      <td>0</td>\n",
       "      <td>What causes this coast line shape? All down th...</td>\n",
       "      <td>cause coast line shape eastern coast australi...</td>\n",
       "      <td>6</td>\n",
       "      <td>88</td>\n",
       "    </tr>\n",
       "    <tr>\n",
       "      <th>347</th>\n",
       "      <td>Helium walks into a bar</td>\n",
       "      <td>He sits and order a drink while wondering why ...</td>\n",
       "      <td>1</td>\n",
       "      <td>Helium walks into a bar He sits and order a dr...</td>\n",
       "      <td>helium walk bar sits order drink wondering pa...</td>\n",
       "      <td>5</td>\n",
       "      <td>28</td>\n",
       "    </tr>\n",
       "  </tbody>\n",
       "</table>\n",
       "</div>"
      ],
      "text/plain": [
       "                                                  title  \\\n",
       "1972  Are there any 2 species alive today that share...   \n",
       "1105  Why does choked flow happen and why it is rela...   \n",
       "1250  How come when you cook an egg, it gets harder,...   \n",
       "1945                 What causes this coast line shape?   \n",
       "347                             Helium walks into a bar   \n",
       "\n",
       "                                               selftext  subreddit  \\\n",
       "1972                                                             0   \n",
       "1105  I'm diving into the venturi effect (example: r...          0   \n",
       "1250                                                             0   \n",
       "1945  All down the eastern coast of Australia (and p...          0   \n",
       "347   He sits and order a drink while wondering why ...          1   \n",
       "\n",
       "                                                   text  \\\n",
       "1972  Are there any 2 species alive today that share...   \n",
       "1105  Why does choked flow happen and why it is rela...   \n",
       "1250  How come when you cook an egg, it gets harder,...   \n",
       "1945  What causes this coast line shape? All down th...   \n",
       "347   Helium walks into a bar He sits and order a dr...   \n",
       "\n",
       "                                        lemmatized_text  title_length  \\\n",
       "1972   2 specie alive today share common ancestor sp...            18   \n",
       "1105   choked flow happen related speed sound diving...            16   \n",
       "1250   come cook egg get harder cook vegetable get s...            18   \n",
       "1945   cause coast line shape eastern coast australi...             6   \n",
       "347    helium walk bar sits order drink wondering pa...             5   \n",
       "\n",
       "      selftext_length  \n",
       "1972                1  \n",
       "1105               42  \n",
       "1250                1  \n",
       "1945               88  \n",
       "347                28  "
      ]
     },
     "execution_count": 34,
     "metadata": {},
     "output_type": "execute_result"
    }
   ],
   "source": [
    "reddit_df_train.head()"
   ]
  },
  {
   "cell_type": "code",
   "execution_count": 35,
   "metadata": {},
   "outputs": [
    {
     "data": {
      "text/plain": [
       "Text(0.5, 0, 'Number of words')"
      ]
     },
     "execution_count": 35,
     "metadata": {},
     "output_type": "execute_result"
    },
    {
     "data": {
      "image/png": "[encoded data removed]",
      "text/plain": [
       "<Figure size 1080x360 with 2 Axes>"
      ]
     },
     "metadata": {},
     "output_type": "display_data"
    }
   ],
   "source": [
    "# plotting histogram to see distribution of title length based on words for the respective subreddits\n",
    "sns.set()\n",
    "\n",
    "fig, ax = plt.subplots(nrows=1, ncols=2, figsize=(15, 5), sharex=True, sharey=True)\n",
    "\n",
    "ax[0].hist(reddit_df_train[reddit_df_train['subreddit']==1]['title_length'], range=(0,70), density=True)\n",
    "ax[0].set_title('Length of r/Jokes Titles(by words)', fontsize=18)\n",
    "ax[0].set_xlabel('Number of words', fontsize=15)\n",
    "ax[0].set_ylabel('Probability', fontsize=15)\n",
    "\n",
    "ax[1].hist(reddit_df_train[reddit_df_train['subreddit']==0]['title_length'], range=(0,70), density=True)\n",
    "ax[1].set_title('Length of r/askscience Titles(by words)', fontsize=18)\n",
    "ax[1].set_xlabel('Number of words', fontsize=15)"
   ]
  },
  {
   "cell_type": "code",
   "execution_count": 36,
   "metadata": {},
   "outputs": [
    {
     "data": {
      "text/plain": [
       "Text(0.5, 0, 'Number of words')"
      ]
     },
     "execution_count": 36,
     "metadata": {},
     "output_type": "execute_result"
    },
    {
     "data": {
      "image/png": "[encoded data removed]",
      "text/plain": [
       "<Figure size 1080x360 with 2 Axes>"
      ]
     },
     "metadata": {},
     "output_type": "display_data"
    }
   ],
   "source": [
    "# plotting histogram to see distribution of selftext length based on words for the respective subreddits\n",
    "sns.set()\n",
    "\n",
    "fig, ax = plt.subplots(nrows=1, ncols=2, figsize=(15, 5), sharex=True, sharey=True)\n",
    "\n",
    "ax[0].hist(reddit_df_train[reddit_df_train['subreddit']==1]['selftext_length'], range=(0,800), density=True)\n",
    "ax[0].set_title('Length of r/Jokes Posts(by words)', fontsize=18)\n",
    "ax[0].set_xlabel('Number of words', fontsize=15)\n",
    "ax[0].set_ylabel('Probability', fontsize=15)\n",
    "\n",
    "ax[1].hist(reddit_df_train[reddit_df_train['subreddit']==0]['selftext_length'], range=(0,800), density=True)\n",
    "ax[1].set_title('Length of r/askscience Posts(by words)', fontsize=18)\n",
    "ax[1].set_xlabel('Number of words', fontsize=15)"
   ]
  },
  {
   "cell_type": "markdown",
   "metadata": {},
   "source": [
    "Observation:\n",
    "\n",
    "Based on the graphs above, it seems that r/askscience generally have longer titles and posts(selftext) compared to r/Jokes. This might make sense as you would think generally when someone posts on r/askscience, he/she is trying to understand a concept and thus have a longer post trying to relay whatever informatation it is that they are trying to understand."
   ]
  },
  {
   "cell_type": "markdown",
   "metadata": {},
   "source": [
    "## Modelling & Evaluation"
   ]
  },
  {
   "cell_type": "markdown",
   "metadata": {},
   "source": [
    "### Baseline"
   ]
  },
  {
   "cell_type": "code",
   "execution_count": 37,
   "metadata": {},
   "outputs": [
    {
     "data": {
      "text/plain": [
       "0    0.530569\n",
       "1    0.469431\n",
       "Name: subreddit, dtype: float64"
      ]
     },
     "execution_count": 37,
     "metadata": {},
     "output_type": "execute_result"
    }
   ],
   "source": [
    "# Baseline score 0.469431\n",
    "reddit_df['subreddit'].value_counts(normalize=True)"
   ]
  },
  {
   "cell_type": "markdown",
   "metadata": {},
   "source": [
    "### Multinomial Naive Bayes (Count Vectorizer)"
   ]
  },
  {
   "cell_type": "code",
   "execution_count": 38,
   "metadata": {},
   "outputs": [],
   "source": [
    "# Creating an instance of a pipeline, consisting of a vectorizer and our model.\n",
    "nbcvec_pipe = Pipeline([(\"cvec\", CountVectorizer()),\n",
    "                   (\"mn_model\", MultinomialNB())\n",
    "                   ])"
   ]
  },
  {
   "cell_type": "code",
   "execution_count": 39,
   "metadata": {},
   "outputs": [
    {
     "data": {
      "text/plain": [
       "[('cvec', CountVectorizer(analyzer='word', binary=False, decode_error='strict',\n",
       "                  dtype=<class 'numpy.int64'>, encoding='utf-8', input='content',\n",
       "                  lowercase=True, max_df=1.0, max_features=None, min_df=1,\n",
       "                  ngram_range=(1, 1), preprocessor=None, stop_words=None,\n",
       "                  strip_accents=None, token_pattern='(?u)\\\\b\\\\w\\\\w+\\\\b',\n",
       "                  tokenizer=None, vocabulary=None)),\n",
       " ('mn_model', MultinomialNB(alpha=1.0, class_prior=None, fit_prior=True))]"
      ]
     },
     "execution_count": 39,
     "metadata": {},
     "output_type": "execute_result"
    }
   ],
   "source": [
    "# Looking at the hyperparameters so that we can decide which are the ones we want to run through GridSearchCV to\n",
    "# optimize the model.\n",
    "nbcvec_pipe.steps"
   ]
  },
  {
   "cell_type": "code",
   "execution_count": 40,
   "metadata": {},
   "outputs": [
    {
     "name": "stdout",
     "output_type": "stream",
     "text": [
      "0.898581560283688\n",
      "{'cvec__max_df': 0.2, 'cvec__max_features': 1200, 'cvec__min_df': 4, 'cvec__ngram_range': (1, 1), 'mn_model__alpha': 0.5}\n"
     ]
    }
   ],
   "source": [
    "# Performing GridSearch CV to determine the best hyperparameters\n",
    "nbcvec_pipe_params = {'cvec__max_features': [1000, 1200, 1400],\n",
    "                  'cvec__min_df': [2, 4, 6],\n",
    "                  'cvec__max_df': [.1, .2, .3],\n",
    "                  'cvec__ngram_range': [(1,1), (1,2)],\n",
    "                  'mn_model__alpha': [0.5, 0.6, 0.7]\n",
    "                 }\n",
    "\n",
    "nbcvec_gs = GridSearchCV(nbcvec_pipe, param_grid=nbcvec_pipe_params, cv=5, n_jobs=-1)\n",
    "nbcvec_gs.fit(X_train, y_train)\n",
    "print(nbcvec_gs.best_score_)\n",
    "print(nbcvec_gs.best_params_)"
   ]
  },
  {
   "cell_type": "code",
   "execution_count": 41,
   "metadata": {},
   "outputs": [
    {
     "data": {
      "text/plain": [
       "0.890942124157254"
      ]
     },
     "execution_count": 41,
     "metadata": {},
     "output_type": "execute_result"
    }
   ],
   "source": [
    "# mean score of our GridSearch CV\n",
    "nbcvec_gs.cv_results_['mean_test_score'].mean()"
   ]
  },
  {
   "cell_type": "code",
   "execution_count": 42,
   "metadata": {},
   "outputs": [],
   "source": [
    "# applying the best params to our model\n",
    "nbcvec_pipe_tuned = Pipeline([(\"cvec\", CountVectorizer(max_df=0.2,\n",
    "                                                   max_features=1200,\n",
    "                                                   min_df=4,\n",
    "                                                   ngram_range=(1,1))),\n",
    "                         (\"mn_model\", MultinomialNB(alpha=0.5))\n",
    "                          ])"
   ]
  },
  {
   "cell_type": "code",
   "execution_count": 43,
   "metadata": {},
   "outputs": [
    {
     "data": {
      "text/plain": [
       "Pipeline(memory=None,\n",
       "         steps=[('cvec',\n",
       "                 CountVectorizer(analyzer='word', binary=False,\n",
       "                                 decode_error='strict',\n",
       "                                 dtype=<class 'numpy.int64'>, encoding='utf-8',\n",
       "                                 input='content', lowercase=True, max_df=0.2,\n",
       "                                 max_features=1200, min_df=4,\n",
       "                                 ngram_range=(1, 1), preprocessor=None,\n",
       "                                 stop_words=None, strip_accents=None,\n",
       "                                 token_pattern='(?u)\\\\b\\\\w\\\\w+\\\\b',\n",
       "                                 tokenizer=None, vocabulary=None)),\n",
       "                ('mn_model',\n",
       "                 MultinomialNB(alpha=0.5, class_prior=None, fit_prior=True))],\n",
       "         verbose=False)"
      ]
     },
     "execution_count": 43,
     "metadata": {},
     "output_type": "execute_result"
    }
   ],
   "source": [
    "#fitting tuned model with with training data.\n",
    "nbcvec_pipe_tuned.fit(X_train, y_train)"
   ]
  },
  {
   "cell_type": "code",
   "execution_count": 44,
   "metadata": {},
   "outputs": [
    {
     "data": {
      "text/plain": [
       "0.9283687943262411"
      ]
     },
     "execution_count": 44,
     "metadata": {},
     "output_type": "execute_result"
    }
   ],
   "source": [
    "nbcvec_pipe_tuned.score(X_train, y_train)"
   ]
  },
  {
   "cell_type": "code",
   "execution_count": 45,
   "metadata": {},
   "outputs": [
    {
     "data": {
      "text/plain": [
       "0.89171974522293"
      ]
     },
     "execution_count": 45,
     "metadata": {},
     "output_type": "execute_result"
    }
   ],
   "source": [
    "nbcvec_pipe_tuned.score(X_test, y_test)"
   ]
  },
  {
   "cell_type": "code",
   "execution_count": 46,
   "metadata": {},
   "outputs": [],
   "source": [
    "# predictions for test data using naive bayes model\n",
    "nbcvec_predictions = nbcvec_pipe_tuned.predict(X_test)"
   ]
  },
  {
   "cell_type": "code",
   "execution_count": 47,
   "metadata": {},
   "outputs": [],
   "source": [
    "# confusion matrix for our naive bayes model\n",
    "nbcvec_confusion_matrix = confusion_matrix(y_test, nbcvec_predictions)"
   ]
  },
  {
   "cell_type": "code",
   "execution_count": 48,
   "metadata": {},
   "outputs": [
    {
     "data": {
      "text/plain": [
       "array([[232,  18],\n",
       "       [ 33, 188]])"
      ]
     },
     "execution_count": 48,
     "metadata": {},
     "output_type": "execute_result"
    }
   ],
   "source": [
    "nbcvec_confusion_matrix"
   ]
  },
  {
   "cell_type": "code",
   "execution_count": 49,
   "metadata": {},
   "outputs": [
    {
     "name": "stdout",
     "output_type": "stream",
     "text": [
      "True Negatives: 232\n",
      "False Positives: 18\n",
      "False Negatives: 33\n",
      "True Positives: 188\n"
     ]
    }
   ],
   "source": [
    "# confusion matrix for our naive bayes model with count vectorizer\n",
    "tn, fp, fn, tp = nbcvec_confusion_matrix.ravel()\n",
    "\n",
    "print(\"True Negatives: %s\" % tn)\n",
    "print(\"False Positives: %s\" % fp)\n",
    "print(\"False Negatives: %s\" % fn)\n",
    "print(\"True Positives: %s\" % tp)"
   ]
  },
  {
   "cell_type": "code",
   "execution_count": 50,
   "metadata": {},
   "outputs": [
    {
     "name": "stdout",
     "output_type": "stream",
     "text": [
      "Accuracy: 0.8917\n",
      "Sensitivity: 0.8507\n",
      "Specificity: 0.928\n",
      "Precision: 0.9126\n"
     ]
    }
   ],
   "source": [
    "# Calculating our metrics for our naive bayes model with count vectorizer\n",
    "nbcvec_acc = round((tp+tn)/(tn+fp+fn+tp),4)\n",
    "nbcvec_sensi = round(tp/(tp+fn),4)\n",
    "nbcvec_spec = round(tn/(tn+fp),4)\n",
    "nbcvec_prec = round(tp/(tp+fp),4)\n",
    "\n",
    "print(f'Accuracy: {nbcvec_acc}')\n",
    "print(f'Sensitivity: {nbcvec_sensi}')\n",
    "print(f'Specificity: {nbcvec_spec}')\n",
    "print(f'Precision: {nbcvec_prec}')"
   ]
  },
  {
   "cell_type": "code",
   "execution_count": 51,
   "metadata": {},
   "outputs": [],
   "source": [
    "# Creating a list of metrics for summary later on\n",
    "nbcvec_metrics = [nbcvec_acc, nbcvec_sensi, nbcvec_spec, nbcvec_prec]"
   ]
  },
  {
   "cell_type": "code",
   "execution_count": 52,
   "metadata": {},
   "outputs": [
    {
     "data": {
      "text/plain": [
       "Text(0.5, 12.5, 'Predicted Values')"
      ]
     },
     "execution_count": 52,
     "metadata": {},
     "output_type": "execute_result"
    },
    {
     "data": {
      "image/png": "[encoded data removed]",
      "text/plain": [
       "<Figure size 432x288 with 2 Axes>"
      ]
     },
     "metadata": {},
     "output_type": "display_data"
    }
   ],
   "source": [
    "# Plotting the confusion matrix\n",
    "fig, ax = plt.subplots()\n",
    "sns.heatmap(nbcvec_confusion_matrix, annot=True, fmt='g')\n",
    "bottom, top= ax.get_ylim()\n",
    "ax.set_ylim(bottom + 0.5, top - 0.5)\n",
    "ax.set_title('Naive Bayes Confusion Matrix(Count Vectorizer)', size=15)\n",
    "ax.set_ylabel('Actual Values', size=12)\n",
    "ax.set_xlabel('Predicted Values', size=12)"
   ]
  },
  {
   "cell_type": "code",
   "execution_count": 53,
   "metadata": {},
   "outputs": [],
   "source": [
    "# Creating a function to plot roc curve\n",
    "def roc(probas, true, step=0.01):\n",
    "    \n",
    "    probas = probas[:,1]  # The output of predict_proba() is an array of the probabilities for every class, but we only want the probabilities for class 1\n",
    "    true = true.values    # We need to convert the class labels from a Pandas Series to a numpy array. We do this using the .values attribute\n",
    "    assert(len(probas) == len(true)) # We're making sure that our probabilities vector is the same length as our true class labesl vector\n",
    "    \n",
    "    TPRs = [] # Setting up empty list of True Positive Rate\n",
    "    FPRs = [] # Setting up empty list of False Positive Rate\n",
    "    \n",
    "    for i in np.arange(0.0,1.0,step): # np.arange allows us to use step sizes that are decimals\n",
    "        preds_class = probas > i \n",
    "        TP = 0 \n",
    "        FP = 0\n",
    "        TN = 0\n",
    "        FN = 0\n",
    "        for index in range(len(preds_class)): # We're comparing each prediction with each true value here\n",
    "\n",
    "            if preds_class[index] == 1 and true[index] == 1:\n",
    "                TP += 1\n",
    "            elif preds_class[index] == 1 and true[index] == 0:\n",
    "                FP += 1\n",
    "            elif preds_class[index] == 0 and true[index] == 0:\n",
    "                TN += 1 \n",
    "            elif preds_class[index] == 0 and true[index] == 1:\n",
    "                FN += 1\n",
    "                \n",
    "        TPR = TP/(TP + FN) # Calculating TPR and FPR and appending to our lists\n",
    "        FPR = FP/(FP + TN)\n",
    "        \n",
    "        TPRs.append(TPR)\n",
    "        FPRs.append(FPR)\n",
    "    \n",
    "    # Plot ROC curve.\n",
    "    sns.set_style(\"whitegrid\", {'axes.grid' : False})\n",
    "    plt.plot(FPRs, # False Positive Rate on X-axis\n",
    "             TPRs, # True Positive Rate on Y-axis\n",
    "             label='ROC Curve')\n",
    "\n",
    "    # Plot baseline. (Perfect overlap between the two populations.)\n",
    "    plt.plot(np.linspace(0, 1, 200),\n",
    "             np.linspace(0, 1, 200),\n",
    "             label='baseline',\n",
    "             linestyle='--')\n",
    "\n",
    "    # Label axes.\n",
    "    plt.title('Receiver Operating Characteristic Curve', fontsize=22)\n",
    "    plt.ylabel('Sensitivity', fontsize=18)\n",
    "    plt.xlabel('1 - Specificity', fontsize=18)\n",
    "    \n",
    "    # Create legend.\n",
    "    plt.legend(fontsize=16);"
   ]
  },
  {
   "cell_type": "code",
   "execution_count": 54,
   "metadata": {},
   "outputs": [
    {
     "data": {
      "image/png": "[encoded data removed]",
      "text/plain": [
       "<Figure size 432x288 with 1 Axes>"
      ]
     },
     "metadata": {},
     "output_type": "display_data"
    }
   ],
   "source": [
    "# Plotting ROC curve for naive bayes model with count vectorizer\n",
    "nbcvec_probabilities = nbcvec_pipe_tuned.predict_proba(X_test)\n",
    "\n",
    "roc(probas = nbcvec_probabilities,\n",
    "   true = y_test,\n",
    "   step = 0.0001)"
   ]
  },
  {
   "cell_type": "code",
   "execution_count": 55,
   "metadata": {},
   "outputs": [
    {
     "name": "stdout",
     "output_type": "stream",
     "text": [
      "0.9685067873303167\n"
     ]
    }
   ],
   "source": [
    "# AUC score for our ROC Curve\n",
    "pred_proba = [i[1] for i in nbcvec_pipe_tuned.predict_proba(X_test)]\n",
    "nbcvec_auc = roc_auc_score(y_test, pred_proba)\n",
    "\n",
    "print(nbcvec_auc)"
   ]
  },
  {
   "cell_type": "markdown",
   "metadata": {},
   "source": [
    "### Multinomial Naive Bayes(TF-IDF Vectorizer)"
   ]
  },
  {
   "cell_type": "code",
   "execution_count": 56,
   "metadata": {},
   "outputs": [],
   "source": [
    "# Creating an instance of a pipeline, consisting of a vectorizer and our model.\n",
    "nbtfidf_pipe = Pipeline([(\"tvec\", TfidfVectorizer()),\n",
    "                   (\"mn_model\", MultinomialNB())\n",
    "                   ])"
   ]
  },
  {
   "cell_type": "code",
   "execution_count": 57,
   "metadata": {},
   "outputs": [
    {
     "data": {
      "text/plain": [
       "[('tvec', TfidfVectorizer(analyzer='word', binary=False, decode_error='strict',\n",
       "                  dtype=<class 'numpy.float64'>, encoding='utf-8',\n",
       "                  input='content', lowercase=True, max_df=1.0, max_features=None,\n",
       "                  min_df=1, ngram_range=(1, 1), norm='l2', preprocessor=None,\n",
       "                  smooth_idf=True, stop_words=None, strip_accents=None,\n",
       "                  sublinear_tf=False, token_pattern='(?u)\\\\b\\\\w\\\\w+\\\\b',\n",
       "                  tokenizer=None, use_idf=True, vocabulary=None)),\n",
       " ('mn_model', MultinomialNB(alpha=1.0, class_prior=None, fit_prior=True))]"
      ]
     },
     "execution_count": 57,
     "metadata": {},
     "output_type": "execute_result"
    }
   ],
   "source": [
    "# Looking at the hyperparameters so that we can decide which are the ones we want to run through GridSearchCV to\n",
    "# optimize the model.\n",
    "nbtfidf_pipe.steps"
   ]
  },
  {
   "cell_type": "code",
   "execution_count": 58,
   "metadata": {},
   "outputs": [
    {
     "name": "stdout",
     "output_type": "stream",
     "text": [
      "0.9014184397163121\n",
      "{'mn_model__alpha': 0.5, 'tvec__max_df': 0.2, 'tvec__max_features': 1400, 'tvec__min_df': 2, 'tvec__ngram_range': (1, 2)}\n"
     ]
    }
   ],
   "source": [
    "# Performing GridSearch CV to determine the best hyperparameters\n",
    "nbtfidf_pipe_params = {'tvec__max_features': [1200, 1400, 1600],\n",
    "                  'tvec__min_df': [1, 2, 3],\n",
    "                  'tvec__max_df': [.1, .2, .3],\n",
    "                  'tvec__ngram_range': [(1,1), (1,2)],\n",
    "                  'mn_model__alpha': [0.5, 0.6, 0.7]\n",
    "                 }\n",
    "\n",
    "nbtfidf_gs = GridSearchCV(nbtfidf_pipe, param_grid=nbtfidf_pipe_params, cv=5, n_jobs=-1)\n",
    "nbtfidf_gs.fit(X_train, y_train)\n",
    "print(nbtfidf_gs.best_score_)\n",
    "print(nbtfidf_gs.best_params_)"
   ]
  },
  {
   "cell_type": "code",
   "execution_count": 59,
   "metadata": {},
   "outputs": [
    {
     "data": {
      "text/plain": [
       "0.8956396112424482"
      ]
     },
     "execution_count": 59,
     "metadata": {},
     "output_type": "execute_result"
    }
   ],
   "source": [
    "# mean score of our GridSearch CV\n",
    "nbtfidf_gs.cv_results_['mean_test_score'].mean()"
   ]
  },
  {
   "cell_type": "code",
   "execution_count": 60,
   "metadata": {},
   "outputs": [],
   "source": [
    "# applying the best params to our model\n",
    "nbtfidf_pipe_tuned = Pipeline([(\"tvec\", TfidfVectorizer(max_df=0.2,\n",
    "                                                   max_features=1400,\n",
    "                                                   min_df=2,\n",
    "                                                   ngram_range=(1,2))),\n",
    "                             (\"mn_model\", MultinomialNB(alpha=0.5))\n",
    "                              ])"
   ]
  },
  {
   "cell_type": "code",
   "execution_count": 61,
   "metadata": {},
   "outputs": [
    {
     "data": {
      "text/plain": [
       "Pipeline(memory=None,\n",
       "         steps=[('tvec',\n",
       "                 TfidfVectorizer(analyzer='word', binary=False,\n",
       "                                 decode_error='strict',\n",
       "                                 dtype=<class 'numpy.float64'>,\n",
       "                                 encoding='utf-8', input='content',\n",
       "                                 lowercase=True, max_df=0.2, max_features=1400,\n",
       "                                 min_df=2, ngram_range=(1, 2), norm='l2',\n",
       "                                 preprocessor=None, smooth_idf=True,\n",
       "                                 stop_words=None, strip_accents=None,\n",
       "                                 sublinear_tf=False,\n",
       "                                 token_pattern='(?u)\\\\b\\\\w\\\\w+\\\\b',\n",
       "                                 tokenizer=None, use_idf=True,\n",
       "                                 vocabulary=None)),\n",
       "                ('mn_model',\n",
       "                 MultinomialNB(alpha=0.5, class_prior=None, fit_prior=True))],\n",
       "         verbose=False)"
      ]
     },
     "execution_count": 61,
     "metadata": {},
     "output_type": "execute_result"
    }
   ],
   "source": [
    "#fitting tuned model with with training data.\n",
    "nbtfidf_pipe_tuned.fit(X_train, y_train)"
   ]
  },
  {
   "cell_type": "code",
   "execution_count": 62,
   "metadata": {},
   "outputs": [
    {
     "data": {
      "text/plain": [
       "0.9524822695035461"
      ]
     },
     "execution_count": 62,
     "metadata": {},
     "output_type": "execute_result"
    }
   ],
   "source": [
    "nbtfidf_pipe_tuned.score(X_train, y_train)"
   ]
  },
  {
   "cell_type": "code",
   "execution_count": 63,
   "metadata": {},
   "outputs": [
    {
     "data": {
      "text/plain": [
       "0.9129511677282378"
      ]
     },
     "execution_count": 63,
     "metadata": {},
     "output_type": "execute_result"
    }
   ],
   "source": [
    "nbtfidf_pipe_tuned.score(X_test, y_test)"
   ]
  },
  {
   "cell_type": "code",
   "execution_count": 64,
   "metadata": {},
   "outputs": [],
   "source": [
    "# predictions for test data using naive bayes model\n",
    "nbtfidf_predictions = nbtfidf_pipe_tuned.predict(X_test)"
   ]
  },
  {
   "cell_type": "code",
   "execution_count": 65,
   "metadata": {},
   "outputs": [],
   "source": [
    "# confusion matrix for our naive bayes model\n",
    "nbtfidf_confusion_matrix = confusion_matrix(y_test, nbtfidf_predictions)"
   ]
  },
  {
   "cell_type": "code",
   "execution_count": 66,
   "metadata": {},
   "outputs": [
    {
     "data": {
      "text/plain": [
       "array([[234,  16],\n",
       "       [ 25, 196]])"
      ]
     },
     "execution_count": 66,
     "metadata": {},
     "output_type": "execute_result"
    }
   ],
   "source": [
    "nbtfidf_confusion_matrix"
   ]
  },
  {
   "cell_type": "code",
   "execution_count": 67,
   "metadata": {},
   "outputs": [
    {
     "name": "stdout",
     "output_type": "stream",
     "text": [
      "True Negatives: 234\n",
      "False Positives: 16\n",
      "False Negatives: 25\n",
      "True Positives: 196\n"
     ]
    }
   ],
   "source": [
    "# confusion matrix for our naive bayes model\n",
    "tn, fp, fn, tp = nbtfidf_confusion_matrix.ravel()\n",
    "\n",
    "print(\"True Negatives: %s\" % tn)\n",
    "print(\"False Positives: %s\" % fp)\n",
    "print(\"False Negatives: %s\" % fn)\n",
    "print(\"True Positives: %s\" % tp)"
   ]
  },
  {
   "cell_type": "code",
   "execution_count": 68,
   "metadata": {},
   "outputs": [
    {
     "name": "stdout",
     "output_type": "stream",
     "text": [
      "Accuracy: 0.913\n",
      "Sensitivity: 0.8869\n",
      "Specificity: 0.936\n",
      "Precision: 0.9245\n"
     ]
    }
   ],
   "source": [
    "# Calculating our metrics for our naive bayes model with tf-idf vectorizer\n",
    "nbtfidf_acc = round((tp+tn)/(tn+fp+fn+tp),4)\n",
    "nbtfidf_sensi = round(tp/(tp+fn),4)\n",
    "nbtfidf_spec = round(tn/(tn+fp),4)\n",
    "nbtfidf_prec = round(tp/(tp+fp),4)\n",
    "\n",
    "print(f'Accuracy: {nbtfidf_acc}')\n",
    "print(f'Sensitivity: {nbtfidf_sensi}')\n",
    "print(f'Specificity: {nbtfidf_spec}')\n",
    "print(f'Precision: {nbtfidf_prec}')"
   ]
  },
  {
   "cell_type": "code",
   "execution_count": 69,
   "metadata": {},
   "outputs": [],
   "source": [
    "# Creating a list of metrics for summary later on\n",
    "nbtfidf_metrics = [nbtfidf_acc, nbtfidf_sensi, nbtfidf_spec, nbtfidf_prec]"
   ]
  },
  {
   "cell_type": "code",
   "execution_count": 70,
   "metadata": {},
   "outputs": [
    {
     "data": {
      "text/plain": [
       "Text(0.5, 12.5, 'Predicted Values')"
      ]
     },
     "execution_count": 70,
     "metadata": {},
     "output_type": "execute_result"
    },
    {
     "data": {
      "image/png": "[encoded data removed]",
      "text/plain": [
       "<Figure size 432x288 with 2 Axes>"
      ]
     },
     "metadata": {},
     "output_type": "display_data"
    }
   ],
   "source": [
    "# Plotting the confusion matrix\n",
    "fig, ax = plt.subplots()\n",
    "sns.heatmap(nbtfidf_confusion_matrix, annot=True, fmt='g')\n",
    "bottom, top= ax.get_ylim()\n",
    "ax.set_ylim(bottom + 0.5, top - 0.5)\n",
    "ax.set_title('Naive Bayes Confusion Matrix(TF-IDF Vectorizer)', size=15)\n",
    "ax.set_ylabel('Actual Values', size=12)\n",
    "ax.set_xlabel('Predicted Values', size=12)"
   ]
  },
  {
   "cell_type": "code",
   "execution_count": 71,
   "metadata": {},
   "outputs": [
    {
     "data": {
      "image/png": "[encoded data removed]",
      "text/plain": [
       "<Figure size 432x288 with 1 Axes>"
      ]
     },
     "metadata": {},
     "output_type": "display_data"
    }
   ],
   "source": [
    "# Plotting ROC curve for naive bayes model with tf-idf vectorizer\n",
    "nbtfidf_probabilities = nbtfidf_pipe_tuned.predict_proba(X_test)\n",
    "\n",
    "roc(probas = nbtfidf_probabilities,\n",
    "   true = y_test,\n",
    "   step = 0.0001)"
   ]
  },
  {
   "cell_type": "code",
   "execution_count": 72,
   "metadata": {},
   "outputs": [
    {
     "name": "stdout",
     "output_type": "stream",
     "text": [
      "0.9731402714932127\n"
     ]
    }
   ],
   "source": [
    "# AUC score for our ROC Curve\n",
    "pred_proba = [i[1] for i in nbtfidf_pipe_tuned.predict_proba(X_test)]\n",
    "nbtfidf_auc = roc_auc_score(y_test, pred_proba)\n",
    "\n",
    "print(nbtfidf_auc)"
   ]
  },
  {
   "cell_type": "markdown",
   "metadata": {},
   "source": [
    "### Logistic Regression"
   ]
  },
  {
   "cell_type": "code",
   "execution_count": 73,
   "metadata": {},
   "outputs": [],
   "source": [
    "# Creating an instance of our pipeline, which consists of our tfidf vectorizer and our logistic regression\n",
    "lr_pipe = Pipeline([(\"tvec\", TfidfVectorizer()),\n",
    "                 (\"lr\", LogisticRegression())\n",
    "                ])"
   ]
  },
  {
   "cell_type": "code",
   "execution_count": 74,
   "metadata": {},
   "outputs": [
    {
     "data": {
      "text/plain": [
       "[('tvec', TfidfVectorizer(analyzer='word', binary=False, decode_error='strict',\n",
       "                  dtype=<class 'numpy.float64'>, encoding='utf-8',\n",
       "                  input='content', lowercase=True, max_df=1.0, max_features=None,\n",
       "                  min_df=1, ngram_range=(1, 1), norm='l2', preprocessor=None,\n",
       "                  smooth_idf=True, stop_words=None, strip_accents=None,\n",
       "                  sublinear_tf=False, token_pattern='(?u)\\\\b\\\\w\\\\w+\\\\b',\n",
       "                  tokenizer=None, use_idf=True, vocabulary=None)),\n",
       " ('lr',\n",
       "  LogisticRegression(C=1.0, class_weight=None, dual=False, fit_intercept=True,\n",
       "                     intercept_scaling=1, l1_ratio=None, max_iter=100,\n",
       "                     multi_class='warn', n_jobs=None, penalty='l2',\n",
       "                     random_state=None, solver='warn', tol=0.0001, verbose=0,\n",
       "                     warm_start=False))]"
      ]
     },
     "execution_count": 74,
     "metadata": {},
     "output_type": "execute_result"
    }
   ],
   "source": [
    "# as can be seen, the following are the parameters of the tfidf vectorizer and logistice regression model that we\n",
    "# will be using to classify our data.\n",
    "lr_pipe.steps"
   ]
  },
  {
   "cell_type": "code",
   "execution_count": 75,
   "metadata": {},
   "outputs": [
    {
     "name": "stdout",
     "output_type": "stream",
     "text": [
      "0.900709219858156\n",
      "{'lr__max_iter': 40, 'lr__solver': 'newton-cg', 'tvec__max_df': 0.2, 'tvec__max_features': 1000, 'tvec__min_df': 2, 'tvec__ngram_range': (1, 2)}\n"
     ]
    }
   ],
   "source": [
    "# Performing GridSearch CV to determine the best hyperparameters\n",
    "lr_pipe_params = {'tvec__max_features': [800, 1000, 1200],\n",
    "               'tvec__min_df': [1, 2, 3],\n",
    "               'tvec__max_df': [.1, .2, .3],\n",
    "               'tvec__ngram_range': [(1,1), (1,2)],\n",
    "                'lr__max_iter': [40, 60, 80],\n",
    "                'lr__solver': ['newton-cg', 'lbfgs', 'liblinear']\n",
    "              }\n",
    "\n",
    "lr_gs = GridSearchCV(lr_pipe, param_grid=lr_pipe_params, cv=5, n_jobs=-1)\n",
    "lr_gs.fit(X_train, y_train)\n",
    "print(lr_gs.best_score_)\n",
    "print(lr_gs.best_params_)"
   ]
  },
  {
   "cell_type": "code",
   "execution_count": 76,
   "metadata": {},
   "outputs": [
    {
     "data": {
      "text/plain": [
       "0.8940985903160844"
      ]
     },
     "execution_count": 76,
     "metadata": {},
     "output_type": "execute_result"
    }
   ],
   "source": [
    "# mean score of our GridSearch CV\n",
    "lr_gs.cv_results_['mean_test_score'].mean()"
   ]
  },
  {
   "cell_type": "code",
   "execution_count": 77,
   "metadata": {},
   "outputs": [],
   "source": [
    "# applying the best params to our logreg model\n",
    "lr_pipe_tuned = Pipeline([(\"tvec\",TfidfVectorizer(max_df=0.2,\n",
    "                                                  min_df=2,\n",
    "                                                  max_features=1000,\n",
    "                                                  ngram_range=(1,2))),\n",
    "                        (\"lr\",LogisticRegression(max_iter=40, solver='newton-cg'))\n",
    "                       ])"
   ]
  },
  {
   "cell_type": "code",
   "execution_count": 78,
   "metadata": {},
   "outputs": [
    {
     "data": {
      "text/plain": [
       "Pipeline(memory=None,\n",
       "         steps=[('tvec',\n",
       "                 TfidfVectorizer(analyzer='word', binary=False,\n",
       "                                 decode_error='strict',\n",
       "                                 dtype=<class 'numpy.float64'>,\n",
       "                                 encoding='utf-8', input='content',\n",
       "                                 lowercase=True, max_df=0.2, max_features=1000,\n",
       "                                 min_df=2, ngram_range=(1, 2), norm='l2',\n",
       "                                 preprocessor=None, smooth_idf=True,\n",
       "                                 stop_words=None, strip_accents=None,\n",
       "                                 sublinear_tf=False,\n",
       "                                 token_pattern='(?u)\\\\b\\\\w\\\\w+\\\\b',\n",
       "                                 tokenizer=None, use_idf=True,\n",
       "                                 vocabulary=None)),\n",
       "                ('lr',\n",
       "                 LogisticRegression(C=1.0, class_weight=None, dual=False,\n",
       "                                    fit_intercept=True, intercept_scaling=1,\n",
       "                                    l1_ratio=None, max_iter=40,\n",
       "                                    multi_class='warn', n_jobs=None,\n",
       "                                    penalty='l2', random_state=None,\n",
       "                                    solver='newton-cg', tol=0.0001, verbose=0,\n",
       "                                    warm_start=False))],\n",
       "         verbose=False)"
      ]
     },
     "execution_count": 78,
     "metadata": {},
     "output_type": "execute_result"
    }
   ],
   "source": [
    "# fitting tuned logistic regression model\n",
    "lr_pipe_tuned.fit(X_train, y_train)"
   ]
  },
  {
   "cell_type": "code",
   "execution_count": 79,
   "metadata": {},
   "outputs": [
    {
     "data": {
      "text/plain": [
       "0.9574468085106383"
      ]
     },
     "execution_count": 79,
     "metadata": {},
     "output_type": "execute_result"
    }
   ],
   "source": [
    "lr_pipe_tuned.score(X_train, y_train)"
   ]
  },
  {
   "cell_type": "code",
   "execution_count": 80,
   "metadata": {},
   "outputs": [
    {
     "data": {
      "text/plain": [
       "0.9129511677282378"
      ]
     },
     "execution_count": 80,
     "metadata": {},
     "output_type": "execute_result"
    }
   ],
   "source": [
    "lr_pipe_tuned.score(X_test, y_test)"
   ]
  },
  {
   "cell_type": "code",
   "execution_count": 81,
   "metadata": {},
   "outputs": [],
   "source": [
    "# predictions for test data using logistic regression model.\n",
    "lr_predictions = lr_pipe_tuned.predict(X_test)"
   ]
  },
  {
   "cell_type": "code",
   "execution_count": 82,
   "metadata": {},
   "outputs": [],
   "source": [
    "# confusion matrix for logistic regression model\n",
    "lr_confusion_matrix = confusion_matrix(y_test, lr_predictions)"
   ]
  },
  {
   "cell_type": "code",
   "execution_count": 83,
   "metadata": {},
   "outputs": [
    {
     "data": {
      "text/plain": [
       "array([[236,  14],\n",
       "       [ 27, 194]])"
      ]
     },
     "execution_count": 83,
     "metadata": {},
     "output_type": "execute_result"
    }
   ],
   "source": [
    "lr_confusion_matrix"
   ]
  },
  {
   "cell_type": "code",
   "execution_count": 84,
   "metadata": {},
   "outputs": [
    {
     "name": "stdout",
     "output_type": "stream",
     "text": [
      "True Negatives: 236\n",
      "False Positives: 14\n",
      "False Negatives: 27\n",
      "True Positives: 194\n"
     ]
    }
   ],
   "source": [
    "# confusion matrix for our naive bayes model\n",
    "tn, fp, fn, tp = lr_confusion_matrix.ravel()\n",
    "\n",
    "print(\"True Negatives: %s\" % tn)\n",
    "print(\"False Positives: %s\" % fp)\n",
    "print(\"False Negatives: %s\" % fn)\n",
    "print(\"True Positives: %s\" % tp)"
   ]
  },
  {
   "cell_type": "code",
   "execution_count": 85,
   "metadata": {},
   "outputs": [
    {
     "name": "stdout",
     "output_type": "stream",
     "text": [
      "Accuracy: 0.913\n",
      "Sensitivity: 0.8778\n",
      "Specificity: 0.944\n",
      "Precision: 0.9327\n"
     ]
    }
   ],
   "source": [
    "# Calculating our metrics for our naive bayes model with count vectorizer\n",
    "lr_acc = round((tp+tn)/(tn+fp+fn+tp),4)\n",
    "lr_sensi = round(tp/(tp+fn),4)\n",
    "lr_spec = round(tn/(tn+fp),4)\n",
    "lr_prec = round(tp/(tp+fp),4)\n",
    "\n",
    "print(f'Accuracy: {lr_acc}')\n",
    "print(f'Sensitivity: {lr_sensi}')\n",
    "print(f'Specificity: {lr_spec}')\n",
    "print(f'Precision: {lr_prec}')"
   ]
  },
  {
   "cell_type": "code",
   "execution_count": 86,
   "metadata": {},
   "outputs": [],
   "source": [
    "# Creating a list of metrics for summary later on\n",
    "lr_metrics = [lr_acc, lr_sensi, lr_spec, lr_prec]"
   ]
  },
  {
   "cell_type": "code",
   "execution_count": 87,
   "metadata": {},
   "outputs": [
    {
     "data": {
      "text/plain": [
       "Text(0.5, 12.5, 'Predicted Values')"
      ]
     },
     "execution_count": 87,
     "metadata": {},
     "output_type": "execute_result"
    },
    {
     "data": {
      "image/png": "[encoded data removed]",
      "text/plain": [
       "<Figure size 432x288 with 2 Axes>"
      ]
     },
     "metadata": {},
     "output_type": "display_data"
    }
   ],
   "source": [
    "# Plotting the confusion matrix\n",
    "fig, ax = plt.subplots()\n",
    "sns.heatmap(lr_confusion_matrix, annot=True, fmt='g')\n",
    "bottom, top= ax.get_ylim()\n",
    "ax.set_ylim(bottom + 0.5, top - 0.5)\n",
    "ax.set_title('Logistic Regression Confusion Matrix', size=15)\n",
    "ax.set_ylabel('Actual Values', size=12)\n",
    "ax.set_xlabel('Predicted Values', size=12)"
   ]
  },
  {
   "cell_type": "code",
   "execution_count": 88,
   "metadata": {},
   "outputs": [
    {
     "data": {
      "image/png": "[encoded data removed]",
      "text/plain": [
       "<Figure size 432x288 with 1 Axes>"
      ]
     },
     "metadata": {},
     "output_type": "display_data"
    }
   ],
   "source": [
    "# Plotting ROC curve for logistic regression model with tf-idf vectorizer\n",
    "lr_probabilities = lr_pipe_tuned.predict_proba(X_test)\n",
    "\n",
    "roc(probas = lr_probabilities,\n",
    "   true = y_test,\n",
    "   step = 0.0001)"
   ]
  },
  {
   "cell_type": "code",
   "execution_count": 89,
   "metadata": {},
   "outputs": [
    {
     "name": "stdout",
     "output_type": "stream",
     "text": [
      "0.9734751131221719\n"
     ]
    }
   ],
   "source": [
    "# AUC score for our ROC Curve\n",
    "pred_proba = [i[1] for i in lr_pipe_tuned.predict_proba(X_test)]\n",
    "lr_auc = roc_auc_score(y_test, pred_proba)\n",
    "\n",
    "print(lr_auc)"
   ]
  },
  {
   "cell_type": "markdown",
   "metadata": {},
   "source": [
    "## Conclusion"
   ]
  },
  {
   "cell_type": "code",
   "execution_count": 90,
   "metadata": {},
   "outputs": [
    {
     "data": {
      "text/html": [
       "<div>\n",
       "<style scoped>\n",
       "    .dataframe tbody tr th:only-of-type {\n",
       "        vertical-align: middle;\n",
       "    }\n",
       "\n",
       "    .dataframe tbody tr th {\n",
       "        vertical-align: top;\n",
       "    }\n",
       "\n",
       "    .dataframe thead th {\n",
       "        text-align: right;\n",
       "    }\n",
       "</style>\n",
       "<table border=\"1\" class=\"dataframe\">\n",
       "  <thead>\n",
       "    <tr style=\"text-align: right;\">\n",
       "      <th></th>\n",
       "      <th>NB(Count Vectorizer)</th>\n",
       "      <th>NB (TF-IDF Vectorizer)</th>\n",
       "      <th>Logistic Regression</th>\n",
       "    </tr>\n",
       "  </thead>\n",
       "  <tbody>\n",
       "    <tr>\n",
       "      <th>True Negatives</th>\n",
       "      <td>232.000000</td>\n",
       "      <td>234.000000</td>\n",
       "      <td>236.000000</td>\n",
       "    </tr>\n",
       "    <tr>\n",
       "      <th>False Positives</th>\n",
       "      <td>18.000000</td>\n",
       "      <td>16.000000</td>\n",
       "      <td>14.000000</td>\n",
       "    </tr>\n",
       "    <tr>\n",
       "      <th>False Negatives</th>\n",
       "      <td>33.000000</td>\n",
       "      <td>25.000000</td>\n",
       "      <td>27.000000</td>\n",
       "    </tr>\n",
       "    <tr>\n",
       "      <th>True Positives</th>\n",
       "      <td>188.000000</td>\n",
       "      <td>196.000000</td>\n",
       "      <td>194.000000</td>\n",
       "    </tr>\n",
       "    <tr>\n",
       "      <th>Accuracy</th>\n",
       "      <td>0.891700</td>\n",
       "      <td>0.913000</td>\n",
       "      <td>0.913000</td>\n",
       "    </tr>\n",
       "    <tr>\n",
       "      <th>Sensitivity</th>\n",
       "      <td>0.850700</td>\n",
       "      <td>0.886900</td>\n",
       "      <td>0.877800</td>\n",
       "    </tr>\n",
       "    <tr>\n",
       "      <th>Specificity</th>\n",
       "      <td>0.928000</td>\n",
       "      <td>0.936000</td>\n",
       "      <td>0.944000</td>\n",
       "    </tr>\n",
       "    <tr>\n",
       "      <th>Precision</th>\n",
       "      <td>0.912600</td>\n",
       "      <td>0.924500</td>\n",
       "      <td>0.932700</td>\n",
       "    </tr>\n",
       "    <tr>\n",
       "      <th>AUC Score</th>\n",
       "      <td>0.968507</td>\n",
       "      <td>0.973140</td>\n",
       "      <td>0.973475</td>\n",
       "    </tr>\n",
       "    <tr>\n",
       "      <th>GridSearchCV</th>\n",
       "      <td>0.890942</td>\n",
       "      <td>0.895640</td>\n",
       "      <td>0.894099</td>\n",
       "    </tr>\n",
       "    <tr>\n",
       "      <th>Training Data Score</th>\n",
       "      <td>0.928369</td>\n",
       "      <td>0.952482</td>\n",
       "      <td>0.957447</td>\n",
       "    </tr>\n",
       "  </tbody>\n",
       "</table>\n",
       "</div>"
      ],
      "text/plain": [
       "                     NB(Count Vectorizer)  NB (TF-IDF Vectorizer)  \\\n",
       "True Negatives                 232.000000              234.000000   \n",
       "False Positives                 18.000000               16.000000   \n",
       "False Negatives                 33.000000               25.000000   \n",
       "True Positives                 188.000000              196.000000   \n",
       "Accuracy                         0.891700                0.913000   \n",
       "Sensitivity                      0.850700                0.886900   \n",
       "Specificity                      0.928000                0.936000   \n",
       "Precision                        0.912600                0.924500   \n",
       "AUC Score                        0.968507                0.973140   \n",
       "GridSearchCV                     0.890942                0.895640   \n",
       "Training Data Score              0.928369                0.952482   \n",
       "\n",
       "                     Logistic Regression  \n",
       "True Negatives                236.000000  \n",
       "False Positives                14.000000  \n",
       "False Negatives                27.000000  \n",
       "True Positives                194.000000  \n",
       "Accuracy                        0.913000  \n",
       "Sensitivity                     0.877800  \n",
       "Specificity                     0.944000  \n",
       "Precision                       0.932700  \n",
       "AUC Score                       0.973475  \n",
       "GridSearchCV                    0.894099  \n",
       "Training Data Score             0.957447  "
      ]
     },
     "execution_count": 90,
     "metadata": {},
     "output_type": "execute_result"
    }
   ],
   "source": [
    "# Creating a summary table of the results of our models\n",
    "summary = pd.DataFrame({'NB(Count Vectorizer)': nbcvec_confusion_matrix.ravel(),\n",
    "                        'NB (TF-IDF Vectorizer)': nbtfidf_confusion_matrix.ravel(),\n",
    "                        'Logistic Regression': lr_confusion_matrix.ravel()},\n",
    "                       \n",
    "                    index = ['True Negatives',\n",
    "                            'False Positives',\n",
    "                            'False Negatives',\n",
    "                            'True Positives'\n",
    "                            ])\n",
    "\n",
    "# Adding our metrics to the summary df\n",
    "metrics_summary = pd.DataFrame({'NB(Count Vectorizer)': nbcvec_metrics,\n",
    "                                'NB (TF-IDF Vectorizer)': nbtfidf_metrics,\n",
    "                                'Logistic Regression': lr_metrics},\n",
    "                        \n",
    "                        index=['Accuracy',\n",
    "                               'Sensitivity',\n",
    "                               'Specificity',\n",
    "                               'Precision'\n",
    "                               ])\n",
    "\n",
    "summary = pd.concat([summary, metrics_summary],axis=0)\n",
    "\n",
    "summary.loc['AUC Score',:] = [nbcvec_auc, nbtfidf_auc, lr_auc]\n",
    "\n",
    "summary.loc['GridSearchCV',:] = [nbcvec_gs.cv_results_['mean_test_score'].mean(),\n",
    "                                 nbtfidf_gs.cv_results_['mean_test_score'].mean(),\n",
    "                                 lr_gs.cv_results_['mean_test_score'].mean()\n",
    "                                ]\n",
    "\n",
    "summary.loc['Training Data Score'] = [nbcvec_pipe_tuned.score(X_train, y_train),\n",
    "                                      nbtfidf_pipe_tuned.score(X_train, y_train),\n",
    "                                      lr_pipe_tuned.score(X_train, y_train)\n",
    "                                     ]\n",
    "\n",
    "summary"
   ]
  },
  {
   "cell_type": "markdown",
   "metadata": {},
   "source": [
    "After thoroughly reviewing through all the metrics we have gathered as well as looking at the ROC curve, the recommended model to use would be the Multinomial Naive Bayes model alongside with the Count Vectorizer.\n",
    "\n",
    "While the recommended model does not have the best results when you look at all the metrics and compare it against the other models, the results are not very far off. Having an Accuracy score of 0.8917 is already considered very high and is more than our baseline score. Ultimately, we would also not want our Accuracy score to be extremely high as it would probably be indicative of the model overfitting the data. Also with an AUC score of 0.9685, it tells us that the model does a good job of classifying our data points.\n",
    "\n",
    "Another reason for recommending the Multinomial Naive Bayes Model with Count Vectorizer is because the Accuracy score for the test data set is the most consistent with the training data and the GridSearchCV mean score, which means that the model is able generalize better compared to the other models.\n",
    "\n",
    "At the end of the day, it is not always about choosing the model that has the best metrics based on a single test, but to choose the model that is able to perform the most consistent."
   ]
  },
  {
   "cell_type": "markdown",
   "metadata": {},
   "source": [
    "### Word Cloud featuring the keywords for r/Jokes"
   ]
  },
  {
   "cell_type": "code",
   "execution_count": 91,
   "metadata": {},
   "outputs": [],
   "source": [
    "cvec = CountVectorizer(max_df=0.2,\n",
    "                       min_df=2,\n",
    "                       max_features=1000\n",
    "                      )\n",
    "\n",
    "lemmatized_text_cvec = cvec.fit_transform(reddit_df_train[reddit_df_train['subreddit']==1]['lemmatized_text'])\n",
    "jokes_top_words = cvec.get_feature_names()"
   ]
  },
  {
   "cell_type": "code",
   "execution_count": 92,
   "metadata": {},
   "outputs": [],
   "source": [
    "jokes_top_words_str = ''\n",
    "for word in jokes_top_words:\n",
    "    jokes_top_words_str = jokes_top_words_str + ' ' + word"
   ]
  },
  {
   "cell_type": "code",
   "execution_count": 93,
   "metadata": {},
   "outputs": [],
   "source": [
    "# Importing image to create a mask for word cloud\n",
    "char_mask_jokes = np.array(Image.open(\"./joker.jpg\"))\n",
    "image_colors_jokes = ImageColorGenerator(char_mask_jokes)"
   ]
  },
  {
   "cell_type": "code",
   "execution_count": 94,
   "metadata": {},
   "outputs": [
    {
     "data": {
      "text/plain": [
       "<matplotlib.image.AxesImage at 0x1a23cbdbe0>"
      ]
     },
     "execution_count": 94,
     "metadata": {},
     "output_type": "execute_result"
    },
    {
     "data": {
      "image/png": "[encoded data removed]",
      "text/plain": [
       "<Figure size 720x720 with 1 Axes>"
      ]
     },
     "metadata": {},
     "output_type": "display_data"
    }
   ],
   "source": [
    "# Plotting word cloud\n",
    "plt.subplots(figsize=(10,10)) # setting figure size\n",
    "plt.axis('off') # turning off axis\n",
    "plt.grid(b=None) # turning off grid\n",
    "\n",
    "wc_jokes = WordCloud(background_color=\"white\", \n",
    "               max_words=100, \n",
    "               mask=char_mask_jokes, \n",
    "               random_state=1).generate(jokes_top_words_str)\n",
    "\n",
    "plt.imshow(wc_jokes.recolor(color_func=image_colors_jokes))"
   ]
  },
  {
   "cell_type": "code",
   "execution_count": 95,
   "metadata": {},
   "outputs": [
    {
     "data": {
      "text/plain": [
       "<wordcloud.wordcloud.WordCloud at 0x1a23cbdb38>"
      ]
     },
     "execution_count": 95,
     "metadata": {},
     "output_type": "execute_result"
    }
   ],
   "source": [
    "wc_jokes.to_file('./joker-word.png')"
   ]
  },
  {
   "cell_type": "markdown",
   "metadata": {},
   "source": [
    "### Word Cloud featuring the keywords for r/askscience"
   ]
  },
  {
   "cell_type": "code",
   "execution_count": 96,
   "metadata": {},
   "outputs": [],
   "source": [
    "cvec = CountVectorizer(max_df=0.2,\n",
    "                       min_df=2,\n",
    "                       max_features=1000\n",
    "                      )\n",
    "\n",
    "lemmatized_text_cvec = cvec.fit_transform(reddit_df_train[reddit_df_train['subreddit']==0]['lemmatized_text'])\n",
    "askscience_top_words = cvec.get_feature_names()"
   ]
  },
  {
   "cell_type": "code",
   "execution_count": 97,
   "metadata": {},
   "outputs": [],
   "source": [
    "askscience_top_words_str = ''\n",
    "for word in askscience_top_words:\n",
    "    askscience_top_words_str = askscience_top_words_str + ' ' + word"
   ]
  },
  {
   "cell_type": "code",
   "execution_count": 98,
   "metadata": {},
   "outputs": [],
   "source": [
    "# Importing image to create a mask for word cloud\n",
    "char_mask_askscience = np.array(Image.open(\"./test-tube-logo2.jpg\"))\n",
    "image_colors_askscience = ImageColorGenerator(char_mask_askscience)"
   ]
  },
  {
   "cell_type": "code",
   "execution_count": 99,
   "metadata": {},
   "outputs": [
    {
     "data": {
      "text/plain": [
       "<matplotlib.image.AxesImage at 0x1a2050e2b0>"
      ]
     },
     "execution_count": 99,
     "metadata": {},
     "output_type": "execute_result"
    },
    {
     "data": {
      "image/png": "[encoded data removed]",
      "text/plain": [
       "<Figure size 720x720 with 1 Axes>"
      ]
     },
     "metadata": {},
     "output_type": "display_data"
    }
   ],
   "source": [
    "# Plotting word cloud\n",
    "plt.subplots(figsize=(10,10)) # setting figure size\n",
    "plt.axis('off') # turning off axis\n",
    "plt.grid(b=None) # turning off grid\n",
    "\n",
    "wc_askscience = WordCloud(background_color=\"white\", \n",
    "               max_words=100, \n",
    "               mask=char_mask_askscience, \n",
    "               random_state=1).generate(askscience_top_words_str)\n",
    "\n",
    "plt.imshow(wc_askscience.recolor(color_func=image_colors_askscience))"
   ]
  },
  {
   "cell_type": "code",
   "execution_count": 100,
   "metadata": {},
   "outputs": [
    {
     "data": {
      "text/plain": [
       "<wordcloud.wordcloud.WordCloud at 0x1a2050e160>"
      ]
     },
     "execution_count": 100,
     "metadata": {},
     "output_type": "execute_result"
    }
   ],
   "source": [
    "wc_askscience.to_file('./askscience-word.png')"
   ]
  },
  {
   "cell_type": "markdown",
   "metadata": {},
   "source": [
    "## Moving Forward.."
   ]
  },
  {
   "cell_type": "markdown",
   "metadata": {},
   "source": [
    "As this model is trained on words which users post on reddit, it is important to constantly re-train the model as the words and lingo that people use tend to change with time.\n",
    "\n",
    "Future steps we can look into to improve our classification model would perhaps be to integrate the length of the titles and selftext into our model. As mentioned earlier, titles and selftext on r/askscience generally tend to be longer than those on r/Jokes."
   ]
  }
 ],
 "metadata": {
  "kernelspec": {
   "display_name": "Python 3",
   "language": "python",
   "name": "python3"
  },
  "language_info": {
   "codemirror_mode": {
    "name": "ipython",
    "version": 3
   },
   "file_extension": ".py",
   "mimetype": "text/x-python",
   "name": "python",
   "nbconvert_exporter": "python",
   "pygments_lexer": "ipython3",
   "version": "3.7.1"
  }
 },
 "nbformat": 4,
 "nbformat_minor": 2
}

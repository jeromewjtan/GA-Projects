{
 "cells": [
  {
   "cell_type": "markdown",
   "metadata": {},
   "source": [
    "# Importing libraries"
   ]
  },
  {
   "cell_type": "code",
   "execution_count": 2,
   "metadata": {},
   "outputs": [],
   "source": [
    "import requests\n",
    "import time\n",
    "import pandas as pd"
   ]
  },
  {
   "cell_type": "markdown",
   "metadata": {},
   "source": [
    "# Requesting API"
   ]
  },
  {
   "cell_type": "markdown",
   "metadata": {},
   "source": [
    "The subreddits we have chosen are:\n",
    "1. r/Jokes\n",
    "2. r/askscience"
   ]
  },
  {
   "cell_type": "code",
   "execution_count": 3,
   "metadata": {},
   "outputs": [],
   "source": [
    "url_jokes = 'https://www.reddit.com/r/jokes.json'\n",
    "url_askscience = 'https://www.reddit.com/r/askscience.json'"
   ]
  },
  {
   "cell_type": "code",
   "execution_count": 4,
   "metadata": {},
   "outputs": [],
   "source": [
    "# Creating a user-agent for our API request\n",
    "header = {'User-Agent': 'beautiful soup'}"
   ]
  },
  {
   "cell_type": "code",
   "execution_count": 5,
   "metadata": {
    "scrolled": true
   },
   "outputs": [
    {
     "name": "stdout",
     "output_type": "stream",
     "text": [
      "0\n",
      "1\n",
      "2\n",
      "3\n",
      "4\n",
      "5\n",
      "6\n",
      "7\n",
      "8\n",
      "9\n",
      "10\n",
      "11\n",
      "12\n",
      "13\n",
      "14\n",
      "15\n",
      "16\n",
      "17\n",
      "18\n",
      "19\n",
      "20\n",
      "21\n",
      "22\n",
      "23\n",
      "24\n",
      "25\n",
      "26\n",
      "27\n",
      "28\n",
      "29\n",
      "30\n",
      "31\n",
      "32\n",
      "33\n",
      "34\n",
      "35\n",
      "36\n",
      "37\n",
      "38\n",
      "39\n"
     ]
    }
   ],
   "source": [
    "# Scrapping r/jokes\n",
    "jokes_posts = []\n",
    "after = None\n",
    "for i in range(40): #40 requests * 25 posts per page = 1000 posts\n",
    "    print(i)\n",
    "    if after == None:\n",
    "        params = {}\n",
    "    else:\n",
    "        params = {'after': after}\n",
    "    res = requests.get(url_jokes, params=params, headers=header)\n",
    "    if res.status_code == 200:\n",
    "        the_json = res.json()\n",
    "        jokes_posts.extend(the_json['data']['children'])\n",
    "        after = the_json['data']['after']\n",
    "    else:\n",
    "        print(res.status_code)\n",
    "        break\n",
    "    time.sleep(1)"
   ]
  },
  {
   "cell_type": "code",
   "execution_count": 6,
   "metadata": {
    "scrolled": true
   },
   "outputs": [
    {
     "name": "stdout",
     "output_type": "stream",
     "text": [
      "0\n",
      "1\n",
      "2\n",
      "3\n",
      "4\n",
      "5\n",
      "6\n",
      "7\n",
      "8\n",
      "9\n",
      "10\n",
      "11\n",
      "12\n",
      "13\n",
      "14\n",
      "15\n",
      "16\n",
      "17\n",
      "18\n",
      "19\n",
      "20\n",
      "21\n",
      "22\n",
      "23\n",
      "24\n",
      "25\n",
      "26\n",
      "27\n",
      "28\n",
      "29\n",
      "30\n",
      "31\n",
      "32\n",
      "33\n",
      "34\n",
      "35\n",
      "36\n",
      "37\n",
      "38\n",
      "39\n"
     ]
    }
   ],
   "source": [
    "# Scrapping r/askscience\n",
    "askscience_posts = []\n",
    "after = None\n",
    "for i in range(40): #40 requests * 25 posts per page = 1000 posts\n",
    "    print(i)\n",
    "    if after == None:\n",
    "        params = {}\n",
    "    else:\n",
    "        params = {'after': after}\n",
    "    res = requests.get(url_askscience, params=params, headers=header)\n",
    "    if res.status_code == 200:\n",
    "        the_json = res.json()\n",
    "        askscience_posts.extend(the_json['data']['children'])\n",
    "        after = the_json['data']['after']\n",
    "    else:\n",
    "        print(res.status_code)\n",
    "        break\n",
    "    time.sleep(1)"
   ]
  },
  {
   "cell_type": "code",
   "execution_count": 8,
   "metadata": {},
   "outputs": [
    {
     "data": {
      "text/html": [
       "<div>\n",
       "<style scoped>\n",
       "    .dataframe tbody tr th:only-of-type {\n",
       "        vertical-align: middle;\n",
       "    }\n",
       "\n",
       "    .dataframe tbody tr th {\n",
       "        vertical-align: top;\n",
       "    }\n",
       "\n",
       "    .dataframe thead th {\n",
       "        text-align: right;\n",
       "    }\n",
       "</style>\n",
       "<table border=\"1\" class=\"dataframe\">\n",
       "  <thead>\n",
       "    <tr style=\"text-align: right;\">\n",
       "      <th></th>\n",
       "      <th>title</th>\n",
       "      <th>selftext</th>\n",
       "      <th>subreddit</th>\n",
       "    </tr>\n",
       "  </thead>\n",
       "  <tbody>\n",
       "    <tr>\n",
       "      <th>0</th>\n",
       "      <td>r/jokes has a discord and you need to join!</td>\n",
       "      <td>Over 10k members!  Come see reposts in real ti...</td>\n",
       "      <td>Jokes</td>\n",
       "    </tr>\n",
       "    <tr>\n",
       "      <th>1</th>\n",
       "      <td>When I was a kid, Santa gave me a lump of coal...</td>\n",
       "      <td>Somehow the bastard found out and killed my dad.</td>\n",
       "      <td>Jokes</td>\n",
       "    </tr>\n",
       "    <tr>\n",
       "      <th>2</th>\n",
       "      <td>A son walks in on his parents having sex NSFW</td>\n",
       "      <td>The parents see the boy and he runs off to his...</td>\n",
       "      <td>Jokes</td>\n",
       "    </tr>\n",
       "    <tr>\n",
       "      <th>3</th>\n",
       "      <td>[NSFW] A doctor is giving a tour of a local ho...</td>\n",
       "      <td>One day a public health official goes to visit...</td>\n",
       "      <td>Jokes</td>\n",
       "    </tr>\n",
       "    <tr>\n",
       "      <th>4</th>\n",
       "      <td>Genie: You have 3 wishes.</td>\n",
       "      <td>Me: I've seen this before. Whatever I wish for...</td>\n",
       "      <td>Jokes</td>\n",
       "    </tr>\n",
       "  </tbody>\n",
       "</table>\n",
       "</div>"
      ],
      "text/plain": [
       "                                               title  \\\n",
       "0        r/jokes has a discord and you need to join!   \n",
       "1  When I was a kid, Santa gave me a lump of coal...   \n",
       "2      A son walks in on his parents having sex NSFW   \n",
       "3  [NSFW] A doctor is giving a tour of a local ho...   \n",
       "4                          Genie: You have 3 wishes.   \n",
       "\n",
       "                                            selftext subreddit  \n",
       "0  Over 10k members!  Come see reposts in real ti...     Jokes  \n",
       "1   Somehow the bastard found out and killed my dad.     Jokes  \n",
       "2  The parents see the boy and he runs off to his...     Jokes  \n",
       "3  One day a public health official goes to visit...     Jokes  \n",
       "4  Me: I've seen this before. Whatever I wish for...     Jokes  "
      ]
     },
     "execution_count": 8,
     "metadata": {},
     "output_type": "execute_result"
    }
   ],
   "source": [
    "# Creating a dataframe for our jokes subreddit\n",
    "jokes_df = pd.DataFrame()\n",
    "jokes_df['title'] = [k['data']['title'] for k in jokes_posts]\n",
    "jokes_df['selftext'] = [k['data']['selftext'] for k in jokes_posts]\n",
    "jokes_df['subreddit'] = [k['data']['subreddit'] for k in jokes_posts]\n",
    "\n",
    "jokes_df.head()"
   ]
  },
  {
   "cell_type": "code",
   "execution_count": 13,
   "metadata": {},
   "outputs": [
    {
     "data": {
      "text/html": [
       "<div>\n",
       "<style scoped>\n",
       "    .dataframe tbody tr th:only-of-type {\n",
       "        vertical-align: middle;\n",
       "    }\n",
       "\n",
       "    .dataframe tbody tr th {\n",
       "        vertical-align: top;\n",
       "    }\n",
       "\n",
       "    .dataframe thead th {\n",
       "        text-align: right;\n",
       "    }\n",
       "</style>\n",
       "<table border=\"1\" class=\"dataframe\">\n",
       "  <thead>\n",
       "    <tr style=\"text-align: right;\">\n",
       "      <th></th>\n",
       "      <th>title</th>\n",
       "      <th>selftext</th>\n",
       "      <th>subreddit</th>\n",
       "    </tr>\n",
       "  </thead>\n",
       "  <tbody>\n",
       "    <tr>\n",
       "      <th>0</th>\n",
       "      <td>AskScience Panel of Scientists XXI</td>\n",
       "      <td>**Please read this entire post carefully and f...</td>\n",
       "      <td>askscience</td>\n",
       "    </tr>\n",
       "    <tr>\n",
       "      <th>1</th>\n",
       "      <td>AskScience AMA Series: We are scientists who h...</td>\n",
       "      <td>We have just announced the [first results](htt...</td>\n",
       "      <td>askscience</td>\n",
       "    </tr>\n",
       "    <tr>\n",
       "      <th>2</th>\n",
       "      <td>When a woman is pregnant does the baby follow ...</td>\n",
       "      <td></td>\n",
       "      <td>askscience</td>\n",
       "    </tr>\n",
       "    <tr>\n",
       "      <th>3</th>\n",
       "      <td>What causes hair to turn grey?</td>\n",
       "      <td></td>\n",
       "      <td>askscience</td>\n",
       "    </tr>\n",
       "    <tr>\n",
       "      <th>4</th>\n",
       "      <td>When did the last common ancestor of the gener...</td>\n",
       "      <td></td>\n",
       "      <td>askscience</td>\n",
       "    </tr>\n",
       "  </tbody>\n",
       "</table>\n",
       "</div>"
      ],
      "text/plain": [
       "                                               title  \\\n",
       "0                 AskScience Panel of Scientists XXI   \n",
       "1  AskScience AMA Series: We are scientists who h...   \n",
       "2  When a woman is pregnant does the baby follow ...   \n",
       "3                     What causes hair to turn grey?   \n",
       "4  When did the last common ancestor of the gener...   \n",
       "\n",
       "                                            selftext   subreddit  \n",
       "0  **Please read this entire post carefully and f...  askscience  \n",
       "1  We have just announced the [first results](htt...  askscience  \n",
       "2                                                     askscience  \n",
       "3                                                     askscience  \n",
       "4                                                     askscience  "
      ]
     },
     "execution_count": 13,
     "metadata": {},
     "output_type": "execute_result"
    }
   ],
   "source": [
    "# Creating a data frame for our askscience subreddit\n",
    "askscience_df = pd.DataFrame()\n",
    "askscience_df['title'] = [k['data']['title'] for k in askscience_posts]\n",
    "askscience_df['selftext'] = [k['data']['selftext'] for k in askscience_posts]\n",
    "askscience_df['subreddit'] = [k['data']['subreddit'] for k in askscience_posts]\n",
    "\n",
    "\n",
    "askscience_df.head()"
   ]
  },
  {
   "cell_type": "code",
   "execution_count": 14,
   "metadata": {},
   "outputs": [],
   "source": [
    "# Combining our dataframe from both subreddits into one\n",
    "reddit_df = pd.concat([jokes_df, askscience_df], axis=0)"
   ]
  },
  {
   "cell_type": "code",
   "execution_count": 15,
   "metadata": {},
   "outputs": [],
   "source": [
    "# Exporting our dataset to a csv\n",
    "reddit_df.to_csv('./reddit.csv')"
   ]
  }
 ],
 "metadata": {
  "kernelspec": {
   "display_name": "Python 3",
   "language": "python",
   "name": "python3"
  },
  "language_info": {
   "codemirror_mode": {
    "name": "ipython",
    "version": 3
   },
   "file_extension": ".py",
   "mimetype": "text/x-python",
   "name": "python",
   "nbconvert_exporter": "python",
   "pygments_lexer": "ipython3",
   "version": "3.7.1"
  }
 },
 "nbformat": 4,
 "nbformat_minor": 2
}

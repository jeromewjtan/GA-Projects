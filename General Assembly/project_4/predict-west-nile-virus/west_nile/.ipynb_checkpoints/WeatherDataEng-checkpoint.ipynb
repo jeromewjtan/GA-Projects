{
 "cells": [
  {
   "cell_type": "code",
   "execution_count": 95,
   "metadata": {},
   "outputs": [],
   "source": [
    "from datetime import datetime, timedelta\n",
    "import pandas as pd\n",
    "import numpy as np\n",
    "import matplotlib\n",
    "import matplotlib.pyplot as plt\n",
    "import seaborn as sns\n",
    "import statistics as st\n",
    "pd.set_option('display.max_rows', 500)\n",
    "pd.set_option('display.max_columns', 500)\n",
    "pd.set_option('display.width', 1000)\n"
   ]
  },
  {
   "cell_type": "code",
   "execution_count": 128,
   "metadata": {},
   "outputs": [
    {
     "name": "stderr",
     "output_type": "stream",
     "text": [
      "/Users/ganeshsivam/opt/anaconda3/lib/python3.7/site-packages/ipykernel_launcher.py:38: SettingWithCopyWarning: \n",
      "A value is trying to be set on a copy of a slice from a DataFrame.\n",
      "Try using .loc[row_indexer,col_indexer] = value instead\n",
      "\n",
      "See the caveats in the documentation: http://pandas.pydata.org/pandas-docs/stable/user_guide/indexing.html#returning-a-view-versus-a-copy\n"
     ]
    }
   ],
   "source": [
    "weather = pd.read_csv('input/weather.csv')\n",
    "weather['Date'] = pd.to_datetime(weather['Date'])\n",
    "weather['PrecipTotal'] = weather['PrecipTotal'].apply(lambda x: 0.002 if x=='  T' else x)\n",
    "\n",
    "mode = st.mode(weather['PrecipTotal'])\n",
    "weather['PrecipTotal'] = weather['PrecipTotal'].apply(lambda x: mode if x=='M' else x)\n",
    "\n",
    "weather.drop(weather.loc[weather['Tavg']==\"M\"].index,inplace=True)\n",
    "weather.drop(weather.loc[weather['SeaLevel']==\"M\"].index,inplace=True)\n",
    "weather.drop(weather.loc[weather['StnPressure']==\"M\"].index,inplace=True)\n",
    "weather['Heat'] = weather['Heat'].astype(int)\n",
    "weather['Cool'] = weather['Cool'].astype(int)\n",
    "weather['SeaLevel'] = weather['SeaLevel'].astype(float)\n",
    "weather['AvgSpeed'] = weather['AvgSpeed'].astype(float)\n",
    "weather['Tavg'] = weather['Tavg'].astype(int)\n",
    "\n",
    "#weather['Tavg'] = weather.apply(lambda x: (x['Tmin']+x['Tmax'])/2 if x==\"M\" else x, axis=1)\n",
    "def fill_wet_bulb(tavg, dp, wetbulb):\n",
    "    if wetbulb == 'M':\n",
    "        wetbulb = tavg - ((tavg-dp)/3)\n",
    "    return wetbulb\n",
    "\n",
    "weather['WetBulb'] = weather.apply(lambda x: fill_wet_bulb(x['Tavg'], x['DewPoint'], x['WetBulb']), axis=1)\n",
    "weather['WetBulb'] = weather['WetBulb'].astype(float)\n",
    "weather['PrecipTotal'] = weather['PrecipTotal'].astype(float)\n",
    "weather['StnPressure'] = weather['StnPressure'].astype(float)\n",
    "\n",
    "weather = weather[['Station','Date','Tmax','Tmin','Tavg','DewPoint','WetBulb','Heat','Cool','PrecipTotal','StnPressure','SeaLevel', 'ResultSpeed', 'ResultDir', 'AvgSpeed']]\n",
    "\n",
    "weather1 = weather.loc[weather['Station'] == 1]\n",
    "weather2 = weather.loc[weather['Station'] == 2]\n",
    "sum_cols = ['Min','Max','Avg','Std_dev']\n",
    "\n",
    "def wea_sum(df,days=14):\n",
    "    cols = [c for c in df.columns if c not in ['Station','Date']]\n",
    "    for c in cols:\n",
    "        for s in sum_cols:\n",
    "            df[c+\"14_days_\"+s] = \"\"\n",
    "    df.reset_index(inplace=True,drop=True)\n",
    "    for i in df.index:\n",
    "        if i>=days:\n",
    "            res = df.loc[i-days:i-1]\n",
    "            for c in cols:\n",
    "                l = res[c].values\n",
    "                df.loc[i,c+\"14_days_Min\"] = min(l)\n",
    "                df.loc[i,c+\"14_days_Max\"] = max(l)\n",
    "                df.loc[i,c+\"14_days_Avg\"] = sum(l)/len(l)\n",
    "                df.loc[i,c+\"14_days_Std_dev\"] = st.stdev(l)\n",
    "        elif i != 0:\n",
    "            res = df.loc[:i-1]\n",
    "            for c in cols:\n",
    "                l = res[c].values\n",
    "                df.loc[i,c+\"14_days_Min\"] = min(l)\n",
    "                df.loc[i,c+\"14_days_Max\"] = max(l)\n",
    "                df.loc[i,c+\"14_days_Avg\"] = sum(l)/len(l)\n",
    "                if len(res) >1:\n",
    "                    df.loc[i,c+\"14_days_Std_dev\"] = st.stdev(l)\n",
    "                else:\n",
    "                    df.loc[i,c+\"14_days_Std_dev\"] = 0\n",
    "        else:\n",
    "            res = df.loc[0]\n",
    "            for c in cols:\n",
    "                l = res[c]\n",
    "                df.loc[i,c+\"14_days_Min\"] = l\n",
    "                df.loc[i,c+\"14_days_Max\"] = l\n",
    "                df.loc[i,c+\"14_days_Avg\"] = l\n",
    "                df.loc[i,c+\"14_days_Std_dev\"] = 0\n",
    "    return df\n",
    "\n",
    "weather1 = wea_sum(weather1,14)\n",
    "weather2 = wea_sum(weather2,14)\n",
    "weather = pd.concat([weather1,weather2])\n",
    "weather.reset_index(inplace=True,drop=True)\n",
    "weather.to_csv(\"output/Weather_FE.csv\",index=False)"
   ]
  },
  {
   "cell_type": "code",
   "execution_count": 107,
   "metadata": {},
   "outputs": [],
   "source": [
    "weather.to_csv(\"Weather_FE.csv\",index=False)"
   ]
  },
  {
   "cell_type": "code",
   "execution_count": 122,
   "metadata": {},
   "outputs": [
    {
     "data": {
      "text/plain": [
       "50"
      ]
     },
     "execution_count": 122,
     "metadata": {},
     "output_type": "execute_result"
    }
   ],
   "source": [
    "weather1.loc[0]['Tmin']"
   ]
  },
  {
   "cell_type": "code",
   "execution_count": 126,
   "metadata": {},
   "outputs": [
    {
     "data": {
      "text/plain": [
       "0.0"
      ]
     },
     "execution_count": 126,
     "metadata": {},
     "output_type": "execute_result"
    }
   ],
   "source": [
    "st.stdev([14,14])"
   ]
  },
  {
   "cell_type": "code",
   "execution_count": null,
   "metadata": {},
   "outputs": [],
   "source": []
  }
 ],
 "metadata": {
  "kernelspec": {
   "display_name": "Python 3",
   "language": "python",
   "name": "python3"
  },
  "language_info": {
   "codemirror_mode": {
    "name": "ipython",
    "version": 3
   },
   "file_extension": ".py",
   "mimetype": "text/x-python",
   "name": "python",
   "nbconvert_exporter": "python",
   "pygments_lexer": "ipython3",
   "version": "3.7.4"
  }
 },
 "nbformat": 4,
 "nbformat_minor": 2
}

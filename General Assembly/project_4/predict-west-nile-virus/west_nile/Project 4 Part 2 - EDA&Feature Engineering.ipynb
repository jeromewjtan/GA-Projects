{
 "cells": [
  {
   "cell_type": "code",
   "execution_count": 1,
   "metadata": {},
   "outputs": [],
   "source": [
    "import pandas as pd\n",
    "import numpy as np\n",
    "import matplotlib\n",
    "import matplotlib.pyplot as plt\n",
    "import seaborn as sns\n",
    "pd.set_option('display.max_rows', 500)\n",
    "pd.set_option('display.max_columns', 500)\n",
    "pd.set_option('display.width', 1000)\n"
   ]
  },
  {
   "cell_type": "markdown",
   "metadata": {},
   "source": [
    "#### The goal of this section is to perform exploratory data analysis on the combined dataset to gain deeper insight and understanding of the data before creating our model. "
   ]
  },
  {
   "cell_type": "code",
   "execution_count": 2,
   "metadata": {},
   "outputs": [],
   "source": [
    "train = pd.read_csv('output/train_spray_weat.csv')\n",
    "train['Date'] = pd.to_datetime(train['Date'])\n",
    "train.drop('Address',inplace=True,axis=1)"
   ]
  },
  {
   "cell_type": "code",
   "execution_count": 3,
   "metadata": {},
   "outputs": [
    {
     "name": "stdout",
     "output_type": "stream",
     "text": [
      "<class 'pandas.core.frame.DataFrame'>\n",
      "RangeIndex: 10506 entries, 0 to 10505\n",
      "Data columns (total 31 columns):\n",
      "Date                              10506 non-null datetime64[ns]\n",
      "Latitude                          10506 non-null float64\n",
      "Longitude                         10506 non-null float64\n",
      "NumMosquitos                      10506 non-null int64\n",
      "Species_CULEX PIPIENS             10506 non-null int64\n",
      "Species_CULEX PIPIENS/RESTUANS    10506 non-null int64\n",
      "Species_CULEX RESTUANS            10506 non-null int64\n",
      "Species_CULEX SALINARIUS          10506 non-null int64\n",
      "Species_CULEX TARSALIS            10506 non-null int64\n",
      "Species_CULEX TERRITANS           10506 non-null int64\n",
      "most_recent_spray                 10506 non-null int64\n",
      "WnvPresent                        10506 non-null int64\n",
      "Station                           10506 non-null int64\n",
      "Tmax                              10506 non-null int64\n",
      "Tmin                              10506 non-null int64\n",
      "Tavg                              10506 non-null int64\n",
      "DewPoint                          10506 non-null int64\n",
      "WetBulb                           10506 non-null int64\n",
      "Heat                              10506 non-null int64\n",
      "Cool                              10506 non-null int64\n",
      "CodeSum                           10506 non-null object\n",
      "PrecipTotal                       10506 non-null float64\n",
      "StnPressure                       10506 non-null float64\n",
      "SeaLevel                          10506 non-null float64\n",
      "ResultSpeed                       10506 non-null float64\n",
      "ResultDir                         10506 non-null int64\n",
      "AvgSpeed                          10506 non-null float64\n",
      "Month                             10506 non-null int64\n",
      "Year                              10506 non-null int64\n",
      "Weather_hot_dry                   10506 non-null int64\n",
      "Weather_normal                    10506 non-null int64\n",
      "dtypes: datetime64[ns](1), float64(7), int64(22), object(1)\n",
      "memory usage: 2.5+ MB\n"
     ]
    }
   ],
   "source": [
    "train.info()"
   ]
  },
  {
   "cell_type": "code",
   "execution_count": 4,
   "metadata": {
    "scrolled": true
   },
   "outputs": [
    {
     "data": {
      "text/plain": [
       "0    9955\n",
       "1     551\n",
       "Name: WnvPresent, dtype: int64"
      ]
     },
     "execution_count": 4,
     "metadata": {},
     "output_type": "execute_result"
    }
   ],
   "source": [
    "train['WnvPresent'].value_counts()"
   ]
  },
  {
   "cell_type": "markdown",
   "metadata": {},
   "source": [
    "Only 551 of the 10506 contain the virus"
   ]
  },
  {
   "cell_type": "markdown",
   "metadata": {},
   "source": [
    "Visualize correlation of features to the target variable, \"WnvPresent\""
   ]
  },
  {
   "cell_type": "code",
   "execution_count": 5,
   "metadata": {},
   "outputs": [
    {
     "data": {
      "text/plain": [
       "<matplotlib.axes._subplots.AxesSubplot at 0x1a17c3a410>"
      ]
     },
     "execution_count": 5,
     "metadata": {},
     "output_type": "execute_result"
    },
    {
     "data": {
      "image/png": "[encoded data removed]",
      "text/plain": [
       "<Figure size 432x288 with 1 Axes>"
      ]
     },
     "metadata": {
      "needs_background": "light"
     },
     "output_type": "display_data"
    }
   ],
   "source": [
    "train.corr()[['WnvPresent']].plot.bar()"
   ]
  },
  {
   "cell_type": "code",
   "execution_count": 6,
   "metadata": {},
   "outputs": [
    {
     "data": {
      "text/html": [
       "<div>\n",
       "<style scoped>\n",
       "    .dataframe tbody tr th:only-of-type {\n",
       "        vertical-align: middle;\n",
       "    }\n",
       "\n",
       "    .dataframe tbody tr th {\n",
       "        vertical-align: top;\n",
       "    }\n",
       "\n",
       "    .dataframe thead th {\n",
       "        text-align: right;\n",
       "    }\n",
       "</style>\n",
       "<table border=\"1\" class=\"dataframe\">\n",
       "  <thead>\n",
       "    <tr style=\"text-align: right;\">\n",
       "      <th></th>\n",
       "      <th>WnvPresent</th>\n",
       "    </tr>\n",
       "  </thead>\n",
       "  <tbody>\n",
       "    <tr>\n",
       "      <th>WnvPresent</th>\n",
       "      <td>1.000000</td>\n",
       "    </tr>\n",
       "    <tr>\n",
       "      <th>NumMosquitos</th>\n",
       "      <td>0.196820</td>\n",
       "    </tr>\n",
       "    <tr>\n",
       "      <th>Month</th>\n",
       "      <td>0.100143</td>\n",
       "    </tr>\n",
       "    <tr>\n",
       "      <th>Species_CULEX PIPIENS</th>\n",
       "      <td>0.096206</td>\n",
       "    </tr>\n",
       "    <tr>\n",
       "      <th>DewPoint</th>\n",
       "      <td>0.082685</td>\n",
       "    </tr>\n",
       "    <tr>\n",
       "      <th>WetBulb</th>\n",
       "      <td>0.077539</td>\n",
       "    </tr>\n",
       "    <tr>\n",
       "      <th>Tmin</th>\n",
       "      <td>0.065705</td>\n",
       "    </tr>\n",
       "    <tr>\n",
       "      <th>Tavg</th>\n",
       "      <td>0.059897</td>\n",
       "    </tr>\n",
       "    <tr>\n",
       "      <th>Cool</th>\n",
       "      <td>0.053347</td>\n",
       "    </tr>\n",
       "    <tr>\n",
       "      <th>Year</th>\n",
       "      <td>0.050865</td>\n",
       "    </tr>\n",
       "    <tr>\n",
       "      <th>Tmax</th>\n",
       "      <td>0.047130</td>\n",
       "    </tr>\n",
       "    <tr>\n",
       "      <th>Latitude</th>\n",
       "      <td>0.028708</td>\n",
       "    </tr>\n",
       "    <tr>\n",
       "      <th>PrecipTotal</th>\n",
       "      <td>0.028427</td>\n",
       "    </tr>\n",
       "    <tr>\n",
       "      <th>Species_CULEX PIPIENS/RESTUANS</th>\n",
       "      <td>0.010960</td>\n",
       "    </tr>\n",
       "    <tr>\n",
       "      <th>SeaLevel</th>\n",
       "      <td>0.010163</td>\n",
       "    </tr>\n",
       "    <tr>\n",
       "      <th>ResultDir</th>\n",
       "      <td>-0.003530</td>\n",
       "    </tr>\n",
       "    <tr>\n",
       "      <th>StnPressure</th>\n",
       "      <td>-0.004663</td>\n",
       "    </tr>\n",
       "    <tr>\n",
       "      <th>Species_CULEX TARSALIS</th>\n",
       "      <td>-0.005624</td>\n",
       "    </tr>\n",
       "    <tr>\n",
       "      <th>Weather_hot_dry</th>\n",
       "      <td>-0.008478</td>\n",
       "    </tr>\n",
       "    <tr>\n",
       "      <th>Species_CULEX SALINARIUS</th>\n",
       "      <td>-0.021373</td>\n",
       "    </tr>\n",
       "    <tr>\n",
       "      <th>most_recent_spray</th>\n",
       "      <td>-0.026562</td>\n",
       "    </tr>\n",
       "    <tr>\n",
       "      <th>AvgSpeed</th>\n",
       "      <td>-0.031043</td>\n",
       "    </tr>\n",
       "    <tr>\n",
       "      <th>Species_CULEX TERRITANS</th>\n",
       "      <td>-0.034566</td>\n",
       "    </tr>\n",
       "    <tr>\n",
       "      <th>ResultSpeed</th>\n",
       "      <td>-0.043413</td>\n",
       "    </tr>\n",
       "    <tr>\n",
       "      <th>Weather_normal</th>\n",
       "      <td>-0.051531</td>\n",
       "    </tr>\n",
       "    <tr>\n",
       "      <th>Heat</th>\n",
       "      <td>-0.052818</td>\n",
       "    </tr>\n",
       "    <tr>\n",
       "      <th>Longitude</th>\n",
       "      <td>-0.060389</td>\n",
       "    </tr>\n",
       "    <tr>\n",
       "      <th>Station</th>\n",
       "      <td>-0.069641</td>\n",
       "    </tr>\n",
       "    <tr>\n",
       "      <th>Species_CULEX RESTUANS</th>\n",
       "      <td>-0.092094</td>\n",
       "    </tr>\n",
       "  </tbody>\n",
       "</table>\n",
       "</div>"
      ],
      "text/plain": [
       "                                WnvPresent\n",
       "WnvPresent                        1.000000\n",
       "NumMosquitos                      0.196820\n",
       "Month                             0.100143\n",
       "Species_CULEX PIPIENS             0.096206\n",
       "DewPoint                          0.082685\n",
       "WetBulb                           0.077539\n",
       "Tmin                              0.065705\n",
       "Tavg                              0.059897\n",
       "Cool                              0.053347\n",
       "Year                              0.050865\n",
       "Tmax                              0.047130\n",
       "Latitude                          0.028708\n",
       "PrecipTotal                       0.028427\n",
       "Species_CULEX PIPIENS/RESTUANS    0.010960\n",
       "SeaLevel                          0.010163\n",
       "ResultDir                        -0.003530\n",
       "StnPressure                      -0.004663\n",
       "Species_CULEX TARSALIS           -0.005624\n",
       "Weather_hot_dry                  -0.008478\n",
       "Species_CULEX SALINARIUS         -0.021373\n",
       "most_recent_spray                -0.026562\n",
       "AvgSpeed                         -0.031043\n",
       "Species_CULEX TERRITANS          -0.034566\n",
       "ResultSpeed                      -0.043413\n",
       "Weather_normal                   -0.051531\n",
       "Heat                             -0.052818\n",
       "Longitude                        -0.060389\n",
       "Station                          -0.069641\n",
       "Species_CULEX RESTUANS           -0.092094"
      ]
     },
     "execution_count": 6,
     "metadata": {},
     "output_type": "execute_result"
    }
   ],
   "source": [
    "train.corr()[['WnvPresent']].sort_values(by='WnvPresent',ascending=False)"
   ]
  },
  {
   "cell_type": "markdown",
   "metadata": {},
   "source": [
    "The NumMosquitos feature has the higest correlation with the target variable. The correlation of all variables are very low, with the highest correlation being only 0.196, this is probably due to the low number of observations which have the virus. \n",
    "\n"
   ]
  },
  {
   "cell_type": "code",
   "execution_count": 7,
   "metadata": {},
   "outputs": [
    {
     "data": {
      "text/plain": [
       "<matplotlib.axes._subplots.AxesSubplot at 0x1a1812bc50>"
      ]
     },
     "execution_count": 7,
     "metadata": {},
     "output_type": "execute_result"
    },
    {
     "data": {
      "image/png": "[encoded data removed]",
      "text/plain": [
       "<Figure size 288x216 with 1 Axes>"
      ]
     },
     "metadata": {
      "needs_background": "light"
     },
     "output_type": "display_data"
    }
   ],
   "source": [
    "plt.subplots(figsize=(4,3))\n",
    "sns.barplot('WnvPresent','NumMosquitos',data=train,hue='WnvPresent')"
   ]
  },
  {
   "cell_type": "markdown",
   "metadata": {},
   "source": [
    "The chart above indicates that the higher the number of mosquitoes found in the trap, the higher the chances of finding a mosquito with the WNV. However, we might not be able to use this feature for future predictions as we will only get this data at the point of collecting the trap results, which will also show us if the virus is present in the trap"
   ]
  },
  {
   "cell_type": "markdown",
   "metadata": {},
   "source": [
    "Now we will visualize the presence of the virus by species of mosquito in the trap"
   ]
  },
  {
   "cell_type": "code",
   "execution_count": 8,
   "metadata": {},
   "outputs": [],
   "source": [
    "c = [c for c in train.columns if \"Species\" in c]"
   ]
  },
  {
   "cell_type": "code",
   "execution_count": 9,
   "metadata": {},
   "outputs": [
    {
     "data": {
      "image/png": "[encoded data removed]",
      "text/plain": [
       "<Figure size 720x864 with 6 Axes>"
      ]
     },
     "metadata": {
      "needs_background": "light"
     },
     "output_type": "display_data"
    }
   ],
   "source": [
    "f, axes = plt.subplots(6,figsize=(10,12))\n",
    "plt.subplots_adjust(hspace = 1)\n",
    "#plt.legend(bbox_to_anchor=(1.05, 1), loc=2, borderaxespad=0.)\n",
    "#plt.legend(loc='upper right')\n",
    "for i in range(len(c)):\n",
    "    g = sns.countplot(c[i],data=train,hue='WnvPresent',ax=axes[i])\n",
    "    g.legend(loc='upper right',title='WnvPresent')"
   ]
  },
  {
   "cell_type": "markdown",
   "metadata": {},
   "source": [
    "From these plots, we can see that CULEX SALINARIUS, CULEX TARSALIS & CULEX TERRITANS have very few observations"
   ]
  },
  {
   "cell_type": "code",
   "execution_count": 10,
   "metadata": {},
   "outputs": [
    {
     "data": {
      "text/plain": [
       "0    10420\n",
       "1       86\n",
       "Name: Species_CULEX SALINARIUS, dtype: int64"
      ]
     },
     "execution_count": 10,
     "metadata": {},
     "output_type": "execute_result"
    }
   ],
   "source": [
    "train['Species_CULEX SALINARIUS'].value_counts()"
   ]
  },
  {
   "cell_type": "code",
   "execution_count": 11,
   "metadata": {},
   "outputs": [
    {
     "data": {
      "text/html": [
       "<div>\n",
       "<style scoped>\n",
       "    .dataframe tbody tr th:only-of-type {\n",
       "        vertical-align: middle;\n",
       "    }\n",
       "\n",
       "    .dataframe tbody tr th {\n",
       "        vertical-align: top;\n",
       "    }\n",
       "\n",
       "    .dataframe thead th {\n",
       "        text-align: right;\n",
       "    }\n",
       "</style>\n",
       "<table border=\"1\" class=\"dataframe\">\n",
       "  <thead>\n",
       "    <tr style=\"text-align: right;\">\n",
       "      <th></th>\n",
       "      <th>Date</th>\n",
       "      <th>Latitude</th>\n",
       "      <th>Longitude</th>\n",
       "      <th>NumMosquitos</th>\n",
       "      <th>Species_CULEX PIPIENS</th>\n",
       "      <th>Species_CULEX PIPIENS/RESTUANS</th>\n",
       "      <th>Species_CULEX RESTUANS</th>\n",
       "      <th>Species_CULEX SALINARIUS</th>\n",
       "      <th>Species_CULEX TARSALIS</th>\n",
       "      <th>Species_CULEX TERRITANS</th>\n",
       "      <th>most_recent_spray</th>\n",
       "      <th>WnvPresent</th>\n",
       "      <th>Station</th>\n",
       "      <th>Tmax</th>\n",
       "      <th>Tmin</th>\n",
       "      <th>Tavg</th>\n",
       "      <th>DewPoint</th>\n",
       "      <th>WetBulb</th>\n",
       "      <th>Heat</th>\n",
       "      <th>Cool</th>\n",
       "      <th>CodeSum</th>\n",
       "      <th>PrecipTotal</th>\n",
       "      <th>StnPressure</th>\n",
       "      <th>SeaLevel</th>\n",
       "      <th>ResultSpeed</th>\n",
       "      <th>ResultDir</th>\n",
       "      <th>AvgSpeed</th>\n",
       "      <th>Month</th>\n",
       "      <th>Year</th>\n",
       "      <th>Weather_hot_dry</th>\n",
       "      <th>Weather_normal</th>\n",
       "    </tr>\n",
       "  </thead>\n",
       "  <tbody>\n",
       "  </tbody>\n",
       "</table>\n",
       "</div>"
      ],
      "text/plain": [
       "Empty DataFrame\n",
       "Columns: [Date, Latitude, Longitude, NumMosquitos, Species_CULEX PIPIENS, Species_CULEX PIPIENS/RESTUANS, Species_CULEX RESTUANS, Species_CULEX SALINARIUS, Species_CULEX TARSALIS, Species_CULEX TERRITANS, most_recent_spray, WnvPresent, Station, Tmax, Tmin, Tavg, DewPoint, WetBulb, Heat, Cool, CodeSum, PrecipTotal, StnPressure, SeaLevel, ResultSpeed, ResultDir, AvgSpeed, Month, Year, Weather_hot_dry, Weather_normal]\n",
       "Index: []"
      ]
     },
     "execution_count": 11,
     "metadata": {},
     "output_type": "execute_result"
    }
   ],
   "source": [
    "train.loc[(train['Species_CULEX SALINARIUS']==1)&(train['WnvPresent']==1)]"
   ]
  },
  {
   "cell_type": "code",
   "execution_count": 12,
   "metadata": {},
   "outputs": [
    {
     "data": {
      "text/plain": [
       "0    10500\n",
       "1        6\n",
       "Name: Species_CULEX TARSALIS, dtype: int64"
      ]
     },
     "execution_count": 12,
     "metadata": {},
     "output_type": "execute_result"
    }
   ],
   "source": [
    "train['Species_CULEX TARSALIS'].value_counts()"
   ]
  },
  {
   "cell_type": "code",
   "execution_count": 13,
   "metadata": {},
   "outputs": [
    {
     "data": {
      "text/html": [
       "<div>\n",
       "<style scoped>\n",
       "    .dataframe tbody tr th:only-of-type {\n",
       "        vertical-align: middle;\n",
       "    }\n",
       "\n",
       "    .dataframe tbody tr th {\n",
       "        vertical-align: top;\n",
       "    }\n",
       "\n",
       "    .dataframe thead th {\n",
       "        text-align: right;\n",
       "    }\n",
       "</style>\n",
       "<table border=\"1\" class=\"dataframe\">\n",
       "  <thead>\n",
       "    <tr style=\"text-align: right;\">\n",
       "      <th></th>\n",
       "      <th>Date</th>\n",
       "      <th>Latitude</th>\n",
       "      <th>Longitude</th>\n",
       "      <th>NumMosquitos</th>\n",
       "      <th>Species_CULEX PIPIENS</th>\n",
       "      <th>Species_CULEX PIPIENS/RESTUANS</th>\n",
       "      <th>Species_CULEX RESTUANS</th>\n",
       "      <th>Species_CULEX SALINARIUS</th>\n",
       "      <th>Species_CULEX TARSALIS</th>\n",
       "      <th>Species_CULEX TERRITANS</th>\n",
       "      <th>most_recent_spray</th>\n",
       "      <th>WnvPresent</th>\n",
       "      <th>Station</th>\n",
       "      <th>Tmax</th>\n",
       "      <th>Tmin</th>\n",
       "      <th>Tavg</th>\n",
       "      <th>DewPoint</th>\n",
       "      <th>WetBulb</th>\n",
       "      <th>Heat</th>\n",
       "      <th>Cool</th>\n",
       "      <th>CodeSum</th>\n",
       "      <th>PrecipTotal</th>\n",
       "      <th>StnPressure</th>\n",
       "      <th>SeaLevel</th>\n",
       "      <th>ResultSpeed</th>\n",
       "      <th>ResultDir</th>\n",
       "      <th>AvgSpeed</th>\n",
       "      <th>Month</th>\n",
       "      <th>Year</th>\n",
       "      <th>Weather_hot_dry</th>\n",
       "      <th>Weather_normal</th>\n",
       "    </tr>\n",
       "  </thead>\n",
       "  <tbody>\n",
       "  </tbody>\n",
       "</table>\n",
       "</div>"
      ],
      "text/plain": [
       "Empty DataFrame\n",
       "Columns: [Date, Latitude, Longitude, NumMosquitos, Species_CULEX PIPIENS, Species_CULEX PIPIENS/RESTUANS, Species_CULEX RESTUANS, Species_CULEX SALINARIUS, Species_CULEX TARSALIS, Species_CULEX TERRITANS, most_recent_spray, WnvPresent, Station, Tmax, Tmin, Tavg, DewPoint, WetBulb, Heat, Cool, CodeSum, PrecipTotal, StnPressure, SeaLevel, ResultSpeed, ResultDir, AvgSpeed, Month, Year, Weather_hot_dry, Weather_normal]\n",
       "Index: []"
      ]
     },
     "execution_count": 13,
     "metadata": {},
     "output_type": "execute_result"
    }
   ],
   "source": [
    "train.loc[(train['Species_CULEX TARSALIS']==1)&(train['WnvPresent']==1)]"
   ]
  },
  {
   "cell_type": "code",
   "execution_count": 14,
   "metadata": {},
   "outputs": [
    {
     "data": {
      "text/plain": [
       "0    10284\n",
       "1      222\n",
       "Name: Species_CULEX TERRITANS, dtype: int64"
      ]
     },
     "execution_count": 14,
     "metadata": {},
     "output_type": "execute_result"
    }
   ],
   "source": [
    "train['Species_CULEX TERRITANS'].value_counts()\n"
   ]
  },
  {
   "cell_type": "code",
   "execution_count": 15,
   "metadata": {},
   "outputs": [
    {
     "data": {
      "text/html": [
       "<div>\n",
       "<style scoped>\n",
       "    .dataframe tbody tr th:only-of-type {\n",
       "        vertical-align: middle;\n",
       "    }\n",
       "\n",
       "    .dataframe tbody tr th {\n",
       "        vertical-align: top;\n",
       "    }\n",
       "\n",
       "    .dataframe thead th {\n",
       "        text-align: right;\n",
       "    }\n",
       "</style>\n",
       "<table border=\"1\" class=\"dataframe\">\n",
       "  <thead>\n",
       "    <tr style=\"text-align: right;\">\n",
       "      <th></th>\n",
       "      <th>Date</th>\n",
       "      <th>Latitude</th>\n",
       "      <th>Longitude</th>\n",
       "      <th>NumMosquitos</th>\n",
       "      <th>Species_CULEX PIPIENS</th>\n",
       "      <th>Species_CULEX PIPIENS/RESTUANS</th>\n",
       "      <th>Species_CULEX RESTUANS</th>\n",
       "      <th>Species_CULEX SALINARIUS</th>\n",
       "      <th>Species_CULEX TARSALIS</th>\n",
       "      <th>Species_CULEX TERRITANS</th>\n",
       "      <th>most_recent_spray</th>\n",
       "      <th>WnvPresent</th>\n",
       "      <th>Station</th>\n",
       "      <th>Tmax</th>\n",
       "      <th>Tmin</th>\n",
       "      <th>Tavg</th>\n",
       "      <th>DewPoint</th>\n",
       "      <th>WetBulb</th>\n",
       "      <th>Heat</th>\n",
       "      <th>Cool</th>\n",
       "      <th>CodeSum</th>\n",
       "      <th>PrecipTotal</th>\n",
       "      <th>StnPressure</th>\n",
       "      <th>SeaLevel</th>\n",
       "      <th>ResultSpeed</th>\n",
       "      <th>ResultDir</th>\n",
       "      <th>AvgSpeed</th>\n",
       "      <th>Month</th>\n",
       "      <th>Year</th>\n",
       "      <th>Weather_hot_dry</th>\n",
       "      <th>Weather_normal</th>\n",
       "    </tr>\n",
       "  </thead>\n",
       "  <tbody>\n",
       "  </tbody>\n",
       "</table>\n",
       "</div>"
      ],
      "text/plain": [
       "Empty DataFrame\n",
       "Columns: [Date, Latitude, Longitude, NumMosquitos, Species_CULEX PIPIENS, Species_CULEX PIPIENS/RESTUANS, Species_CULEX RESTUANS, Species_CULEX SALINARIUS, Species_CULEX TARSALIS, Species_CULEX TERRITANS, most_recent_spray, WnvPresent, Station, Tmax, Tmin, Tavg, DewPoint, WetBulb, Heat, Cool, CodeSum, PrecipTotal, StnPressure, SeaLevel, ResultSpeed, ResultDir, AvgSpeed, Month, Year, Weather_hot_dry, Weather_normal]\n",
       "Index: []"
      ]
     },
     "execution_count": 15,
     "metadata": {},
     "output_type": "execute_result"
    }
   ],
   "source": [
    "train.loc[(train['Species_CULEX TERRITANS']==1)&(train['WnvPresent']==1)]"
   ]
  },
  {
   "cell_type": "markdown",
   "metadata": {},
   "source": [
    "When any of these 3 species have been present, the virus has not been detected"
   ]
  },
  {
   "cell_type": "markdown",
   "metadata": {},
   "source": [
    "Let's look at the monthly breakdown of Wnv cases"
   ]
  },
  {
   "cell_type": "code",
   "execution_count": 16,
   "metadata": {},
   "outputs": [
    {
     "data": {
      "text/plain": [
       "<matplotlib.axes._subplots.AxesSubplot at 0x1a18556110>"
      ]
     },
     "execution_count": 16,
     "metadata": {},
     "output_type": "execute_result"
    },
    {
     "data": {
      "image/png": "[encoded data removed]",
      "text/plain": [
       "<Figure size 1440x216 with 1 Axes>"
      ]
     },
     "metadata": {
      "needs_background": "light"
     },
     "output_type": "display_data"
    }
   ],
   "source": [
    "plt.subplots(figsize=(20,3))\n",
    "sns.countplot('Month',data=train,hue='WnvPresent') "
   ]
  },
  {
   "cell_type": "markdown",
   "metadata": {},
   "source": [
    "September has the highest number of Wnv occurences, it also has the overall highest number of data points."
   ]
  },
  {
   "cell_type": "code",
   "execution_count": 17,
   "metadata": {},
   "outputs": [
    {
     "data": {
      "text/plain": [
       "8     377\n",
       "9     125\n",
       "7      46\n",
       "10      2\n",
       "6       1\n",
       "Name: Month, dtype: int64"
      ]
     },
     "execution_count": 17,
     "metadata": {},
     "output_type": "execute_result"
    }
   ],
   "source": [
    "train.loc[(train['WnvPresent']==1)]['Month'].value_counts()"
   ]
  },
  {
   "cell_type": "markdown",
   "metadata": {},
   "source": [
    "Now let's visualise the relation between number of days since the last spray and occurences of the virus"
   ]
  },
  {
   "cell_type": "code",
   "execution_count": 18,
   "metadata": {},
   "outputs": [
    {
     "data": {
      "text/plain": [
       "<matplotlib.axes._subplots.AxesSubplot at 0x1a18830b90>"
      ]
     },
     "execution_count": 18,
     "metadata": {},
     "output_type": "execute_result"
    },
    {
     "data": {
      "image/png": "[encoded data removed]",
      "text/plain": [
       "<Figure size 432x288 with 1 Axes>"
      ]
     },
     "metadata": {
      "needs_background": "light"
     },
     "output_type": "display_data"
    }
   ],
   "source": [
    "sns.boxplot(y='WnvPresent', x='most_recent_spray', hue='WnvPresent', data=train[(train['most_recent_spray']<100)], dodge=False,orient=\"h\")"
   ]
  },
  {
   "cell_type": "markdown",
   "metadata": {},
   "source": [
    "The above plot is for datapoints for which the last spray was within 100 days, within this range, the fewer the days since the last spray, the higher the occurence of the virus. This could be a result of sprays made after the virus was detected and the sprays taking a few days to take effect. "
   ]
  },
  {
   "cell_type": "code",
   "execution_count": 19,
   "metadata": {},
   "outputs": [
    {
     "data": {
      "text/plain": [
       "<matplotlib.axes._subplots.AxesSubplot at 0x1a188b04d0>"
      ]
     },
     "execution_count": 19,
     "metadata": {},
     "output_type": "execute_result"
    },
    {
     "data": {
      "image/png": "[encoded data removed]",
      "text/plain": [
       "<Figure size 432x288 with 1 Axes>"
      ]
     },
     "metadata": {
      "needs_background": "light"
     },
     "output_type": "display_data"
    }
   ],
   "source": [
    "sns.boxplot(y='WnvPresent', x='most_recent_spray', hue='WnvPresent', data=train[(train['most_recent_spray']>100)&(train['most_recent_spray']<3600)], dodge=False,orient=\"h\")"
   ]
  },
  {
   "cell_type": "markdown",
   "metadata": {},
   "source": [
    "For locations where the last spray was done more than 100 days ago, the more recent the spray, the fewer occurances of the virus."
   ]
  },
  {
   "cell_type": "markdown",
   "metadata": {},
   "source": [
    "### Weather data exploration"
   ]
  },
  {
   "cell_type": "markdown",
   "metadata": {},
   "source": [
    "The weather features do not have a significant correlation with the target. It could be useful to add the previous 14 days weather data to the dataset as the presence of the virus on a particular day would be more dependent on the previous days' weather than the current day's weather."
   ]
  },
  {
   "cell_type": "code",
   "execution_count": 20,
   "metadata": {},
   "outputs": [],
   "source": [
    "weather = pd.read_csv('output/Weather_FE.csv') # Please refer to WeatherDataEng.ipynb for function that engineers this dataset"
   ]
  },
  {
   "cell_type": "markdown",
   "metadata": {},
   "source": [
    "This dataset contains summaries for the 14 preceeding days for which feature. The summary includes the following:\n",
    "\n",
    "1. 14 day Min\n",
    "2. 14 day Max\n",
    "3. 14 day average\n",
    "4. Std Deviation for the 14 days\n",
    "\n",
    "Let's see if these features have a higher correlation with the target variable\n"
   ]
  },
  {
   "cell_type": "code",
   "execution_count": 21,
   "metadata": {},
   "outputs": [
    {
     "data": {
      "text/html": [
       "<div>\n",
       "<style scoped>\n",
       "    .dataframe tbody tr th:only-of-type {\n",
       "        vertical-align: middle;\n",
       "    }\n",
       "\n",
       "    .dataframe tbody tr th {\n",
       "        vertical-align: top;\n",
       "    }\n",
       "\n",
       "    .dataframe thead th {\n",
       "        text-align: right;\n",
       "    }\n",
       "</style>\n",
       "<table border=\"1\" class=\"dataframe\">\n",
       "  <thead>\n",
       "    <tr style=\"text-align: right;\">\n",
       "      <th></th>\n",
       "      <th>Station</th>\n",
       "      <th>Date</th>\n",
       "      <th>Tmax</th>\n",
       "      <th>Tmin</th>\n",
       "      <th>Tavg</th>\n",
       "      <th>DewPoint</th>\n",
       "      <th>WetBulb</th>\n",
       "      <th>Heat</th>\n",
       "      <th>Cool</th>\n",
       "      <th>PrecipTotal</th>\n",
       "      <th>StnPressure</th>\n",
       "      <th>SeaLevel</th>\n",
       "      <th>ResultSpeed</th>\n",
       "      <th>ResultDir</th>\n",
       "      <th>AvgSpeed</th>\n",
       "      <th>Tmax14_days_Min</th>\n",
       "      <th>Tmax14_days_Max</th>\n",
       "      <th>Tmax14_days_Avg</th>\n",
       "      <th>Tmax14_days_Std_dev</th>\n",
       "      <th>Tmin14_days_Min</th>\n",
       "      <th>Tmin14_days_Max</th>\n",
       "      <th>Tmin14_days_Avg</th>\n",
       "      <th>Tmin14_days_Std_dev</th>\n",
       "      <th>Tavg14_days_Min</th>\n",
       "      <th>Tavg14_days_Max</th>\n",
       "      <th>Tavg14_days_Avg</th>\n",
       "      <th>Tavg14_days_Std_dev</th>\n",
       "      <th>DewPoint14_days_Min</th>\n",
       "      <th>DewPoint14_days_Max</th>\n",
       "      <th>DewPoint14_days_Avg</th>\n",
       "      <th>DewPoint14_days_Std_dev</th>\n",
       "      <th>WetBulb14_days_Min</th>\n",
       "      <th>WetBulb14_days_Max</th>\n",
       "      <th>WetBulb14_days_Avg</th>\n",
       "      <th>WetBulb14_days_Std_dev</th>\n",
       "      <th>Heat14_days_Min</th>\n",
       "      <th>Heat14_days_Max</th>\n",
       "      <th>Heat14_days_Avg</th>\n",
       "      <th>Heat14_days_Std_dev</th>\n",
       "      <th>Cool14_days_Min</th>\n",
       "      <th>Cool14_days_Max</th>\n",
       "      <th>Cool14_days_Avg</th>\n",
       "      <th>Cool14_days_Std_dev</th>\n",
       "      <th>PrecipTotal14_days_Min</th>\n",
       "      <th>PrecipTotal14_days_Max</th>\n",
       "      <th>PrecipTotal14_days_Avg</th>\n",
       "      <th>PrecipTotal14_days_Std_dev</th>\n",
       "      <th>StnPressure14_days_Min</th>\n",
       "      <th>StnPressure14_days_Max</th>\n",
       "      <th>StnPressure14_days_Avg</th>\n",
       "      <th>StnPressure14_days_Std_dev</th>\n",
       "      <th>SeaLevel14_days_Min</th>\n",
       "      <th>SeaLevel14_days_Max</th>\n",
       "      <th>SeaLevel14_days_Avg</th>\n",
       "      <th>SeaLevel14_days_Std_dev</th>\n",
       "      <th>ResultSpeed14_days_Min</th>\n",
       "      <th>ResultSpeed14_days_Max</th>\n",
       "      <th>ResultSpeed14_days_Avg</th>\n",
       "      <th>ResultSpeed14_days_Std_dev</th>\n",
       "      <th>ResultDir14_days_Min</th>\n",
       "      <th>ResultDir14_days_Max</th>\n",
       "      <th>ResultDir14_days_Avg</th>\n",
       "      <th>ResultDir14_days_Std_dev</th>\n",
       "      <th>AvgSpeed14_days_Min</th>\n",
       "      <th>AvgSpeed14_days_Max</th>\n",
       "      <th>AvgSpeed14_days_Avg</th>\n",
       "      <th>AvgSpeed14_days_Std_dev</th>\n",
       "    </tr>\n",
       "  </thead>\n",
       "  <tbody>\n",
       "    <tr>\n",
       "      <th>2920</th>\n",
       "      <td>2</td>\n",
       "      <td>2014-10-27</td>\n",
       "      <td>79</td>\n",
       "      <td>54</td>\n",
       "      <td>67</td>\n",
       "      <td>52</td>\n",
       "      <td>59.0</td>\n",
       "      <td>0</td>\n",
       "      <td>2</td>\n",
       "      <td>0.020</td>\n",
       "      <td>29.00</td>\n",
       "      <td>29.67</td>\n",
       "      <td>12.7</td>\n",
       "      <td>19</td>\n",
       "      <td>13.6</td>\n",
       "      <td>52</td>\n",
       "      <td>75</td>\n",
       "      <td>62.357143</td>\n",
       "      <td>6.782330</td>\n",
       "      <td>36</td>\n",
       "      <td>59</td>\n",
       "      <td>48.285714</td>\n",
       "      <td>6.633250</td>\n",
       "      <td>46</td>\n",
       "      <td>65</td>\n",
       "      <td>55.642857</td>\n",
       "      <td>5.830952</td>\n",
       "      <td>33</td>\n",
       "      <td>61</td>\n",
       "      <td>45.785714</td>\n",
       "      <td>8.124038</td>\n",
       "      <td>44</td>\n",
       "      <td>62.0</td>\n",
       "      <td>50.500000</td>\n",
       "      <td>5.827653</td>\n",
       "      <td>0</td>\n",
       "      <td>19</td>\n",
       "      <td>9.357143</td>\n",
       "      <td>5.830952</td>\n",
       "      <td>0</td>\n",
       "      <td>0</td>\n",
       "      <td>0.000000</td>\n",
       "      <td>0.0</td>\n",
       "      <td>0</td>\n",
       "      <td>1.18</td>\n",
       "      <td>0.123143</td>\n",
       "      <td>0.325707</td>\n",
       "      <td>28.89</td>\n",
       "      <td>29.62</td>\n",
       "      <td>29.262143</td>\n",
       "      <td>0.210061</td>\n",
       "      <td>29.54</td>\n",
       "      <td>30.3</td>\n",
       "      <td>29.930000</td>\n",
       "      <td>0.215549</td>\n",
       "      <td>1.6</td>\n",
       "      <td>11.0</td>\n",
       "      <td>6.728571</td>\n",
       "      <td>3.161652</td>\n",
       "      <td>11</td>\n",
       "      <td>36</td>\n",
       "      <td>23.500000</td>\n",
       "      <td>9.000000</td>\n",
       "      <td>5.1</td>\n",
       "      <td>12.7</td>\n",
       "      <td>8.700000</td>\n",
       "      <td>2.166884</td>\n",
       "    </tr>\n",
       "    <tr>\n",
       "      <th>2921</th>\n",
       "      <td>2</td>\n",
       "      <td>2014-10-28</td>\n",
       "      <td>66</td>\n",
       "      <td>48</td>\n",
       "      <td>57</td>\n",
       "      <td>40</td>\n",
       "      <td>48.0</td>\n",
       "      <td>8</td>\n",
       "      <td>0</td>\n",
       "      <td>0.030</td>\n",
       "      <td>29.23</td>\n",
       "      <td>29.85</td>\n",
       "      <td>14.0</td>\n",
       "      <td>26</td>\n",
       "      <td>14.6</td>\n",
       "      <td>52</td>\n",
       "      <td>79</td>\n",
       "      <td>62.928571</td>\n",
       "      <td>7.810250</td>\n",
       "      <td>36</td>\n",
       "      <td>54</td>\n",
       "      <td>47.928571</td>\n",
       "      <td>6.164414</td>\n",
       "      <td>46</td>\n",
       "      <td>67</td>\n",
       "      <td>55.785714</td>\n",
       "      <td>6.082763</td>\n",
       "      <td>33</td>\n",
       "      <td>59</td>\n",
       "      <td>45.142857</td>\n",
       "      <td>7.141428</td>\n",
       "      <td>44</td>\n",
       "      <td>60.0</td>\n",
       "      <td>50.285714</td>\n",
       "      <td>5.412643</td>\n",
       "      <td>0</td>\n",
       "      <td>19</td>\n",
       "      <td>9.357143</td>\n",
       "      <td>5.830952</td>\n",
       "      <td>0</td>\n",
       "      <td>2</td>\n",
       "      <td>0.142857</td>\n",
       "      <td>0.0</td>\n",
       "      <td>0</td>\n",
       "      <td>1.18</td>\n",
       "      <td>0.093143</td>\n",
       "      <td>0.313387</td>\n",
       "      <td>28.89</td>\n",
       "      <td>29.62</td>\n",
       "      <td>29.260000</td>\n",
       "      <td>0.212748</td>\n",
       "      <td>29.54</td>\n",
       "      <td>30.3</td>\n",
       "      <td>29.925714</td>\n",
       "      <td>0.220374</td>\n",
       "      <td>1.6</td>\n",
       "      <td>12.7</td>\n",
       "      <td>7.100000</td>\n",
       "      <td>3.541838</td>\n",
       "      <td>11</td>\n",
       "      <td>36</td>\n",
       "      <td>23.785714</td>\n",
       "      <td>8.774964</td>\n",
       "      <td>5.1</td>\n",
       "      <td>13.6</td>\n",
       "      <td>9.035714</td>\n",
       "      <td>2.533349</td>\n",
       "    </tr>\n",
       "    <tr>\n",
       "      <th>2922</th>\n",
       "      <td>2</td>\n",
       "      <td>2014-10-29</td>\n",
       "      <td>49</td>\n",
       "      <td>40</td>\n",
       "      <td>45</td>\n",
       "      <td>34</td>\n",
       "      <td>42.0</td>\n",
       "      <td>20</td>\n",
       "      <td>0</td>\n",
       "      <td>0.000</td>\n",
       "      <td>29.42</td>\n",
       "      <td>30.07</td>\n",
       "      <td>8.5</td>\n",
       "      <td>29</td>\n",
       "      <td>9.0</td>\n",
       "      <td>52</td>\n",
       "      <td>79</td>\n",
       "      <td>62.857143</td>\n",
       "      <td>7.745967</td>\n",
       "      <td>36</td>\n",
       "      <td>54</td>\n",
       "      <td>47.500000</td>\n",
       "      <td>5.916080</td>\n",
       "      <td>46</td>\n",
       "      <td>67</td>\n",
       "      <td>55.500000</td>\n",
       "      <td>5.916080</td>\n",
       "      <td>33</td>\n",
       "      <td>53</td>\n",
       "      <td>43.785714</td>\n",
       "      <td>6.000000</td>\n",
       "      <td>44</td>\n",
       "      <td>59.0</td>\n",
       "      <td>49.428571</td>\n",
       "      <td>4.652779</td>\n",
       "      <td>0</td>\n",
       "      <td>19</td>\n",
       "      <td>9.642857</td>\n",
       "      <td>5.656854</td>\n",
       "      <td>0</td>\n",
       "      <td>2</td>\n",
       "      <td>0.142857</td>\n",
       "      <td>0.0</td>\n",
       "      <td>0</td>\n",
       "      <td>0.07</td>\n",
       "      <td>0.011000</td>\n",
       "      <td>0.019639</td>\n",
       "      <td>29.00</td>\n",
       "      <td>29.62</td>\n",
       "      <td>29.284286</td>\n",
       "      <td>0.184837</td>\n",
       "      <td>29.67</td>\n",
       "      <td>30.3</td>\n",
       "      <td>29.947857</td>\n",
       "      <td>0.192441</td>\n",
       "      <td>1.6</td>\n",
       "      <td>14.0</td>\n",
       "      <td>7.971429</td>\n",
       "      <td>3.637080</td>\n",
       "      <td>11</td>\n",
       "      <td>36</td>\n",
       "      <td>24.785714</td>\n",
       "      <td>8.124038</td>\n",
       "      <td>5.1</td>\n",
       "      <td>14.6</td>\n",
       "      <td>9.464286</td>\n",
       "      <td>2.930373</td>\n",
       "    </tr>\n",
       "    <tr>\n",
       "      <th>2923</th>\n",
       "      <td>2</td>\n",
       "      <td>2014-10-30</td>\n",
       "      <td>53</td>\n",
       "      <td>37</td>\n",
       "      <td>45</td>\n",
       "      <td>35</td>\n",
       "      <td>42.0</td>\n",
       "      <td>20</td>\n",
       "      <td>0</td>\n",
       "      <td>0.002</td>\n",
       "      <td>29.41</td>\n",
       "      <td>30.10</td>\n",
       "      <td>5.9</td>\n",
       "      <td>23</td>\n",
       "      <td>6.5</td>\n",
       "      <td>49</td>\n",
       "      <td>79</td>\n",
       "      <td>62.214286</td>\n",
       "      <td>8.544004</td>\n",
       "      <td>36</td>\n",
       "      <td>54</td>\n",
       "      <td>46.571429</td>\n",
       "      <td>6.000000</td>\n",
       "      <td>45</td>\n",
       "      <td>67</td>\n",
       "      <td>54.714286</td>\n",
       "      <td>6.557439</td>\n",
       "      <td>33</td>\n",
       "      <td>52</td>\n",
       "      <td>42.428571</td>\n",
       "      <td>5.916080</td>\n",
       "      <td>42</td>\n",
       "      <td>59.0</td>\n",
       "      <td>48.571429</td>\n",
       "      <td>4.847113</td>\n",
       "      <td>0</td>\n",
       "      <td>20</td>\n",
       "      <td>10.428571</td>\n",
       "      <td>6.244998</td>\n",
       "      <td>0</td>\n",
       "      <td>2</td>\n",
       "      <td>0.142857</td>\n",
       "      <td>0.0</td>\n",
       "      <td>0</td>\n",
       "      <td>0.03</td>\n",
       "      <td>0.006000</td>\n",
       "      <td>0.010015</td>\n",
       "      <td>29.00</td>\n",
       "      <td>29.62</td>\n",
       "      <td>29.307143</td>\n",
       "      <td>0.180018</td>\n",
       "      <td>29.67</td>\n",
       "      <td>30.3</td>\n",
       "      <td>29.971429</td>\n",
       "      <td>0.185093</td>\n",
       "      <td>1.6</td>\n",
       "      <td>14.0</td>\n",
       "      <td>7.907143</td>\n",
       "      <td>3.617790</td>\n",
       "      <td>11</td>\n",
       "      <td>36</td>\n",
       "      <td>24.357143</td>\n",
       "      <td>7.681146</td>\n",
       "      <td>5.1</td>\n",
       "      <td>14.6</td>\n",
       "      <td>9.414286</td>\n",
       "      <td>2.932014</td>\n",
       "    </tr>\n",
       "    <tr>\n",
       "      <th>2924</th>\n",
       "      <td>2</td>\n",
       "      <td>2014-10-31</td>\n",
       "      <td>49</td>\n",
       "      <td>34</td>\n",
       "      <td>42</td>\n",
       "      <td>29</td>\n",
       "      <td>36.0</td>\n",
       "      <td>23</td>\n",
       "      <td>0</td>\n",
       "      <td>0.040</td>\n",
       "      <td>29.54</td>\n",
       "      <td>30.20</td>\n",
       "      <td>21.7</td>\n",
       "      <td>34</td>\n",
       "      <td>22.6</td>\n",
       "      <td>49</td>\n",
       "      <td>79</td>\n",
       "      <td>61.857143</td>\n",
       "      <td>8.831761</td>\n",
       "      <td>36</td>\n",
       "      <td>54</td>\n",
       "      <td>45.428571</td>\n",
       "      <td>6.164414</td>\n",
       "      <td>45</td>\n",
       "      <td>67</td>\n",
       "      <td>53.928571</td>\n",
       "      <td>7.000000</td>\n",
       "      <td>33</td>\n",
       "      <td>52</td>\n",
       "      <td>41.214286</td>\n",
       "      <td>5.567764</td>\n",
       "      <td>42</td>\n",
       "      <td>59.0</td>\n",
       "      <td>47.785714</td>\n",
       "      <td>4.964157</td>\n",
       "      <td>0</td>\n",
       "      <td>20</td>\n",
       "      <td>11.214286</td>\n",
       "      <td>6.782330</td>\n",
       "      <td>0</td>\n",
       "      <td>2</td>\n",
       "      <td>0.142857</td>\n",
       "      <td>0.0</td>\n",
       "      <td>0</td>\n",
       "      <td>0.03</td>\n",
       "      <td>0.006000</td>\n",
       "      <td>0.010015</td>\n",
       "      <td>29.00</td>\n",
       "      <td>29.62</td>\n",
       "      <td>29.330000</td>\n",
       "      <td>0.170384</td>\n",
       "      <td>29.67</td>\n",
       "      <td>30.3</td>\n",
       "      <td>29.995000</td>\n",
       "      <td>0.178358</td>\n",
       "      <td>1.6</td>\n",
       "      <td>14.0</td>\n",
       "      <td>7.942857</td>\n",
       "      <td>3.593523</td>\n",
       "      <td>11</td>\n",
       "      <td>36</td>\n",
       "      <td>24.214286</td>\n",
       "      <td>7.681146</td>\n",
       "      <td>5.1</td>\n",
       "      <td>14.6</td>\n",
       "      <td>9.278571</td>\n",
       "      <td>3.025069</td>\n",
       "    </tr>\n",
       "  </tbody>\n",
       "</table>\n",
       "</div>"
      ],
      "text/plain": [
       "      Station        Date  Tmax  Tmin  Tavg  DewPoint  WetBulb  Heat  Cool  PrecipTotal  StnPressure  SeaLevel  ResultSpeed  ResultDir  AvgSpeed  Tmax14_days_Min  Tmax14_days_Max  Tmax14_days_Avg  Tmax14_days_Std_dev  Tmin14_days_Min  Tmin14_days_Max  Tmin14_days_Avg  Tmin14_days_Std_dev  Tavg14_days_Min  Tavg14_days_Max  Tavg14_days_Avg  Tavg14_days_Std_dev  DewPoint14_days_Min  DewPoint14_days_Max  DewPoint14_days_Avg  DewPoint14_days_Std_dev  WetBulb14_days_Min  WetBulb14_days_Max  WetBulb14_days_Avg  WetBulb14_days_Std_dev  Heat14_days_Min  Heat14_days_Max  Heat14_days_Avg  Heat14_days_Std_dev  Cool14_days_Min  Cool14_days_Max  Cool14_days_Avg  Cool14_days_Std_dev  PrecipTotal14_days_Min  PrecipTotal14_days_Max  PrecipTotal14_days_Avg  PrecipTotal14_days_Std_dev  StnPressure14_days_Min  StnPressure14_days_Max  StnPressure14_days_Avg  StnPressure14_days_Std_dev  SeaLevel14_days_Min  SeaLevel14_days_Max  SeaLevel14_days_Avg  SeaLevel14_days_Std_dev  ResultSpeed14_days_Min  \\\n",
       "2920        2  2014-10-27    79    54    67        52     59.0     0     2        0.020        29.00     29.67         12.7         19      13.6               52               75        62.357143             6.782330               36               59        48.285714             6.633250               46               65        55.642857             5.830952                   33                   61            45.785714                 8.124038                  44                62.0           50.500000                5.827653                0               19         9.357143             5.830952                0                0         0.000000                  0.0                       0                    1.18                0.123143                    0.325707                   28.89                   29.62               29.262143                    0.210061                29.54                 30.3            29.930000                 0.215549                     1.6   \n",
       "2921        2  2014-10-28    66    48    57        40     48.0     8     0        0.030        29.23     29.85         14.0         26      14.6               52               79        62.928571             7.810250               36               54        47.928571             6.164414               46               67        55.785714             6.082763                   33                   59            45.142857                 7.141428                  44                60.0           50.285714                5.412643                0               19         9.357143             5.830952                0                2         0.142857                  0.0                       0                    1.18                0.093143                    0.313387                   28.89                   29.62               29.260000                    0.212748                29.54                 30.3            29.925714                 0.220374                     1.6   \n",
       "2922        2  2014-10-29    49    40    45        34     42.0    20     0        0.000        29.42     30.07          8.5         29       9.0               52               79        62.857143             7.745967               36               54        47.500000             5.916080               46               67        55.500000             5.916080                   33                   53            43.785714                 6.000000                  44                59.0           49.428571                4.652779                0               19         9.642857             5.656854                0                2         0.142857                  0.0                       0                    0.07                0.011000                    0.019639                   29.00                   29.62               29.284286                    0.184837                29.67                 30.3            29.947857                 0.192441                     1.6   \n",
       "2923        2  2014-10-30    53    37    45        35     42.0    20     0        0.002        29.41     30.10          5.9         23       6.5               49               79        62.214286             8.544004               36               54        46.571429             6.000000               45               67        54.714286             6.557439                   33                   52            42.428571                 5.916080                  42                59.0           48.571429                4.847113                0               20        10.428571             6.244998                0                2         0.142857                  0.0                       0                    0.03                0.006000                    0.010015                   29.00                   29.62               29.307143                    0.180018                29.67                 30.3            29.971429                 0.185093                     1.6   \n",
       "2924        2  2014-10-31    49    34    42        29     36.0    23     0        0.040        29.54     30.20         21.7         34      22.6               49               79        61.857143             8.831761               36               54        45.428571             6.164414               45               67        53.928571             7.000000                   33                   52            41.214286                 5.567764                  42                59.0           47.785714                4.964157                0               20        11.214286             6.782330                0                2         0.142857                  0.0                       0                    0.03                0.006000                    0.010015                   29.00                   29.62               29.330000                    0.170384                29.67                 30.3            29.995000                 0.178358                     1.6   \n",
       "\n",
       "      ResultSpeed14_days_Max  ResultSpeed14_days_Avg  ResultSpeed14_days_Std_dev  ResultDir14_days_Min  ResultDir14_days_Max  ResultDir14_days_Avg  ResultDir14_days_Std_dev  AvgSpeed14_days_Min  AvgSpeed14_days_Max  AvgSpeed14_days_Avg  AvgSpeed14_days_Std_dev  \n",
       "2920                    11.0                6.728571                    3.161652                    11                    36             23.500000                  9.000000                  5.1                 12.7             8.700000                 2.166884  \n",
       "2921                    12.7                7.100000                    3.541838                    11                    36             23.785714                  8.774964                  5.1                 13.6             9.035714                 2.533349  \n",
       "2922                    14.0                7.971429                    3.637080                    11                    36             24.785714                  8.124038                  5.1                 14.6             9.464286                 2.930373  \n",
       "2923                    14.0                7.907143                    3.617790                    11                    36             24.357143                  7.681146                  5.1                 14.6             9.414286                 2.932014  \n",
       "2924                    14.0                7.942857                    3.593523                    11                    36             24.214286                  7.681146                  5.1                 14.6             9.278571                 3.025069  "
      ]
     },
     "execution_count": 21,
     "metadata": {},
     "output_type": "execute_result"
    }
   ],
   "source": [
    "weather.tail()"
   ]
  },
  {
   "cell_type": "code",
   "execution_count": 22,
   "metadata": {},
   "outputs": [],
   "source": [
    "weather['Date'] = pd.to_datetime(weather['Date'])"
   ]
  },
  {
   "cell_type": "code",
   "execution_count": 23,
   "metadata": {},
   "outputs": [],
   "source": [
    "weather['Date'] = pd.to_datetime(weather['Date'])\n",
    "#weather.fillna(0,inplace=True)\n",
    "train = train.merge(weather,left_on=[\"Date\",'Station'],right_on=[\"Date\",'Station'],how='left',suffixes=('', '_y'))\n",
    "drops = [c for c in train.columns if \"_y\" in c]\n",
    "train.drop(drops,axis=1,inplace=True)"
   ]
  },
  {
   "cell_type": "code",
   "execution_count": 24,
   "metadata": {},
   "outputs": [
    {
     "data": {
      "text/plain": [
       "WnvPresent                        1.000000\n",
       "NumMosquitos                      0.196820\n",
       "WetBulb14_days_Max                0.133472\n",
       "DewPoint14_days_Avg               0.128940\n",
       "WetBulb14_days_Avg                0.119539\n",
       "DewPoint14_days_Max               0.113868\n",
       "DewPoint14_days_Min               0.105237\n",
       "Month                             0.100143\n",
       "Species_CULEX PIPIENS             0.096206\n",
       "Tmin14_days_Avg                   0.093486\n",
       "Tavg14_days_Avg                   0.090624\n",
       "Cool14_days_Max                   0.086803\n",
       "Tavg14_days_Max                   0.086785\n",
       "Cool14_days_Avg                   0.085329\n",
       "Tmax14_days_Min                   0.084802\n",
       "Tavg14_days_Min                   0.084695\n",
       "Tmin14_days_Min                   0.084298\n",
       "Tmax14_days_Max                   0.083005\n",
       "DewPoint                          0.082685\n",
       "Tmax14_days_Avg                   0.082660\n",
       "Tmin14_days_Max                   0.080201\n",
       "WetBulb14_days_Min                0.079333\n",
       "WetBulb                           0.077539\n",
       "PrecipTotal14_days_Avg            0.076955\n",
       "Tmin                              0.065705\n",
       "StnPressure14_days_Std_dev        0.065295\n",
       "SeaLevel14_days_Min               0.060952\n",
       "Tavg                              0.059897\n",
       "Cool                              0.053347\n",
       "SeaLevel14_days_Avg               0.051129\n",
       "Year                              0.050865\n",
       "PrecipTotal14_days_Std_dev        0.049346\n",
       "Tmax                              0.047130\n",
       "PrecipTotal14_days_Max            0.043289\n",
       "Cool14_days_Min                   0.036514\n",
       "Cool14_days_Std_dev               0.035919\n",
       "ResultSpeed14_days_Min            0.029661\n",
       "Latitude                          0.028708\n",
       "PrecipTotal                       0.028427\n",
       "SeaLevel14_days_Max               0.021099\n",
       "Species_CULEX PIPIENS/RESTUANS    0.010960\n",
       "SeaLevel                          0.010163\n",
       "ResultDir14_days_Std_dev          0.009967\n",
       "ResultDir14_days_Avg              0.003292\n",
       "StnPressure14_days_Max           -0.002612\n",
       "ResultDir                        -0.003530\n",
       "StnPressure                      -0.004663\n",
       "Species_CULEX TARSALIS           -0.005624\n",
       "Weather_hot_dry                  -0.008478\n",
       "AvgSpeed14_days_Min              -0.009122\n",
       "Heat14_days_Min                  -0.010275\n",
       "WetBulb14_days_Std_dev           -0.016876\n",
       "Tmax14_days_Std_dev              -0.021288\n",
       "Species_CULEX SALINARIUS         -0.021373\n",
       "ResultDir14_days_Max             -0.025378\n",
       "Tavg14_days_Std_dev              -0.025504\n",
       "most_recent_spray                -0.026562\n",
       "Tmin14_days_Std_dev              -0.027259\n",
       "DewPoint14_days_Std_dev          -0.028425\n",
       "AvgSpeed                         -0.031043\n",
       "SeaLevel14_days_Std_dev          -0.033911\n",
       "Species_CULEX TERRITANS          -0.034566\n",
       "ResultDir14_days_Min             -0.037483\n",
       "ResultSpeed                      -0.043413\n",
       "Weather_normal                   -0.051531\n",
       "Heat                             -0.052818\n",
       "Longitude                        -0.060389\n",
       "StnPressure14_days_Avg           -0.060448\n",
       "StnPressure14_days_Min           -0.065051\n",
       "Station                          -0.069641\n",
       "Heat14_days_Avg                  -0.084488\n",
       "Heat14_days_Std_dev              -0.091637\n",
       "Species_CULEX RESTUANS           -0.092094\n",
       "Heat14_days_Max                  -0.095359\n",
       "ResultSpeed14_days_Avg           -0.110494\n",
       "AvgSpeed14_days_Avg              -0.113722\n",
       "AvgSpeed14_days_Std_dev          -0.131654\n",
       "ResultSpeed14_days_Max           -0.142715\n",
       "AvgSpeed14_days_Max              -0.145712\n",
       "ResultSpeed14_days_Std_dev       -0.146791\n",
       "PrecipTotal14_days_Min                 NaN\n",
       "Name: WnvPresent, dtype: float64"
      ]
     },
     "execution_count": 24,
     "metadata": {},
     "output_type": "execute_result"
    }
   ],
   "source": [
    "train.corr()['WnvPresent'].sort_values(ascending=False)"
   ]
  },
  {
   "cell_type": "markdown",
   "metadata": {},
   "source": [
    "The 14 day summary features have a significantly higher correlation with the target variable than the daily data themselves. We will use them going forward. The \"PrecipTotal14_days_Min\" feature has a Nan correlation because it is always 0 as there was never a 14 day period without a day of 0 percipiration. This column can be removed"
   ]
  },
  {
   "cell_type": "code",
   "execution_count": 25,
   "metadata": {},
   "outputs": [],
   "source": [
    "train.drop(\"PrecipTotal14_days_Min\",axis=1,inplace=True)"
   ]
  },
  {
   "cell_type": "markdown",
   "metadata": {},
   "source": [
    "### Polynomial Feature Engineering"
   ]
  },
  {
   "cell_type": "markdown",
   "metadata": {},
   "source": [
    "We can create some polynomial features of the summary columns with a high correlation with the target variables"
   ]
  },
  {
   "cell_type": "code",
   "execution_count": 26,
   "metadata": {},
   "outputs": [
    {
     "data": {
      "text/plain": [
       "WnvPresent                    1.000000\n",
       "NumMosquitos                  0.196820\n",
       "ResultSpeed14_days_Std_dev    0.146791\n",
       "AvgSpeed14_days_Max           0.145712\n",
       "ResultSpeed14_days_Max        0.142715\n",
       "WetBulb14_days_Max            0.133472\n",
       "AvgSpeed14_days_Std_dev       0.131654\n",
       "DewPoint14_days_Avg           0.128940\n",
       "WetBulb14_days_Avg            0.119539\n",
       "DewPoint14_days_Max           0.113868\n",
       "AvgSpeed14_days_Avg           0.113722\n",
       "ResultSpeed14_days_Avg        0.110494\n",
       "DewPoint14_days_Min           0.105237\n",
       "Name: WnvPresent, dtype: float64"
      ]
     },
     "execution_count": 26,
     "metadata": {},
     "output_type": "execute_result"
    }
   ],
   "source": [
    "abs(train.corr()['WnvPresent']).sort_values(ascending=False)[:13]"
   ]
  },
  {
   "cell_type": "code",
   "execution_count": 27,
   "metadata": {},
   "outputs": [],
   "source": [
    "cols = abs(train.corr()['WnvPresent']).sort_values(ascending=False)[:13].index\n"
   ]
  },
  {
   "cell_type": "code",
   "execution_count": 28,
   "metadata": {},
   "outputs": [],
   "source": [
    "cols = [c for c in cols if c not in ['WnvPresent','NumMosquitos']]"
   ]
  },
  {
   "cell_type": "code",
   "execution_count": 29,
   "metadata": {},
   "outputs": [],
   "source": [
    "for c in cols:\n",
    "    train[c+\"^2\"] = train[c]**2\n",
    "    train[c+\"^3\"] = train[c]**3\n",
    "    \n",
    "train.drop(\"NumMosquitos\",axis=1,inplace=True)"
   ]
  },
  {
   "cell_type": "markdown",
   "metadata": {},
   "source": [
    "Save train dataset and make feature engineering changes to Test dataset"
   ]
  },
  {
   "cell_type": "code",
   "execution_count": 30,
   "metadata": {},
   "outputs": [],
   "source": [
    "train.to_csv(\"output/train_fe.csv\",index=False)"
   ]
  },
  {
   "cell_type": "code",
   "execution_count": 31,
   "metadata": {},
   "outputs": [],
   "source": [
    "test = pd.read_csv(\"output/test.csv\")\n",
    "test['Date'] = pd.to_datetime(test['Date'])"
   ]
  },
  {
   "cell_type": "code",
   "execution_count": 32,
   "metadata": {},
   "outputs": [],
   "source": [
    "test = test.merge(weather,left_on=[\"Date\",'Station'],right_on=[\"Date\",'Station'],how='left',suffixes=('', '_y'))\n",
    "drops = [c for c in test.columns if \"_y\" in c]\n",
    "test.drop(drops,axis=1,inplace=True)"
   ]
  },
  {
   "cell_type": "code",
   "execution_count": 33,
   "metadata": {},
   "outputs": [],
   "source": [
    "for c in cols:\n",
    "    test[c+\"^2\"] = test[c]**2\n",
    "    test[c+\"^3\"] = test[c]*output/test_fe*3"
   ]
  },
  {
   "cell_type": "code",
   "execution_count": 34,
   "metadata": {},
   "outputs": [],
   "source": [
    "#test[:5].to_csv(\"output/test_fe.csv\",index=False)"
   ]
  },
  {
   "cell_type": "code",
   "execution_count": 35,
   "metadata": {},
   "outputs": [],
   "source": [
    "import pickle\n",
    "test.to_pickle('output/test_fe.pickle')"
   ]
  }
 ],
 "metadata": {
  "kernelspec": {
   "display_name": "Python 3",
   "language": "python",
   "name": "python3"
  },
  "language_info": {
   "codemirror_mode": {
    "name": "ipython",
    "version": 3
   },
   "file_extension": ".py",
   "mimetype": "text/x-python",
   "name": "python",
   "nbconvert_exporter": "python",
   "pygments_lexer": "ipython3",
   "version": "3.7.1"
  }
 },
 "nbformat": 4,
 "nbformat_minor": 2
}

{
 "cells": [
  {
   "cell_type": "markdown",
   "metadata": {},
   "source": [
    "# Capstone Project"
   ]
  },
  {
   "cell_type": "markdown",
   "metadata": {},
   "source": [
    "## Problem Statement"
   ]
  },
  {
   "cell_type": "markdown",
   "metadata": {},
   "source": [
    "To make use of automatic text summarization on news articles to create short and concise summaries in order to save time on reading."
   ]
  },
  {
   "cell_type": "markdown",
   "metadata": {},
   "source": [
    "\n",
    "### Contents:\n",
    "- [Importing and Data Cleaning](#Importing-and-Data-Cleaning)\n",
    "- [Exploratory Data Analysis](#Exploratory-Data-Analysis)\n",
    "- [Modelling](#Modelling)\n",
    "- [Evaluation](#Evaluation)\n",
    "- [Scraped News Summary](#Scraped-News-Summary)\n",
    "- [Conclusion](#Conclusion)"
   ]
  },
  {
   "cell_type": "code",
   "execution_count": 1,
   "metadata": {},
   "outputs": [],
   "source": [
    "import numpy as np\n",
    "import pandas as pd\n",
    "import matplotlib.pyplot as plt\n",
    "from sumy.parsers.plaintext import PlaintextParser\n",
    "from sumy.nlp.tokenizers import Tokenizer\n",
    "from nltk.corpus import stopwords\n",
    "from nltk.tokenize import sent_tokenize\n",
    "from sumy.summarizers.lex_rank import LexRankSummarizer\n",
    "from sumy.summarizers.luhn import LuhnSummarizer\n",
    "from sumy.summarizers.lsa import LsaSummarizer\n",
    "from sumy.summarizers.text_rank import TextRankSummarizer\n",
    "from sumy.summarizers.edmundson import EdmundsonSummarizer\n",
    "import regex as re\n",
    "from nltk.stem import WordNetLemmatizer\n",
    "from statistics import mean\n",
    "from rouge_score import rouge_scorer\n",
    "from nltk.stem import WordNetLemmatizer\n",
    "from sklearn.metrics.pairwise import cosine_similarity\n",
    "import networkx as nx\n",
    "\n",
    "%matplotlib inline"
   ]
  },
  {
   "cell_type": "markdown",
   "metadata": {},
   "source": [
    "### Importing and Data Cleaning"
   ]
  },
  {
   "cell_type": "code",
   "execution_count": 2,
   "metadata": {},
   "outputs": [
    {
     "data": {
      "text/html": [
       "<div>\n",
       "<style scoped>\n",
       "    .dataframe tbody tr th:only-of-type {\n",
       "        vertical-align: middle;\n",
       "    }\n",
       "\n",
       "    .dataframe tbody tr th {\n",
       "        vertical-align: top;\n",
       "    }\n",
       "\n",
       "    .dataframe thead th {\n",
       "        text-align: right;\n",
       "    }\n",
       "</style>\n",
       "<table border=\"1\" class=\"dataframe\">\n",
       "  <thead>\n",
       "    <tr style=\"text-align: right;\">\n",
       "      <th></th>\n",
       "      <th>author</th>\n",
       "      <th>date</th>\n",
       "      <th>headlines</th>\n",
       "      <th>read_more</th>\n",
       "      <th>text</th>\n",
       "      <th>ctext</th>\n",
       "    </tr>\n",
       "  </thead>\n",
       "  <tbody>\n",
       "    <tr>\n",
       "      <th>0</th>\n",
       "      <td>Chhavi Tyagi</td>\n",
       "      <td>03 Aug 2017,Thursday</td>\n",
       "      <td>Daman &amp; Diu revokes mandatory Rakshabandhan in...</td>\n",
       "      <td>http://www.hindustantimes.com/india-news/raksh...</td>\n",
       "      <td>The Administration of Union Territory Daman an...</td>\n",
       "      <td>The Daman and Diu administration on Wednesday ...</td>\n",
       "    </tr>\n",
       "    <tr>\n",
       "      <th>1</th>\n",
       "      <td>Daisy Mowke</td>\n",
       "      <td>03 Aug 2017,Thursday</td>\n",
       "      <td>Malaika slams user who trolled her for 'divorc...</td>\n",
       "      <td>http://www.hindustantimes.com/bollywood/malaik...</td>\n",
       "      <td>Malaika Arora slammed an Instagram user who tr...</td>\n",
       "      <td>From her special numbers to TV?appearances, Bo...</td>\n",
       "    </tr>\n",
       "    <tr>\n",
       "      <th>2</th>\n",
       "      <td>Arshiya Chopra</td>\n",
       "      <td>03 Aug 2017,Thursday</td>\n",
       "      <td>'Virgin' now corrected to 'Unmarried' in IGIMS...</td>\n",
       "      <td>http://www.hindustantimes.com/patna/bihar-igim...</td>\n",
       "      <td>The Indira Gandhi Institute of Medical Science...</td>\n",
       "      <td>The Indira Gandhi Institute of Medical Science...</td>\n",
       "    </tr>\n",
       "    <tr>\n",
       "      <th>3</th>\n",
       "      <td>Sumedha Sehra</td>\n",
       "      <td>03 Aug 2017,Thursday</td>\n",
       "      <td>Aaj aapne pakad liya: LeT man Dujana before be...</td>\n",
       "      <td>http://indiatoday.intoday.in/story/abu-dujana-...</td>\n",
       "      <td>Lashkar-e-Taiba's Kashmir commander Abu Dujana...</td>\n",
       "      <td>Lashkar-e-Taiba's Kashmir commander Abu Dujana...</td>\n",
       "    </tr>\n",
       "    <tr>\n",
       "      <th>4</th>\n",
       "      <td>Aarushi Maheshwari</td>\n",
       "      <td>03 Aug 2017,Thursday</td>\n",
       "      <td>Hotel staff to get training to spot signs of s...</td>\n",
       "      <td>http://indiatoday.intoday.in/story/sex-traffic...</td>\n",
       "      <td>Hotels in Maharashtra will train their staff t...</td>\n",
       "      <td>Hotels in Mumbai and other Indian cities are t...</td>\n",
       "    </tr>\n",
       "  </tbody>\n",
       "</table>\n",
       "</div>"
      ],
      "text/plain": [
       "               author                  date  \\\n",
       "0        Chhavi Tyagi  03 Aug 2017,Thursday   \n",
       "1         Daisy Mowke  03 Aug 2017,Thursday   \n",
       "2      Arshiya Chopra  03 Aug 2017,Thursday   \n",
       "3       Sumedha Sehra  03 Aug 2017,Thursday   \n",
       "4  Aarushi Maheshwari  03 Aug 2017,Thursday   \n",
       "\n",
       "                                           headlines  \\\n",
       "0  Daman & Diu revokes mandatory Rakshabandhan in...   \n",
       "1  Malaika slams user who trolled her for 'divorc...   \n",
       "2  'Virgin' now corrected to 'Unmarried' in IGIMS...   \n",
       "3  Aaj aapne pakad liya: LeT man Dujana before be...   \n",
       "4  Hotel staff to get training to spot signs of s...   \n",
       "\n",
       "                                           read_more  \\\n",
       "0  http://www.hindustantimes.com/india-news/raksh...   \n",
       "1  http://www.hindustantimes.com/bollywood/malaik...   \n",
       "2  http://www.hindustantimes.com/patna/bihar-igim...   \n",
       "3  http://indiatoday.intoday.in/story/abu-dujana-...   \n",
       "4  http://indiatoday.intoday.in/story/sex-traffic...   \n",
       "\n",
       "                                                text  \\\n",
       "0  The Administration of Union Territory Daman an...   \n",
       "1  Malaika Arora slammed an Instagram user who tr...   \n",
       "2  The Indira Gandhi Institute of Medical Science...   \n",
       "3  Lashkar-e-Taiba's Kashmir commander Abu Dujana...   \n",
       "4  Hotels in Maharashtra will train their staff t...   \n",
       "\n",
       "                                               ctext  \n",
       "0  The Daman and Diu administration on Wednesday ...  \n",
       "1  From her special numbers to TV?appearances, Bo...  \n",
       "2  The Indira Gandhi Institute of Medical Science...  \n",
       "3  Lashkar-e-Taiba's Kashmir commander Abu Dujana...  \n",
       "4  Hotels in Mumbai and other Indian cities are t...  "
      ]
     },
     "execution_count": 2,
     "metadata": {},
     "output_type": "execute_result"
    }
   ],
   "source": [
    "data = pd.read_csv('./data/news_summarized.csv')\n",
    "data.head()"
   ]
  },
  {
   "cell_type": "code",
   "execution_count": 113,
   "metadata": {},
   "outputs": [
    {
     "data": {
      "text/html": [
       "<div>\n",
       "<style scoped>\n",
       "    .dataframe tbody tr th:only-of-type {\n",
       "        vertical-align: middle;\n",
       "    }\n",
       "\n",
       "    .dataframe tbody tr th {\n",
       "        vertical-align: top;\n",
       "    }\n",
       "\n",
       "    .dataframe thead th {\n",
       "        text-align: right;\n",
       "    }\n",
       "</style>\n",
       "<table border=\"1\" class=\"dataframe\">\n",
       "  <thead>\n",
       "    <tr style=\"text-align: right;\">\n",
       "      <th></th>\n",
       "      <th>headline</th>\n",
       "      <th>url</th>\n",
       "      <th>published_date</th>\n",
       "      <th>article</th>\n",
       "      <th>source</th>\n",
       "      <th>summary</th>\n",
       "    </tr>\n",
       "  </thead>\n",
       "  <tbody>\n",
       "    <tr>\n",
       "      <th>0</th>\n",
       "      <td>GOP strains to contain Bolton fallout in impea...</td>\n",
       "      <td>https://apnews.com/34f8a36cfc3a15ffeede3a74cd0...</td>\n",
       "      <td>2020-01-29</td>\n",
       "      <td>WASHINGTON (AP) — President Donald Trump’s imp...</td>\n",
       "      <td>Associated Press News</td>\n",
       "      <td>One key Republican, Sen. Susan Collins of Main...</td>\n",
       "    </tr>\n",
       "    <tr>\n",
       "      <th>1</th>\n",
       "      <td>Brexit: MEPs say goodbye to UK ahead of Brexit...</td>\n",
       "      <td>https://www.bbc.com/news/uk-politics-51287430</td>\n",
       "      <td>2020-01-29</td>\n",
       "      <td>Members of the European Parliament are bidding...</td>\n",
       "      <td>BBC</td>\n",
       "      <td>She says the two should \"join forces\" in areas...</td>\n",
       "    </tr>\n",
       "    <tr>\n",
       "      <th>2</th>\n",
       "      <td>Australian Open: Dominic Thiem stuns Rafael Na...</td>\n",
       "      <td>https://www.bbc.com/sport/tennis/51295106</td>\n",
       "      <td>2020-01-29</td>\n",
       "      <td>Top seed Rafael Nadal was denied a place in th...</td>\n",
       "      <td>BBC</td>\n",
       "      <td>Nadal watched a looping return land past the b...</td>\n",
       "    </tr>\n",
       "    <tr>\n",
       "      <th>3</th>\n",
       "      <td>Coronavirus: Denmark in cartoon bust-up with C...</td>\n",
       "      <td>https://www.bbc.com/news/world-europe-51295225</td>\n",
       "      <td>2020-01-29</td>\n",
       "      <td>A Danish newspaper has rejected China's demand...</td>\n",
       "      <td>BBC</td>\n",
       "      <td>A Danish newspaper has rejected China's demand...</td>\n",
       "    </tr>\n",
       "    <tr>\n",
       "      <th>4</th>\n",
       "      <td>Kunal Kamra: Airline ban on India comedian spa...</td>\n",
       "      <td>https://www.bbc.com/news/world-asia-india-5129...</td>\n",
       "      <td>2020-01-29</td>\n",
       "      <td>That is the burning question currently being d...</td>\n",
       "      <td>BBC</td>\n",
       "      <td>Many people on social media are also calling t...</td>\n",
       "    </tr>\n",
       "  </tbody>\n",
       "</table>\n",
       "</div>"
      ],
      "text/plain": [
       "                                            headline  \\\n",
       "0  GOP strains to contain Bolton fallout in impea...   \n",
       "1  Brexit: MEPs say goodbye to UK ahead of Brexit...   \n",
       "2  Australian Open: Dominic Thiem stuns Rafael Na...   \n",
       "3  Coronavirus: Denmark in cartoon bust-up with C...   \n",
       "4  Kunal Kamra: Airline ban on India comedian spa...   \n",
       "\n",
       "                                                 url published_date  \\\n",
       "0  https://apnews.com/34f8a36cfc3a15ffeede3a74cd0...     2020-01-29   \n",
       "1      https://www.bbc.com/news/uk-politics-51287430     2020-01-29   \n",
       "2          https://www.bbc.com/sport/tennis/51295106     2020-01-29   \n",
       "3     https://www.bbc.com/news/world-europe-51295225     2020-01-29   \n",
       "4  https://www.bbc.com/news/world-asia-india-5129...     2020-01-29   \n",
       "\n",
       "                                             article                 source  \\\n",
       "0  WASHINGTON (AP) — President Donald Trump’s imp...  Associated Press News   \n",
       "1  Members of the European Parliament are bidding...                    BBC   \n",
       "2  Top seed Rafael Nadal was denied a place in th...                    BBC   \n",
       "3  A Danish newspaper has rejected China's demand...                    BBC   \n",
       "4  That is the burning question currently being d...                    BBC   \n",
       "\n",
       "                                             summary  \n",
       "0  One key Republican, Sen. Susan Collins of Main...  \n",
       "1  She says the two should \"join forces\" in areas...  \n",
       "2  Nadal watched a looping return land past the b...  \n",
       "3  A Danish newspaper has rejected China's demand...  \n",
       "4  Many people on social media are also calling t...  "
      ]
     },
     "execution_count": 113,
     "metadata": {},
     "output_type": "execute_result"
    }
   ],
   "source": [
    "scraped_news = pd.read_csv('./output/scraped_news.csv')\n",
    "scraped_news.head()"
   ]
  },
  {
   "cell_type": "code",
   "execution_count": 4,
   "metadata": {},
   "outputs": [
    {
     "name": "stdout",
     "output_type": "stream",
     "text": [
      "<class 'pandas.core.frame.DataFrame'>\n",
      "RangeIndex: 93 entries, 0 to 92\n",
      "Data columns (total 6 columns):\n",
      "headline          93 non-null object\n",
      "url               93 non-null object\n",
      "published_date    93 non-null object\n",
      "article           93 non-null object\n",
      "source            93 non-null object\n",
      "summary           93 non-null object\n",
      "dtypes: object(6)\n",
      "memory usage: 4.5+ KB\n"
     ]
    }
   ],
   "source": [
    "scraped_news.info()"
   ]
  },
  {
   "cell_type": "code",
   "execution_count": 5,
   "metadata": {},
   "outputs": [
    {
     "name": "stdout",
     "output_type": "stream",
     "text": [
      "<class 'pandas.core.frame.DataFrame'>\n",
      "RangeIndex: 4515 entries, 0 to 4514\n",
      "Data columns (total 6 columns):\n",
      "author       4515 non-null object\n",
      "date         4515 non-null object\n",
      "headlines    4515 non-null object\n",
      "read_more    4515 non-null object\n",
      "text         4515 non-null object\n",
      "ctext        4397 non-null object\n",
      "dtypes: object(6)\n",
      "memory usage: 211.8+ KB\n"
     ]
    }
   ],
   "source": [
    "# Checking for null values\n",
    "data.info()"
   ]
  },
  {
   "cell_type": "code",
   "execution_count": 6,
   "metadata": {},
   "outputs": [
    {
     "name": "stdout",
     "output_type": "stream",
     "text": [
      "<class 'pandas.core.frame.DataFrame'>\n",
      "Int64Index: 4397 entries, 0 to 4514\n",
      "Data columns (total 6 columns):\n",
      "author       4397 non-null object\n",
      "date         4397 non-null object\n",
      "headlines    4397 non-null object\n",
      "read_more    4397 non-null object\n",
      "text         4397 non-null object\n",
      "ctext        4397 non-null object\n",
      "dtypes: object(6)\n",
      "memory usage: 240.5+ KB\n"
     ]
    }
   ],
   "source": [
    "data.dropna(axis=0, inplace=True)\n",
    "data.info()"
   ]
  },
  {
   "cell_type": "code",
   "execution_count": 7,
   "metadata": {},
   "outputs": [
    {
     "data": {
      "text/plain": [
       "'The Administration of Union Territory Daman and Diu has revoked its order that made it compulsory for women to tie rakhis to their male colleagues on the occasion of Rakshabandhan on August 7. The administration was forced to withdraw the decision within 24 hours of issuing the circular after it received flak from employees and was slammed on social media.'"
      ]
     },
     "execution_count": 7,
     "metadata": {},
     "output_type": "execute_result"
    }
   ],
   "source": [
    "data['text'][0]"
   ]
  },
  {
   "cell_type": "code",
   "execution_count": 8,
   "metadata": {
    "scrolled": true
   },
   "outputs": [
    {
     "data": {
      "text/plain": [
       "'The Daman and Diu administration on Wednesday withdrew a circular that asked women staff to tie rakhis on male colleagues after the order triggered a backlash from employees and was ripped apart on social media.The union territory?s administration was forced to retreat within 24 hours of issuing the circular that made it compulsory for its staff to celebrate Rakshabandhan at workplace.?It has been decided to celebrate the festival of Rakshabandhan on August 7. In this connection, all offices/ departments shall remain open and celebrate the festival collectively at a suitable time wherein all the lady staff shall tie rakhis to their colleagues,? the order, issued on August 1 by Gurpreet Singh, deputy secretary (personnel), had said.To ensure that no one skipped office, an attendance report was to be sent to the government the next evening.The two notifications ? one mandating the celebration of Rakshabandhan (left) and the other withdrawing the mandate (right) ? were issued by the Daman and Diu administration a day apart. The circular was withdrawn through a one-line order issued late in the evening by the UT?s department of personnel and administrative reforms.?The circular is ridiculous. There are sensitivities involved. How can the government dictate who I should tie rakhi to? We should maintain the professionalism of a workplace? an official told Hindustan Times earlier in the day. She refused to be identified.The notice was issued on Daman and Diu administrator and former Gujarat home minister Praful Kodabhai Patel?s direction, sources said.Rakshabandhan, a celebration of the bond between brothers and sisters, is one of several Hindu festivities and rituals that are no longer confined of private, family affairs but have become tools to push politic al ideologies.In 2014, the year BJP stormed to power at the Centre, Rashtriya Swayamsevak Sangh (RSS) chief Mohan Bhagwat said the festival had ?national significance? and should be celebrated widely ?to protect Hindu culture and live by the values enshrined in it?. The RSS is the ideological parent of the ruling BJP.Last year, women ministers in the Modi government went to the border areas to celebrate the festival with soldiers. A year before, all cabinet ministers were asked to go to their constituencies for the festival.'"
      ]
     },
     "execution_count": 8,
     "metadata": {},
     "output_type": "execute_result"
    }
   ],
   "source": [
    "data['ctext'][0]"
   ]
  },
  {
   "cell_type": "markdown",
   "metadata": {},
   "source": [
    "As can be seen from above, the `ctext` column refers to the complete article while the `text` column refers to the summarized text. Moving forward, I will be renaming the columns so that it will be more intuitive to work with them."
   ]
  },
  {
   "cell_type": "code",
   "execution_count": 9,
   "metadata": {},
   "outputs": [
    {
     "data": {
      "text/plain": [
       "Index(['author', 'date', 'headlines', 'url', 'summary', 'article'], dtype='object')"
      ]
     },
     "execution_count": 9,
     "metadata": {},
     "output_type": "execute_result"
    }
   ],
   "source": [
    "data.rename(columns={'text':'summary', 'ctext':'article', 'read_more':'url'}, inplace=True)\n",
    "data.columns"
   ]
  },
  {
   "cell_type": "markdown",
   "metadata": {},
   "source": [
    "Also, when looking at the full article, it seems that the text has quite a lot of ugly formatting such as random \"?\" appearing around. Let us remove question marks and see if the results becomes better."
   ]
  },
  {
   "cell_type": "code",
   "execution_count": 10,
   "metadata": {
    "scrolled": false
   },
   "outputs": [
    {
     "data": {
      "text/plain": [
       "'The Daman and Diu administration on Wednesday withdrew a circular that asked women staff to tie rakhis on male colleagues after the order triggered a backlash from employees and was ripped apart on social media. The union territorys administration was forced to retreat within 24 hours of issuing the circular that made it compulsory for its staff to celebrate Rakshabandhan at workplace. It has been decided to celebrate the festival of Rakshabandhan on August 7.  In this connection, all offices departments shall remain open and celebrate the festival collectively at a suitable time wherein all the lady staff shall tie rakhis to their colleagues, the order, issued on August 1 by Gurpreet Singh, deputy secretary (personnel), had said. To ensure that no one skipped office, an attendance report was to be sent to the government the next evening. The two notifications  one mandating the celebration of Rakshabandhan (left) and the other withdrawing the mandate (right)  were issued by the Daman and Diu administration a day apart.  The circular was withdrawn through a one-line order issued late in the evening by the UTs department of personnel and administrative reforms. The circular is ridiculous.  There are sensitivities involved.  How can the government dictate who I should tie rakhi to We should maintain the professionalism of a workplace an official told Hindustan Times earlier in the day.  She refused to be identified. The notice was issued on Daman and Diu administrator and former Gujarat home minister Praful Kodabhai Patels direction, sources said. Rakshabandhan, a celebration of the bond between brothers and sisters, is one of several Hindu festivities and rituals that are no longer confined of private, family affairs but have become tools to push politic al ideologies. In 2014, the year BJP stormed to power at the Centre, Rashtriya Swayamsevak Sangh (RSS) chief Mohan Bhagwat said the festival had national significance and should be celebrated widely to protect Hindu culture and live by the values enshrined in it.  The RSS is the ideological parent of the ruling BJP. Last year, women ministers in the Modi government went to the border areas to celebrate the festival with soldiers.  A year before, all cabinet ministers were asked to go to their constituencies for the festival. '"
      ]
     },
     "execution_count": 10,
     "metadata": {},
     "output_type": "execute_result"
    }
   ],
   "source": [
    "data['article'] = [article.replace('?', '') for article in data['article']]\n",
    "data['article'] = [article.replace('/', '') for article in data['article']]\n",
    "data['article'] = ['. '.join(article.split('.')) for article in data['article']]\n",
    "data['article'][0]"
   ]
  },
  {
   "cell_type": "markdown",
   "metadata": {},
   "source": [
    "While browsing through some of the articles, it seems like some of the articles not really proper news articles, but more like tweets(therefore containing many hashtags) or had a lot of twitter urls. These articles have text that produce too much noise. Therefore, we will proceed to remove them from our dataset."
   ]
  },
  {
   "cell_type": "code",
   "execution_count": 11,
   "metadata": {},
   "outputs": [],
   "source": [
    "data = data[~data['article'].str.contains('#')]\n",
    "data = data[~data['article'].str.contains('. com')]"
   ]
  },
  {
   "cell_type": "code",
   "execution_count": 12,
   "metadata": {},
   "outputs": [
    {
     "name": "stdout",
     "output_type": "stream",
     "text": [
      "<class 'pandas.core.frame.DataFrame'>\n",
      "Int64Index: 1325 entries, 2 to 4511\n",
      "Data columns (total 6 columns):\n",
      "author       1325 non-null object\n",
      "date         1325 non-null object\n",
      "headlines    1325 non-null object\n",
      "url          1325 non-null object\n",
      "summary      1325 non-null object\n",
      "article      1325 non-null object\n",
      "dtypes: object(6)\n",
      "memory usage: 72.5+ KB\n"
     ]
    }
   ],
   "source": [
    "data.info()"
   ]
  },
  {
   "cell_type": "markdown",
   "metadata": {},
   "source": [
    "### Exploratory Data Analysis"
   ]
  },
  {
   "cell_type": "markdown",
   "metadata": {},
   "source": [
    "Taking a look at our data to see what the distribution of our article length and summary length is like.\n"
   ]
  },
  {
   "cell_type": "code",
   "execution_count": 13,
   "metadata": {},
   "outputs": [
    {
     "data": {
      "image/png": "[encoded data removed]",
      "text/plain": [
       "<Figure size 432x288 with 1 Axes>"
      ]
     },
     "metadata": {
      "needs_background": "light"
     },
     "output_type": "display_data"
    }
   ],
   "source": [
    "plt.hist([len(x) for x in data['summary']])\n",
    "plt.title('Length of Summary')\n",
    "plt.xlabel('No. of Characters')\n",
    "plt.ylabel('No. of Observations');"
   ]
  },
  {
   "cell_type": "markdown",
   "metadata": {},
   "source": [
    "As seen from the diagram above, majority of the summaries are 300-400 characters long."
   ]
  },
  {
   "cell_type": "code",
   "execution_count": 14,
   "metadata": {},
   "outputs": [
    {
     "data": {
      "image/png": "[encoded data removed]",
      "text/plain": [
       "<Figure size 432x288 with 1 Axes>"
      ]
     },
     "metadata": {
      "needs_background": "light"
     },
     "output_type": "display_data"
    }
   ],
   "source": [
    "plt.hist([len(x) for x in data['article']])\n",
    "plt.title('Length of Article')\n",
    "plt.xlabel('No. of Characters')\n",
    "plt.ylabel('No. of Observations');"
   ]
  },
  {
   "cell_type": "markdown",
   "metadata": {},
   "source": [
    "While majority of the articles are around 1000-2000 characters."
   ]
  },
  {
   "cell_type": "code",
   "execution_count": 15,
   "metadata": {},
   "outputs": [
    {
     "data": {
      "image/png": "[encoded data removed]",
      "text/plain": [
       "<Figure size 432x288 with 1 Axes>"
      ]
     },
     "metadata": {
      "needs_background": "light"
     },
     "output_type": "display_data"
    }
   ],
   "source": [
    "plt.hist([len(x) for x in scraped_news['article']])\n",
    "plt.title('Length of Scraped News Articles')\n",
    "plt.xlabel('No. of Characters')\n",
    "plt.ylabel('No. of Observations');"
   ]
  },
  {
   "cell_type": "code",
   "execution_count": 16,
   "metadata": {},
   "outputs": [
    {
     "data": {
      "text/html": [
       "<div>\n",
       "<style scoped>\n",
       "    .dataframe tbody tr th:only-of-type {\n",
       "        vertical-align: middle;\n",
       "    }\n",
       "\n",
       "    .dataframe tbody tr th {\n",
       "        vertical-align: top;\n",
       "    }\n",
       "\n",
       "    .dataframe thead th {\n",
       "        text-align: right;\n",
       "    }\n",
       "</style>\n",
       "<table border=\"1\" class=\"dataframe\">\n",
       "  <thead>\n",
       "    <tr style=\"text-align: right;\">\n",
       "      <th></th>\n",
       "      <th>0</th>\n",
       "    </tr>\n",
       "  </thead>\n",
       "  <tbody>\n",
       "    <tr>\n",
       "      <th>count</th>\n",
       "      <td>93.000000</td>\n",
       "    </tr>\n",
       "    <tr>\n",
       "      <th>mean</th>\n",
       "      <td>4176.311828</td>\n",
       "    </tr>\n",
       "    <tr>\n",
       "      <th>std</th>\n",
       "      <td>2451.782763</td>\n",
       "    </tr>\n",
       "    <tr>\n",
       "      <th>min</th>\n",
       "      <td>495.000000</td>\n",
       "    </tr>\n",
       "    <tr>\n",
       "      <th>25%</th>\n",
       "      <td>2008.000000</td>\n",
       "    </tr>\n",
       "    <tr>\n",
       "      <th>50%</th>\n",
       "      <td>4241.000000</td>\n",
       "    </tr>\n",
       "    <tr>\n",
       "      <th>75%</th>\n",
       "      <td>5876.000000</td>\n",
       "    </tr>\n",
       "    <tr>\n",
       "      <th>max</th>\n",
       "      <td>10939.000000</td>\n",
       "    </tr>\n",
       "  </tbody>\n",
       "</table>\n",
       "</div>"
      ],
      "text/plain": [
       "                  0\n",
       "count     93.000000\n",
       "mean    4176.311828\n",
       "std     2451.782763\n",
       "min      495.000000\n",
       "25%     2008.000000\n",
       "50%     4241.000000\n",
       "75%     5876.000000\n",
       "max    10939.000000"
      ]
     },
     "execution_count": 16,
     "metadata": {},
     "output_type": "execute_result"
    }
   ],
   "source": [
    "article_len = [len(x) for x in scraped_news['article']]\n",
    "pd.DataFrame(article_len).describe()"
   ]
  },
  {
   "cell_type": "markdown",
   "metadata": {},
   "source": [
    "Taking a look at the length of the scraped news articles, we see that the average length of an article is around 4180 characters with a standard deviation of 2450 characters. Therefore when evaluating which algorithm would be suitable for our scraped news articles, I want to evaluate the algorithms based on articles of similar length. As such, I will be removing articles with very short article texts. Furthermore, by selecting longer articles, we will better see the effects of summarization, seeing which points will be selected by the algorithms, given much more options to select from."
   ]
  },
  {
   "cell_type": "code",
   "execution_count": 17,
   "metadata": {},
   "outputs": [
    {
     "data": {
      "text/html": [
       "<div>\n",
       "<style scoped>\n",
       "    .dataframe tbody tr th:only-of-type {\n",
       "        vertical-align: middle;\n",
       "    }\n",
       "\n",
       "    .dataframe tbody tr th {\n",
       "        vertical-align: top;\n",
       "    }\n",
       "\n",
       "    .dataframe thead th {\n",
       "        text-align: right;\n",
       "    }\n",
       "</style>\n",
       "<table border=\"1\" class=\"dataframe\">\n",
       "  <thead>\n",
       "    <tr style=\"text-align: right;\">\n",
       "      <th></th>\n",
       "      <th>author</th>\n",
       "      <th>date</th>\n",
       "      <th>headlines</th>\n",
       "      <th>url</th>\n",
       "      <th>summary</th>\n",
       "      <th>article</th>\n",
       "    </tr>\n",
       "  </thead>\n",
       "  <tbody>\n",
       "    <tr>\n",
       "      <th>8</th>\n",
       "      <td>Parmeet Kaur</td>\n",
       "      <td>03 Aug 2017,Thursday</td>\n",
       "      <td>Chopper flying critically low led to 2015 Bomb...</td>\n",
       "      <td>http://www.hindustantimes.com/mumbai-news/2015...</td>\n",
       "      <td>An inquiry by the Aircraft Accident Investigat...</td>\n",
       "      <td>Two years after a helicopter crash near the Bo...</td>\n",
       "    </tr>\n",
       "    <tr>\n",
       "      <th>14</th>\n",
       "      <td>Sonu Kumari</td>\n",
       "      <td>03 Aug 2017,Thursday</td>\n",
       "      <td>Nearly 2,300 CPWD buildings in Delhi unsafe: U...</td>\n",
       "      <td>http://www.hindustantimes.com/delhi-news/nearl...</td>\n",
       "      <td>A Union Minister of State for Home Affairs inf...</td>\n",
       "      <td>As many as 2,297 residential buildings under t...</td>\n",
       "    </tr>\n",
       "    <tr>\n",
       "      <th>17</th>\n",
       "      <td>Aarushi Maheshwari</td>\n",
       "      <td>03 Aug 2017,Thursday</td>\n",
       "      <td>Maruti spare parts trigger bomb scare at Delhi...</td>\n",
       "      <td>http://indiatoday.intoday.in/story/maruti-spar...</td>\n",
       "      <td>Bomb squads and canine teams were rushed to ch...</td>\n",
       "      <td>New Delhi, Aug 2 (PTI) Bomb squads and canine ...</td>\n",
       "    </tr>\n",
       "    <tr>\n",
       "      <th>18</th>\n",
       "      <td>Arshiya Chopra</td>\n",
       "      <td>03 Aug 2017,Thursday</td>\n",
       "      <td>Virgin means unmarried, nothing offensive in i...</td>\n",
       "      <td>http://indiatoday.intoday.in/story/virgin-igim...</td>\n",
       "      <td>Defending the IGIMS marital declaration form, ...</td>\n",
       "      <td>Bihar Health Minister Mangal Pandey has defend...</td>\n",
       "    </tr>\n",
       "    <tr>\n",
       "      <th>27</th>\n",
       "      <td>Ankush Verma</td>\n",
       "      <td>03 Aug 2017,Thursday</td>\n",
       "      <td>German hiker found in Swiss Alps 30 yrs after ...</td>\n",
       "      <td>http://www.hindustantimes.com/world-news/germa...</td>\n",
       "      <td>The remains of a German hiker, who disappeared...</td>\n",
       "      <td>The remains of a German hiker who disappeared ...</td>\n",
       "    </tr>\n",
       "  </tbody>\n",
       "</table>\n",
       "</div>"
      ],
      "text/plain": [
       "                author                  date  \\\n",
       "8         Parmeet Kaur  03 Aug 2017,Thursday   \n",
       "14         Sonu Kumari  03 Aug 2017,Thursday   \n",
       "17  Aarushi Maheshwari  03 Aug 2017,Thursday   \n",
       "18      Arshiya Chopra  03 Aug 2017,Thursday   \n",
       "27        Ankush Verma  03 Aug 2017,Thursday   \n",
       "\n",
       "                                            headlines  \\\n",
       "8   Chopper flying critically low led to 2015 Bomb...   \n",
       "14  Nearly 2,300 CPWD buildings in Delhi unsafe: U...   \n",
       "17  Maruti spare parts trigger bomb scare at Delhi...   \n",
       "18  Virgin means unmarried, nothing offensive in i...   \n",
       "27  German hiker found in Swiss Alps 30 yrs after ...   \n",
       "\n",
       "                                                  url  \\\n",
       "8   http://www.hindustantimes.com/mumbai-news/2015...   \n",
       "14  http://www.hindustantimes.com/delhi-news/nearl...   \n",
       "17  http://indiatoday.intoday.in/story/maruti-spar...   \n",
       "18  http://indiatoday.intoday.in/story/virgin-igim...   \n",
       "27  http://www.hindustantimes.com/world-news/germa...   \n",
       "\n",
       "                                              summary  \\\n",
       "8   An inquiry by the Aircraft Accident Investigat...   \n",
       "14  A Union Minister of State for Home Affairs inf...   \n",
       "17  Bomb squads and canine teams were rushed to ch...   \n",
       "18  Defending the IGIMS marital declaration form, ...   \n",
       "27  The remains of a German hiker, who disappeared...   \n",
       "\n",
       "                                              article  \n",
       "8   Two years after a helicopter crash near the Bo...  \n",
       "14  As many as 2,297 residential buildings under t...  \n",
       "17  New Delhi, Aug 2 (PTI) Bomb squads and canine ...  \n",
       "18  Bihar Health Minister Mangal Pandey has defend...  \n",
       "27  The remains of a German hiker who disappeared ...  "
      ]
     },
     "execution_count": 17,
     "metadata": {},
     "output_type": "execute_result"
    }
   ],
   "source": [
    "short_articles = data[data['article'].map(len)<=2000]\n",
    "short_articles.head()"
   ]
  },
  {
   "cell_type": "code",
   "execution_count": 18,
   "metadata": {},
   "outputs": [
    {
     "data": {
      "text/plain": [
       "'Two years after a helicopter crash near the Bombay High offshore oil field killed two pilots, an inquiry by the Air Accident Investigation Bureau (AAIB) found that the chopper was flying at a critically low height, without the pilots realising it.  The Pawan Hans helicopter was on a training sortie on the evening of November 4, 2015.  Aviation regulator Director General of Civil Aviation (DGCA) had asked AAIBto conduct an inquiry.  The inquiry report, which was made public on Wednesday, said that the main pilot was flying low and that the other did not realise it.  After taking off, the Rontappmeyer (RYTYR) helicopter may have faced difficulties as the moon was waning, the report said.  The report mentioned that the instructor, Captain E Samuel, wasnt disoriented and was aware of the low height of the helicopter.  He alerted Captain TK Guha a little late, but even after realising that Guha wasnt able to manage the situation, Samuel did not take control of the helicopter. AAIB recommended that ONGC, which owns Bombay High along with the helicopter operators, identify helidecks from where night flying can take place.  AAIB also said that Pawan Hans pilots need to rest sufficiently before flying.  Guha was flying during the night after a gap of almost a year, read the report.  READPawan Hans chopper crash: Both pilots on board still missingWatch: Maharashtra CMs helicopter crash-lands, Devendra Fadnavis safe'"
      ]
     },
     "execution_count": 18,
     "metadata": {},
     "output_type": "execute_result"
    }
   ],
   "source": [
    "short_articles.iloc[0,5]"
   ]
  },
  {
   "cell_type": "code",
   "execution_count": 19,
   "metadata": {},
   "outputs": [
    {
     "data": {
      "text/plain": [
       "\"An inquiry by the Aircraft Accident Investigation Bureau found that the Pawan Hans helicopter was flying at a critically low height, resulting in its crash near Bombay High in 2015. The report further mentioned that the instructor, despite being aware of the low height, didn't take control of the helicopter after the trainee pilot wasn?t able to manage the situation. \""
      ]
     },
     "execution_count": 19,
     "metadata": {},
     "output_type": "execute_result"
    }
   ],
   "source": [
    "short_articles.iloc[0,4]"
   ]
  },
  {
   "cell_type": "markdown",
   "metadata": {},
   "source": [
    "I will be using a random sample size of 100 articles to evaluate the algorithms. No particular reason, more of just not wanting the codes to take too long to run. Anyway, as these algorithms are unsupervised, we do not need a huge dataset which is usually used to train the data."
   ]
  },
  {
   "cell_type": "code",
   "execution_count": 20,
   "metadata": {},
   "outputs": [
    {
     "name": "stdout",
     "output_type": "stream",
     "text": [
      "<class 'pandas.core.frame.DataFrame'>\n",
      "RangeIndex: 100 entries, 0 to 99\n",
      "Data columns (total 7 columns):\n",
      "index        100 non-null int64\n",
      "author       100 non-null object\n",
      "date         100 non-null object\n",
      "headlines    100 non-null object\n",
      "url          100 non-null object\n",
      "summary      100 non-null object\n",
      "article      100 non-null object\n",
      "dtypes: int64(1), object(6)\n",
      "memory usage: 5.6+ KB\n"
     ]
    }
   ],
   "source": [
    "drop_index = short_articles.index\n",
    "long_articles = data.drop(drop_index)\n",
    "\n",
    "random_long_articles = long_articles.sample(100, axis=0, random_state=42)\n",
    "random_long_articles.reset_index(inplace=True)\n",
    "random_long_articles.info()"
   ]
  },
  {
   "cell_type": "markdown",
   "metadata": {},
   "source": [
    "### Modelling"
   ]
  },
  {
   "cell_type": "markdown",
   "metadata": {},
   "source": [
    "I will be applying a list of extractive text summarization algorithms to summarize the articles with the top 3 sentences (such that the generated summaries will roughly be the same length as the ones which were produced by real humans) from each article (which should contain the main points of the article). The list of algorithms include:\n",
    "\n",
    "- Lede-3 (Baseline Model)\n",
    "- LexRank Summarizer\n",
    "- Luhn Summarizer\n",
    "- LSA Summarizer\n",
    "- TextRank Summarizer\n",
    "- Edmundson Summarizer\n",
    "- GloVe + TextRank Summarizer"
   ]
  },
  {
   "cell_type": "markdown",
   "metadata": {},
   "source": [
    "#### Lede-3 (Baseline)"
   ]
  },
  {
   "cell_type": "code",
   "execution_count": 55,
   "metadata": {},
   "outputs": [],
   "source": [
    "lede_3 = []\n",
    "\n",
    "for article in random_long_articles['article']:\n",
    "    summary_sentences = sent_tokenize(article)[0:3]\n",
    "    summary = ' '.join(summary_sentences)\n",
    "    lede_3.append(summary)\n",
    "    \n",
    "random_long_articles['lede_3'] = lede_3"
   ]
  },
  {
   "cell_type": "markdown",
   "metadata": {},
   "source": [
    "#### Parsing the text to prepare for summarization"
   ]
  },
  {
   "cell_type": "code",
   "execution_count": 56,
   "metadata": {},
   "outputs": [],
   "source": [
    "parsed_articles = []\n",
    "\n",
    "for article in random_long_articles['article']:\n",
    "    parser = PlaintextParser.from_string(article, Tokenizer(\"english\"))\n",
    "    parsed_articles.append(parser)"
   ]
  },
  {
   "cell_type": "markdown",
   "metadata": {},
   "source": [
    "#### LexRank Summarizer"
   ]
  },
  {
   "cell_type": "code",
   "execution_count": 79,
   "metadata": {},
   "outputs": [],
   "source": [
    "# Creating instance of LexRank Summarizer\n",
    "summarizer_lex = LexRankSummarizer()\n",
    "lexrank = []\n",
    "\n",
    "for parser in parsed_articles:\n",
    "    summary_sentences = summarizer_lex(parser.document, 3)\n",
    "    summary_sentences = [str(sentence) for sentence in summary_sentences]\n",
    "    summary = ' '.join(summary_sentences)\n",
    "    lexrank.append(summary)\n",
    "    \n",
    "random_long_articles['lexrank'] = lexrank"
   ]
  },
  {
   "cell_type": "markdown",
   "metadata": {},
   "source": [
    "#### Luhn Summarizer"
   ]
  },
  {
   "cell_type": "code",
   "execution_count": 80,
   "metadata": {},
   "outputs": [],
   "source": [
    "summarizer_luhn = LuhnSummarizer()\n",
    "luhn = []\n",
    "\n",
    "for parser in parsed_articles:\n",
    "    summary_sentences = summarizer_luhn(parser.document, 3)\n",
    "    summary_sentences = [str(sentence) for sentence in summary_sentences]\n",
    "    summary = ' '.join(summary_sentences)\n",
    "    luhn.append(summary)\n",
    "    \n",
    "random_long_articles['luhn'] = luhn"
   ]
  },
  {
   "cell_type": "markdown",
   "metadata": {},
   "source": [
    "#### LSA Summarizer"
   ]
  },
  {
   "cell_type": "code",
   "execution_count": 81,
   "metadata": {},
   "outputs": [],
   "source": [
    "summarizer_lsa = LsaSummarizer()\n",
    "lsa = []\n",
    "\n",
    "for parser in parsed_articles:\n",
    "    summary_sentences = summarizer_lsa(parser.document, 3)\n",
    "    summary_sentences = [str(sentence) for sentence in summary_sentences]\n",
    "    summary = ' '.join(summary_sentences)\n",
    "    lsa.append(summary)\n",
    "    \n",
    "random_long_articles['lsa'] = lsa"
   ]
  },
  {
   "cell_type": "markdown",
   "metadata": {},
   "source": [
    "#### TextRank Summarizer"
   ]
  },
  {
   "cell_type": "code",
   "execution_count": 82,
   "metadata": {},
   "outputs": [],
   "source": [
    "summarizer_textrank = TextRankSummarizer()\n",
    "textrank = []\n",
    "\n",
    "for parser in parsed_articles:\n",
    "    summary_sentences = summarizer_textrank(parser.document, 3)\n",
    "    summary_sentences = [str(sentence) for sentence in summary_sentences]\n",
    "    summary = ' '.join(summary_sentences)\n",
    "    textrank.append(summary)\n",
    "    \n",
    "random_long_articles['textrank'] = textrank"
   ]
  },
  {
   "cell_type": "markdown",
   "metadata": {},
   "source": [
    "#### Edmundson Summarizer"
   ]
  },
  {
   "cell_type": "code",
   "execution_count": 83,
   "metadata": {},
   "outputs": [],
   "source": [
    "summarizer_edmundson = EdmundsonSummarizer()\n",
    "edmundson = []\n",
    "\n",
    "for parser in parsed_articles:\n",
    "    summary_sentences = summarizer_lsa(parser.document, 3)\n",
    "    summary_sentences = [str(sentence) for sentence in summary_sentences]\n",
    "    summary = ' '.join(summary_sentences)\n",
    "    edmundson.append(summary)\n",
    "    \n",
    "random_long_articles['edmundson'] = edmundson"
   ]
  },
  {
   "cell_type": "markdown",
   "metadata": {},
   "source": [
    "#### Glove + TextRank Implementation"
   ]
  },
  {
   "cell_type": "code",
   "execution_count": 84,
   "metadata": {},
   "outputs": [],
   "source": [
    "# Cleaning up sentences\n",
    "news_sentences = []\n",
    "news_clean_sentences = []\n",
    "stop_words = stopwords.words('english')\n",
    "lemmatizer = WordNetLemmatizer()\n",
    "\n",
    "\n",
    "# function to remove stopwords\n",
    "def remove_stopwords(words):\n",
    "    clean_sentence = ' '.join([i for i in words if i not in stop_words])\n",
    "    return clean_sentence\n",
    "\n",
    "# function to lemmatize words\n",
    "def lem_words(words):\n",
    "    clean_sentence = ' '.join([lemmatizer.lemmatize(i) for i in words])\n",
    "    return clean_sentence\n",
    "\n",
    "for article in random_long_articles['article']:\n",
    "    \n",
    "    # Splitting into sentences\n",
    "    sentences = sent_tokenize(article)\n",
    "    \n",
    "    # Removing all characters that are not alphabets, aka noise\n",
    "    clean_sentences = [re.sub('[^a-zA-Z]', ' ', sentence).lower() for sentence in sentences]\n",
    "    \n",
    "    # Removing stop words\n",
    "    clean_sentences = [remove_stopwords(sentence.split()) for sentence in clean_sentences]\n",
    "    \n",
    "    # Lemmatizing words\n",
    "    clean_sentences = [lem_words(sentence.split()) for sentence in clean_sentences]\n",
    "\n",
    "    news_sentences.append(sentences)\n",
    "    news_clean_sentences.append(clean_sentences)"
   ]
  },
  {
   "cell_type": "markdown",
   "metadata": {},
   "source": [
    "Vector Representation of Sentences"
   ]
  },
  {
   "cell_type": "code",
   "execution_count": 85,
   "metadata": {},
   "outputs": [],
   "source": [
    "# Extract word vectors\n",
    "word_embeddings_100d = {}\n",
    "f = open('glove.6B.100d.txt', encoding='utf-8')\n",
    "for line in f:\n",
    "    values = line.split()\n",
    "    word = values[0]\n",
    "    coefs = np.asarray(values[1:], dtype='float32')\n",
    "    word_embeddings_100d[word] = coefs\n",
    "f.close()"
   ]
  },
  {
   "cell_type": "code",
   "execution_count": 86,
   "metadata": {},
   "outputs": [],
   "source": [
    "news_vectors = []\n",
    "for article in news_clean_sentences:\n",
    "    sentence_vectors = []\n",
    "    for sentence in article:\n",
    "        if len(sentence) != 0:\n",
    "            v = sum([word_embeddings_100d.get(word, np.zeros((100,))) for word in sentence.split()])/(len(sentence.split())+0.001)\n",
    "        else:\n",
    "            v = np.zeros((100,))\n",
    "        sentence_vectors.append(v)\n",
    "    news_vectors.append(sentence_vectors)"
   ]
  },
  {
   "cell_type": "markdown",
   "metadata": {},
   "source": [
    "Similarity Matrix"
   ]
  },
  {
   "cell_type": "code",
   "execution_count": 87,
   "metadata": {},
   "outputs": [],
   "source": [
    "article_index = 0\n",
    "news_similarity_matrix = []\n",
    "\n",
    "for article in news_sentences:\n",
    "    similarity_matrix = np.zeros([len(article),len(article)])\n",
    "    for i in range(len(article)):\n",
    "        for j in range(len(article)):\n",
    "            if i != j:\n",
    "                similarity_matrix[i][j] = cosine_similarity(news_vectors[article_index][i].reshape(1,100),\n",
    "                                                           news_vectors[article_index][j].reshape(1,100))[0][0]\n",
    "    article_index +=1\n",
    "    news_similarity_matrix.append(similarity_matrix)"
   ]
  },
  {
   "cell_type": "markdown",
   "metadata": {},
   "source": [
    "Applying PageRank Algorithm"
   ]
  },
  {
   "cell_type": "code",
   "execution_count": 88,
   "metadata": {},
   "outputs": [],
   "source": [
    "news_scores = []\n",
    "\n",
    "for matrix in news_similarity_matrix:\n",
    "    nx_graph = nx.from_numpy_array(matrix)\n",
    "    score = nx.pagerank(nx_graph)\n",
    "    news_scores.append(score)"
   ]
  },
  {
   "cell_type": "code",
   "execution_count": 89,
   "metadata": {},
   "outputs": [],
   "source": [
    "article_index = 0\n",
    "news_ranked_sentences = []\n",
    "\n",
    "for article in news_sentences:\n",
    "    ranked_sentences = sorted([(news_scores[article_index][i], s) for i,s in enumerate(article)], reverse=True)\n",
    "    article_index += 1\n",
    "    news_ranked_sentences.append(ranked_sentences)"
   ]
  },
  {
   "cell_type": "code",
   "execution_count": 91,
   "metadata": {},
   "outputs": [],
   "source": [
    "news_summary = []\n",
    "\n",
    "for article in news_ranked_sentences:\n",
    "    top_sentences = [s[1] for s in article[0:3]]\n",
    "    summary = ' '.join(top_sentences)\n",
    "    news_summary.append(summary)\n",
    "    \n",
    "random_long_articles['glove_textrank'] = news_summary"
   ]
  },
  {
   "cell_type": "markdown",
   "metadata": {},
   "source": [
    "### Evaluation"
   ]
  },
  {
   "cell_type": "markdown",
   "metadata": {},
   "source": [
    "I will be using the Rouge Score to evaluate the performance of the different algorithms. Comparison will be made between the actual summaries which were written by real human editors and the summaries generated by the algorithms."
   ]
  },
  {
   "cell_type": "code",
   "execution_count": 92,
   "metadata": {},
   "outputs": [],
   "source": [
    "models = ['lede_3', 'lexrank', 'luhn', 'lsa', 'textrank', 'edmundson', 'glove_textrank']\n",
    "rouge_precision = pd.DataFrame(columns=models)\n",
    "rouge_recall = pd.DataFrame(columns=models)\n",
    "rouge_f1 = pd.DataFrame(columns=models)\n",
    "scorer = rouge_scorer.RougeScorer(['rouge1'], use_stemmer=True)\n",
    "\n",
    "for model in models:\n",
    "    model_precision = []\n",
    "    model_recall = []\n",
    "    model_f1 = []\n",
    "    for i in range(int(len(random_long_articles)-1)):\n",
    "        scores = scorer.score(random_long_articles['summary'][i], random_long_articles[model][i])\n",
    "        model_precision.append(scores['rouge1'][0])\n",
    "        model_recall.append(scores['rouge1'][1])\n",
    "        model_f1.append(scores['rouge1'][2])\n",
    "    rouge_precision[model] = model_precision\n",
    "    rouge_recall[model] = model_recall\n",
    "    rouge_f1[model] = model_f1"
   ]
  },
  {
   "cell_type": "markdown",
   "metadata": {},
   "source": [
    "ROUGE-n recall=40% means that 40% of the n-grams in the reference summary are also present in the generated summary."
   ]
  },
  {
   "cell_type": "code",
   "execution_count": 117,
   "metadata": {},
   "outputs": [
    {
     "data": {
      "text/html": [
       "<div>\n",
       "<style scoped>\n",
       "    .dataframe tbody tr th:only-of-type {\n",
       "        vertical-align: middle;\n",
       "    }\n",
       "\n",
       "    .dataframe tbody tr th {\n",
       "        vertical-align: top;\n",
       "    }\n",
       "\n",
       "    .dataframe thead th {\n",
       "        text-align: right;\n",
       "    }\n",
       "</style>\n",
       "<table border=\"1\" class=\"dataframe\">\n",
       "  <thead>\n",
       "    <tr style=\"text-align: right;\">\n",
       "      <th></th>\n",
       "      <th>lede_3</th>\n",
       "      <th>lexrank</th>\n",
       "      <th>luhn</th>\n",
       "      <th>lsa</th>\n",
       "      <th>textrank</th>\n",
       "      <th>edmundson</th>\n",
       "      <th>glove_textrank</th>\n",
       "    </tr>\n",
       "  </thead>\n",
       "  <tbody>\n",
       "    <tr>\n",
       "      <th>recall</th>\n",
       "      <td>0.513883</td>\n",
       "      <td>0.465951</td>\n",
       "      <td>0.49476</td>\n",
       "      <td>0.376341</td>\n",
       "      <td>0.483477</td>\n",
       "      <td>0.376341</td>\n",
       "      <td>0.471846</td>\n",
       "    </tr>\n",
       "  </tbody>\n",
       "</table>\n",
       "</div>"
      ],
      "text/plain": [
       "          lede_3   lexrank     luhn       lsa  textrank  edmundson  \\\n",
       "recall  0.513883  0.465951  0.49476  0.376341  0.483477   0.376341   \n",
       "\n",
       "        glove_textrank  \n",
       "recall        0.471846  "
      ]
     },
     "execution_count": 117,
     "metadata": {},
     "output_type": "execute_result"
    }
   ],
   "source": [
    "recall = pd.DataFrame([rouge_recall.mean()], index=['recall'])\n",
    "recall"
   ]
  },
  {
   "cell_type": "markdown",
   "metadata": {},
   "source": [
    "ROUGE-n precision=40% means that 40% of the n-grams in the generated summary are also present in the reference summary"
   ]
  },
  {
   "cell_type": "code",
   "execution_count": 118,
   "metadata": {},
   "outputs": [
    {
     "data": {
      "text/html": [
       "<div>\n",
       "<style scoped>\n",
       "    .dataframe tbody tr th:only-of-type {\n",
       "        vertical-align: middle;\n",
       "    }\n",
       "\n",
       "    .dataframe tbody tr th {\n",
       "        vertical-align: top;\n",
       "    }\n",
       "\n",
       "    .dataframe thead th {\n",
       "        text-align: right;\n",
       "    }\n",
       "</style>\n",
       "<table border=\"1\" class=\"dataframe\">\n",
       "  <thead>\n",
       "    <tr style=\"text-align: right;\">\n",
       "      <th></th>\n",
       "      <th>lede_3</th>\n",
       "      <th>lexrank</th>\n",
       "      <th>luhn</th>\n",
       "      <th>lsa</th>\n",
       "      <th>textrank</th>\n",
       "      <th>edmundson</th>\n",
       "      <th>glove_textrank</th>\n",
       "    </tr>\n",
       "  </thead>\n",
       "  <tbody>\n",
       "    <tr>\n",
       "      <th>precision</th>\n",
       "      <td>0.397336</td>\n",
       "      <td>0.327083</td>\n",
       "      <td>0.282885</td>\n",
       "      <td>0.298557</td>\n",
       "      <td>0.270421</td>\n",
       "      <td>0.298557</td>\n",
       "      <td>0.296988</td>\n",
       "    </tr>\n",
       "  </tbody>\n",
       "</table>\n",
       "</div>"
      ],
      "text/plain": [
       "             lede_3   lexrank      luhn       lsa  textrank  edmundson  \\\n",
       "precision  0.397336  0.327083  0.282885  0.298557  0.270421   0.298557   \n",
       "\n",
       "           glove_textrank  \n",
       "precision        0.296988  "
      ]
     },
     "execution_count": 118,
     "metadata": {},
     "output_type": "execute_result"
    }
   ],
   "source": [
    "precision = pd.DataFrame([rouge_precision.mean()], index=['precision'])\n",
    "precision"
   ]
  },
  {
   "cell_type": "markdown",
   "metadata": {},
   "source": [
    "ROUGE-n F1-score=40% is more difficult to interpret, like any F1-score."
   ]
  },
  {
   "cell_type": "code",
   "execution_count": 119,
   "metadata": {},
   "outputs": [
    {
     "data": {
      "text/html": [
       "<div>\n",
       "<style scoped>\n",
       "    .dataframe tbody tr th:only-of-type {\n",
       "        vertical-align: middle;\n",
       "    }\n",
       "\n",
       "    .dataframe tbody tr th {\n",
       "        vertical-align: top;\n",
       "    }\n",
       "\n",
       "    .dataframe thead th {\n",
       "        text-align: right;\n",
       "    }\n",
       "</style>\n",
       "<table border=\"1\" class=\"dataframe\">\n",
       "  <thead>\n",
       "    <tr style=\"text-align: right;\">\n",
       "      <th></th>\n",
       "      <th>lede_3</th>\n",
       "      <th>lexrank</th>\n",
       "      <th>luhn</th>\n",
       "      <th>lsa</th>\n",
       "      <th>textrank</th>\n",
       "      <th>edmundson</th>\n",
       "      <th>glove_textrank</th>\n",
       "    </tr>\n",
       "  </thead>\n",
       "  <tbody>\n",
       "    <tr>\n",
       "      <th>f1</th>\n",
       "      <td>0.439107</td>\n",
       "      <td>0.377744</td>\n",
       "      <td>0.355731</td>\n",
       "      <td>0.327353</td>\n",
       "      <td>0.3428</td>\n",
       "      <td>0.327353</td>\n",
       "      <td>0.35963</td>\n",
       "    </tr>\n",
       "  </tbody>\n",
       "</table>\n",
       "</div>"
      ],
      "text/plain": [
       "      lede_3   lexrank      luhn       lsa  textrank  edmundson  \\\n",
       "f1  0.439107  0.377744  0.355731  0.327353    0.3428   0.327353   \n",
       "\n",
       "    glove_textrank  \n",
       "f1         0.35963  "
      ]
     },
     "execution_count": 119,
     "metadata": {},
     "output_type": "execute_result"
    }
   ],
   "source": [
    "f1 = pd.DataFrame([rouge_f1.mean()], index=['f1'])\n",
    "f1"
   ]
  },
  {
   "cell_type": "code",
   "execution_count": 121,
   "metadata": {},
   "outputs": [
    {
     "data": {
      "text/html": [
       "<div>\n",
       "<style scoped>\n",
       "    .dataframe tbody tr th:only-of-type {\n",
       "        vertical-align: middle;\n",
       "    }\n",
       "\n",
       "    .dataframe tbody tr th {\n",
       "        vertical-align: top;\n",
       "    }\n",
       "\n",
       "    .dataframe thead th {\n",
       "        text-align: right;\n",
       "    }\n",
       "</style>\n",
       "<table border=\"1\" class=\"dataframe\">\n",
       "  <thead>\n",
       "    <tr style=\"text-align: right;\">\n",
       "      <th></th>\n",
       "      <th>lede_3</th>\n",
       "      <th>lexrank</th>\n",
       "      <th>luhn</th>\n",
       "      <th>lsa</th>\n",
       "      <th>textrank</th>\n",
       "      <th>edmundson</th>\n",
       "      <th>glove_textrank</th>\n",
       "    </tr>\n",
       "  </thead>\n",
       "  <tbody>\n",
       "    <tr>\n",
       "      <th>recall</th>\n",
       "      <td>0.513883</td>\n",
       "      <td>0.465951</td>\n",
       "      <td>0.494760</td>\n",
       "      <td>0.376341</td>\n",
       "      <td>0.483477</td>\n",
       "      <td>0.376341</td>\n",
       "      <td>0.471846</td>\n",
       "    </tr>\n",
       "    <tr>\n",
       "      <th>precision</th>\n",
       "      <td>0.397336</td>\n",
       "      <td>0.327083</td>\n",
       "      <td>0.282885</td>\n",
       "      <td>0.298557</td>\n",
       "      <td>0.270421</td>\n",
       "      <td>0.298557</td>\n",
       "      <td>0.296988</td>\n",
       "    </tr>\n",
       "    <tr>\n",
       "      <th>f1</th>\n",
       "      <td>0.439107</td>\n",
       "      <td>0.377744</td>\n",
       "      <td>0.355731</td>\n",
       "      <td>0.327353</td>\n",
       "      <td>0.342800</td>\n",
       "      <td>0.327353</td>\n",
       "      <td>0.359630</td>\n",
       "    </tr>\n",
       "  </tbody>\n",
       "</table>\n",
       "</div>"
      ],
      "text/plain": [
       "             lede_3   lexrank      luhn       lsa  textrank  edmundson  \\\n",
       "recall     0.513883  0.465951  0.494760  0.376341  0.483477   0.376341   \n",
       "precision  0.397336  0.327083  0.282885  0.298557  0.270421   0.298557   \n",
       "f1         0.439107  0.377744  0.355731  0.327353  0.342800   0.327353   \n",
       "\n",
       "           glove_textrank  \n",
       "recall           0.471846  \n",
       "precision        0.296988  \n",
       "f1               0.359630  "
      ]
     },
     "execution_count": 121,
     "metadata": {},
     "output_type": "execute_result"
    }
   ],
   "source": [
    "summarization_rouge = pd.concat([recall, precision, f1])\n",
    "summarization_rouge"
   ]
  },
  {
   "cell_type": "markdown",
   "metadata": {},
   "source": [
    "### Scraped News Summary"
   ]
  },
  {
   "cell_type": "code",
   "execution_count": 114,
   "metadata": {},
   "outputs": [],
   "source": [
    "lede_3_scraped = []\n",
    "\n",
    "for article in scraped_news['article']:\n",
    "    summary_sentences = sent_tokenize(article)[0:3]\n",
    "    summary = ' '.join(summary_sentences)\n",
    "    lede_3_scraped.append(summary)\n",
    "    \n",
    "scraped_news['summary'] = lede_3_scraped"
   ]
  },
  {
   "cell_type": "code",
   "execution_count": 115,
   "metadata": {},
   "outputs": [
    {
     "data": {
      "text/html": [
       "<div>\n",
       "<style scoped>\n",
       "    .dataframe tbody tr th:only-of-type {\n",
       "        vertical-align: middle;\n",
       "    }\n",
       "\n",
       "    .dataframe tbody tr th {\n",
       "        vertical-align: top;\n",
       "    }\n",
       "\n",
       "    .dataframe thead th {\n",
       "        text-align: right;\n",
       "    }\n",
       "</style>\n",
       "<table border=\"1\" class=\"dataframe\">\n",
       "  <thead>\n",
       "    <tr style=\"text-align: right;\">\n",
       "      <th></th>\n",
       "      <th>headline</th>\n",
       "      <th>url</th>\n",
       "      <th>published_date</th>\n",
       "      <th>article</th>\n",
       "      <th>source</th>\n",
       "      <th>summary</th>\n",
       "    </tr>\n",
       "  </thead>\n",
       "  <tbody>\n",
       "    <tr>\n",
       "      <th>0</th>\n",
       "      <td>GOP strains to contain Bolton fallout in impea...</td>\n",
       "      <td>https://apnews.com/34f8a36cfc3a15ffeede3a74cd0...</td>\n",
       "      <td>2020-01-29</td>\n",
       "      <td>WASHINGTON (AP) — President Donald Trump’s imp...</td>\n",
       "      <td>Associated Press News</td>\n",
       "      <td>WASHINGTON (AP) — President Donald Trump’s imp...</td>\n",
       "    </tr>\n",
       "    <tr>\n",
       "      <th>1</th>\n",
       "      <td>Brexit: MEPs say goodbye to UK ahead of Brexit...</td>\n",
       "      <td>https://www.bbc.com/news/uk-politics-51287430</td>\n",
       "      <td>2020-01-29</td>\n",
       "      <td>Members of the European Parliament are bidding...</td>\n",
       "      <td>BBC</td>\n",
       "      <td>Members of the European Parliament are bidding...</td>\n",
       "    </tr>\n",
       "    <tr>\n",
       "      <th>2</th>\n",
       "      <td>Australian Open: Dominic Thiem stuns Rafael Na...</td>\n",
       "      <td>https://www.bbc.com/sport/tennis/51295106</td>\n",
       "      <td>2020-01-29</td>\n",
       "      <td>Top seed Rafael Nadal was denied a place in th...</td>\n",
       "      <td>BBC</td>\n",
       "      <td>Top seed Rafael Nadal was denied a place in th...</td>\n",
       "    </tr>\n",
       "    <tr>\n",
       "      <th>3</th>\n",
       "      <td>Coronavirus: Denmark in cartoon bust-up with C...</td>\n",
       "      <td>https://www.bbc.com/news/world-europe-51295225</td>\n",
       "      <td>2020-01-29</td>\n",
       "      <td>A Danish newspaper has rejected China's demand...</td>\n",
       "      <td>BBC</td>\n",
       "      <td>A Danish newspaper has rejected China's demand...</td>\n",
       "    </tr>\n",
       "    <tr>\n",
       "      <th>4</th>\n",
       "      <td>Kunal Kamra: Airline ban on India comedian spa...</td>\n",
       "      <td>https://www.bbc.com/news/world-asia-india-5129...</td>\n",
       "      <td>2020-01-29</td>\n",
       "      <td>That is the burning question currently being d...</td>\n",
       "      <td>BBC</td>\n",
       "      <td>That is the burning question currently being d...</td>\n",
       "    </tr>\n",
       "    <tr>\n",
       "      <th>...</th>\n",
       "      <td>...</td>\n",
       "      <td>...</td>\n",
       "      <td>...</td>\n",
       "      <td>...</td>\n",
       "      <td>...</td>\n",
       "      <td>...</td>\n",
       "    </tr>\n",
       "    <tr>\n",
       "      <th>88</th>\n",
       "      <td>Americans flown from China virus zone arrive i...</td>\n",
       "      <td>https://apnews.com/e3f13d6f778eae1dd6a062499ed...</td>\n",
       "      <td>2020-01-28</td>\n",
       "      <td>RIVERSIDE, Calif. (AP) — A plane evacuating 20...</td>\n",
       "      <td>Associated Press News</td>\n",
       "      <td>RIVERSIDE, Calif. (AP) — A plane evacuating 20...</td>\n",
       "    </tr>\n",
       "    <tr>\n",
       "      <th>89</th>\n",
       "      <td>Tokushoryu win: Underdog sumo wrestler celebra...</td>\n",
       "      <td>https://www.bbc.com/news/world-asia-51283431</td>\n",
       "      <td>2020-01-28</td>\n",
       "      <td>No-one could have predicted the victory of sum...</td>\n",
       "      <td>BBC</td>\n",
       "      <td>No-one could have predicted the victory of sum...</td>\n",
       "    </tr>\n",
       "    <tr>\n",
       "      <th>90</th>\n",
       "      <td>China coronavirus: Misinformation spreads onli...</td>\n",
       "      <td>https://www.bbc.com/news/blogs-trending-51271037</td>\n",
       "      <td>2020-01-28</td>\n",
       "      <td>More than 100 people have now been killed by t...</td>\n",
       "      <td>BBC</td>\n",
       "      <td>More than 100 people have now been killed by t...</td>\n",
       "    </tr>\n",
       "    <tr>\n",
       "      <th>91</th>\n",
       "      <td>Virus in China affects sports events, Olympic ...</td>\n",
       "      <td>https://apnews.com/ca92d5f5ad02c17ea31399b026a...</td>\n",
       "      <td>2020-01-28</td>\n",
       "      <td>GENEVA (AP) — Amid growing concern about the s...</td>\n",
       "      <td>Associated Press News</td>\n",
       "      <td>GENEVA (AP) — Amid growing concern about the s...</td>\n",
       "    </tr>\n",
       "    <tr>\n",
       "      <th>92</th>\n",
       "      <td>I Can't Work With You! How Political Fights Le...</td>\n",
       "      <td>https://www.npr.org/2020/01/28/798593323/i-can...</td>\n",
       "      <td>2020-01-28</td>\n",
       "      <td>Amid impeachment and the 2020 election, survey...</td>\n",
       "      <td>NPR</td>\n",
       "      <td>Amid impeachment and the 2020 election, survey...</td>\n",
       "    </tr>\n",
       "  </tbody>\n",
       "</table>\n",
       "<p>93 rows × 6 columns</p>\n",
       "</div>"
      ],
      "text/plain": [
       "                                             headline  \\\n",
       "0   GOP strains to contain Bolton fallout in impea...   \n",
       "1   Brexit: MEPs say goodbye to UK ahead of Brexit...   \n",
       "2   Australian Open: Dominic Thiem stuns Rafael Na...   \n",
       "3   Coronavirus: Denmark in cartoon bust-up with C...   \n",
       "4   Kunal Kamra: Airline ban on India comedian spa...   \n",
       "..                                                ...   \n",
       "88  Americans flown from China virus zone arrive i...   \n",
       "89  Tokushoryu win: Underdog sumo wrestler celebra...   \n",
       "90  China coronavirus: Misinformation spreads onli...   \n",
       "91  Virus in China affects sports events, Olympic ...   \n",
       "92  I Can't Work With You! How Political Fights Le...   \n",
       "\n",
       "                                                  url published_date  \\\n",
       "0   https://apnews.com/34f8a36cfc3a15ffeede3a74cd0...     2020-01-29   \n",
       "1       https://www.bbc.com/news/uk-politics-51287430     2020-01-29   \n",
       "2           https://www.bbc.com/sport/tennis/51295106     2020-01-29   \n",
       "3      https://www.bbc.com/news/world-europe-51295225     2020-01-29   \n",
       "4   https://www.bbc.com/news/world-asia-india-5129...     2020-01-29   \n",
       "..                                                ...            ...   \n",
       "88  https://apnews.com/e3f13d6f778eae1dd6a062499ed...     2020-01-28   \n",
       "89       https://www.bbc.com/news/world-asia-51283431     2020-01-28   \n",
       "90   https://www.bbc.com/news/blogs-trending-51271037     2020-01-28   \n",
       "91  https://apnews.com/ca92d5f5ad02c17ea31399b026a...     2020-01-28   \n",
       "92  https://www.npr.org/2020/01/28/798593323/i-can...     2020-01-28   \n",
       "\n",
       "                                              article                 source  \\\n",
       "0   WASHINGTON (AP) — President Donald Trump’s imp...  Associated Press News   \n",
       "1   Members of the European Parliament are bidding...                    BBC   \n",
       "2   Top seed Rafael Nadal was denied a place in th...                    BBC   \n",
       "3   A Danish newspaper has rejected China's demand...                    BBC   \n",
       "4   That is the burning question currently being d...                    BBC   \n",
       "..                                                ...                    ...   \n",
       "88  RIVERSIDE, Calif. (AP) — A plane evacuating 20...  Associated Press News   \n",
       "89  No-one could have predicted the victory of sum...                    BBC   \n",
       "90  More than 100 people have now been killed by t...                    BBC   \n",
       "91  GENEVA (AP) — Amid growing concern about the s...  Associated Press News   \n",
       "92  Amid impeachment and the 2020 election, survey...                    NPR   \n",
       "\n",
       "                                              summary  \n",
       "0   WASHINGTON (AP) — President Donald Trump’s imp...  \n",
       "1   Members of the European Parliament are bidding...  \n",
       "2   Top seed Rafael Nadal was denied a place in th...  \n",
       "3   A Danish newspaper has rejected China's demand...  \n",
       "4   That is the burning question currently being d...  \n",
       "..                                                ...  \n",
       "88  RIVERSIDE, Calif. (AP) — A plane evacuating 20...  \n",
       "89  No-one could have predicted the victory of sum...  \n",
       "90  More than 100 people have now been killed by t...  \n",
       "91  GENEVA (AP) — Amid growing concern about the s...  \n",
       "92  Amid impeachment and the 2020 election, survey...  \n",
       "\n",
       "[93 rows x 6 columns]"
      ]
     },
     "execution_count": 115,
     "metadata": {},
     "output_type": "execute_result"
    }
   ],
   "source": [
    "scraped_news"
   ]
  },
  {
   "cell_type": "markdown",
   "metadata": {},
   "source": [
    "### Conclusion"
   ]
  },
  {
   "cell_type": "markdown",
   "metadata": {},
   "source": [
    "From the mean results of the Rouge Score for each article, it can be seen that the lede-3, which is our baseline model, performs better than that all the other algorithms implemented. The lede-3 method is basically summarization by using the first few words or sentences of a text. The reason why the lede-3 is so competitive and may even outperform the other algorithms could due to the nature of the way news articles are written, whereby the main points can usually be found at the start of the article.\n",
    "\n",
    "When it comes to automatic text summarization, there are so many other methods and applications for it. So far, we have only dealt with some of the extractive text summarization algorithms on news articles, and that is only like a small little fish in the big ocean. Perhaps if we were to look at other kinds of documents, such as reviews or whatnot, the other extractive text summarization algorithms might perform better than the baseline model, lede-3. \n",
    "\n",
    "Nevertheless, other types of text summarization should also be explored, such as abstractive text summarization, though it is noted that it is computationally expensive. A huge dataset and lots of time would be needed to train the model in order for it to perform optimally. Another strategy would be to use a mixed strategy of both extractive and abstractive text summarization methods.\n",
    "\n",
    "Ultimately, since the the lede-3 baseline model is able to show the best results, we will proceed with using it on our scraped news data until we are able to find other algorithms that can outperform the baseline model. Sometimes, the simpler model will do just fine too, but definitely, more research can be done on text summarization to find better algorithms."
   ]
  },
  {
   "cell_type": "code",
   "execution_count": null,
   "metadata": {},
   "outputs": [],
   "source": []
  }
 ],
 "metadata": {
  "kernelspec": {
   "display_name": "Python 3",
   "language": "python",
   "name": "python3"
  },
  "language_info": {
   "codemirror_mode": {
    "name": "ipython",
    "version": 3
   },
   "file_extension": ".py",
   "mimetype": "text/x-python",
   "name": "python",
   "nbconvert_exporter": "python",
   "pygments_lexer": "ipython3",
   "version": "3.7.1"
  }
 },
 "nbformat": 4,
 "nbformat_minor": 2
}

{
 "cells": [
  {
   "cell_type": "markdown",
   "metadata": {},
   "source": [
    "# ![](https://ga-dash.s3.amazonaws.com/production/assets/logo-9f88ae6c9c3871690e33280fcf557f33.png) Project 1: Standardized Testing, Statistical Summaries and Inference\n"
   ]
  },
  {
   "cell_type": "markdown",
   "metadata": {},
   "source": [
    "## Problem Statement"
   ]
  },
  {
   "cell_type": "markdown",
   "metadata": {},
   "source": [
    "To analyse and give recommendations on where the organization should focus their efforts to improve SAT participation rates."
   ]
  },
  {
   "cell_type": "markdown",
   "metadata": {},
   "source": [
    "## Executive Summary"
   ]
  },
  {
   "cell_type": "markdown",
   "metadata": {},
   "source": [
    "This project analyses data of participation rates and scores for students taking the SAT and ACT tests across the various states in the US. The data provided consists of the scores for the different sub-tests as well as the total score for each state. Additional data was explored, mainly consisting of the population of students taking the SAT tests and the median household income of each state, to explore if these variables have any relationship with the SAT participation rate.\n",
    "\n"
   ]
  },
  {
   "cell_type": "markdown",
   "metadata": {},
   "source": [
    "## Conclusions and Recommendations"
   ]
  },
  {
   "cell_type": "markdown",
   "metadata": {},
   "source": [
    "It seems that participation rates and total scores are negatively correlated. Generally, when a state experiences a huge increase in the participation rates, their total score seems to drop quite drastically too. However, one factor I would keep in mind when selecting the state to focus on would be the median household income. It seems that states with a higher median household income tend to have higher SAT participation rate. With a generally higher household income, it would mean it would be easier to get students in the state to take the SAT exams as they can better afford it and would also have better access to facilities and support to aid them in their studies, which would also better enable them to achieve a higher SAT score.\n",
    "\n",
    "Another factor to take note of is that we should try to target states where ACT participation rate is not 100% as a 100% ACT participation rate would probably mean that the ACT test is mandatory in that particular state which would mean that it would be harder to implement a strategy to increase SAT participation rates.\n",
    "\n",
    "Considering the above-mentioned factors, the state that I recommend the College Board focuses its efforts on would be Alaska. This could be done by one of the methods applicable to Colorado or Illinois, either for the College Board to bid with the specified country's exam board to give its exams to the students of that state or by trying to make the SAT exams mandatory in that state.\n",
    "\n",
    "With Alaska having the highest median household income out of our shortlisted list , it stands to say that students will better able to afford for any examination fees required, which would therefore mean that it will be easier to get the students to take the tests. Having a good access to facilities and support to aid them in their studies would also mean that the state's SAT score might not be so negatively affected when more students start taking the tests. Also, with a relatively smaller population, each additional student who takes the SAT exams would results in a bigger increase in participation rate. "
   ]
  },
  {
   "cell_type": "markdown",
   "metadata": {},
   "source": [
    "## Data Dictionary"
   ]
  },
  {
   "cell_type": "markdown",
   "metadata": {},
   "source": [
    "|Feature                  |Type     |Dataset      |Description                               |\n",
    "|-------------------------|---------|-------------|------------------------------------------|\n",
    "|state                    |object   |final_data   |State of the data                         |\n",
    "|sat17_participation_percentage|int|final_data|State participation rate for SAT 2017|\n",
    "|sat17_erw|int|final_data|State average Evidence-Based Reading and Writing Score for SAT 2017|\n",
    "|sat17_math|int|final_data|State average Math score for SAT 2017|\n",
    "|sat17_total|int|final_data|State average Total score for SAT 2017|\n",
    "|act17_participation_percentage|int|final_data|State participation rate for ACT 2017|\n",
    "|act17_english|float|final_data|State average English score for ACT 2017|\n",
    "|act17_math|float|final_data|State average Math score for ACT 2017|\n",
    "|act17_reading|float|final_data|State average Reading score for ACT 2017|\n",
    "|act17_science|float|final_data|State average Science score for ACT 2017|\n",
    "|act17_composite|float|final_data|State average Composite score for ACT 2017|\n",
    "|sat18_participation_percentage|int|final_data|State participation rate for SAT 2018|\n",
    "|sat18_erw|int|final_data|State average Evidence-Based Reading and Writing Score for SAT 2018|\n",
    "|sat18_math|int|final_data|State average Math score for SAT 2018|\n",
    "|sat18_total|int|final_data|State average Total score for SAT 2018|\n",
    "|act18_participation_percentage|int|final_data|State participation rate for ACT 2018|\n",
    "|act18_english|float|final_data|State average English score for ACT 2018|\n",
    "|act18_math|float|final_data|State average Math score for ACT 2018|\n",
    "|act18_reading|float|final_data|State average Reading score for ACT 2018|\n",
    "|act18_science|float|final_data|State average Science score for ACT 2018|\n",
    "|act18_composite|float|final_data|State average Composite score for ACT 2018|\n",
    "|sat18_sat_takers|int|final_data|Number of SAT 2018 takers in state|\n",
    "|sat17_takers|int|sat_stats|Number of SAT 2017 takers in state|\n",
    "|2017_high_school_graduates|int|sat_stats|Number of high school graduates for 2017 in state|\n",
    "|sat18_takers|int|sat_stats|Number of SAT 2018 takers in state|\n",
    "|2018_high_school_graduates|int|sat_stats|Number of high school graduates for 2018 in state|\n",
    "|median_household_income|int|sat_stats|Median household income for state|"
   ]
  }
 ],
 "metadata": {
  "kernelspec": {
   "display_name": "Python 3",
   "language": "python",
   "name": "python3"
  },
  "language_info": {
   "codemirror_mode": {
    "name": "ipython",
    "version": 3
   },
   "file_extension": ".py",
   "mimetype": "text/x-python",
   "name": "python",
   "nbconvert_exporter": "python",
   "pygments_lexer": "ipython3",
   "version": "3.7.1"
  }
 },
 "nbformat": 4,
 "nbformat_minor": 2
}
